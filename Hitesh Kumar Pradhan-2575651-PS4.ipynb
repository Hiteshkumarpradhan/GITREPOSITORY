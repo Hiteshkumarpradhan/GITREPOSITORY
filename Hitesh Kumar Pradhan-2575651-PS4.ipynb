{
 "cells": [
  {
   "cell_type": "markdown",
   "id": "0f372462",
   "metadata": {},
   "source": [
    "# 1. Write a python program with Exception handling to input marks for five subjects Physics, Chemistry, Biology, Mathematics, and Computer. Calculate the percentage and grade according\n",
    "to the following:"
   ]
  },
  {
   "cell_type": "markdown",
   "id": "975f38de",
   "metadata": {},
   "source": [
    "i) Percentage >=90%: Grade A\n",
    "\n",
    "ii) Percentage >=80%: Grade B\n",
    "\n",
    "iii) Percentage >=70%: Grade C\n",
    "\n",
    "iv) Percentage >=60%: Grade D\n",
    "\n",
    "v) Percentage >= 40%: Grade E\n",
    "\n",
    "vi) Percentage <40%: Grade F\n"
   ]
  },
  {
   "cell_type": "code",
   "execution_count": 1,
   "id": "7ff9a334",
   "metadata": {},
   "outputs": [
    {
     "name": "stdout",
     "output_type": "stream",
     "text": [
      "Enter Physics marks: 80\n",
      "Enter Chemistry marks: 75\n",
      "Enter Biology marks: 85\n",
      "Enter Mathematics marks: 70\n",
      "Enter Computer marks: 90\n",
      "Total Marks: 400.0\n",
      "Percentage: 80.00%\n",
      "Grade: B\n"
     ]
    }
   ],
   "source": [
    "try:\n",
    "    physics = float(input(\"Enter Physics marks: \"))\n",
    "    chemistry = float(input(\"Enter Chemistry marks: \"))\n",
    "    biology = float(input(\"Enter Biology marks: \"))\n",
    "    mathematics = float(input(\"Enter Mathematics marks: \"))\n",
    "    computer = float(input(\"Enter Computer marks: \"))\n",
    "    if (\n",
    "        physics < 0\n",
    "        or chemistry < 0\n",
    "        or biology < 0\n",
    "        or mathematics < 0\n",
    "        or computer < 0\n",
    "        or physics > 100\n",
    "        or chemistry > 100\n",
    "        or biology > 100\n",
    "        or mathematics > 100\n",
    "        or computer > 100\n",
    "    ):\n",
    "        raise ValueError(\"Marks should be between 0 and 100\")\n",
    "    total_marks = physics + chemistry + biology + mathematics + computer\n",
    "    percentage = (total_marks / 500) * 100\n",
    "    if percentage >= 90:\n",
    "        grade = \"A\"\n",
    "    elif percentage >= 80:\n",
    "        grade = \"B\"\n",
    "    elif percentage >= 70:\n",
    "        grade = \"C\"\n",
    "    elif percentage >= 60:\n",
    "        grade = \"D\"\n",
    "    elif percentage >= 40:\n",
    "        grade = \"E\"\n",
    "    else:\n",
    "        grade = \"F\"\n",
    "    print(f\"Total Marks: {total_marks}\")\n",
    "    print(f\"Percentage: {percentage:.2f}%\")\n",
    "    print(f\"Grade: {grade}\")\n",
    "\n",
    "except ValueError as e:\n",
    "    print(f\"Error: {e}. Please enter valid marks between 0 and 100.\")\n",
    "except Exception as e:\n",
    "    print(f\"An error occurred: {e}\")\n"
   ]
  },
  {
   "cell_type": "markdown",
   "id": "c29c89dc",
   "metadata": {},
   "source": [
    "# 2. Write a python program with Exception handling to input electricity unit charges and calculate the total electricity bill according to the given condition:\n"
   ]
  },
  {
   "cell_type": "markdown",
   "id": "bc89c4aa",
   "metadata": {},
   "source": [
    "i) For the first 50 units Rs. 0.50/unit\n",
    "\n",
    "ii) For the next 100 units Rs. 0.75/unit\n",
    "\n",
    "iii) For the next 100 units Rs. 1.20/unit\n",
    "\n",
    "iv) For units above 250 Rs. 1.50/unit\n",
    "\n",
    "v) An additional surcharge of 20% is added to the bill."
   ]
  },
  {
   "cell_type": "code",
   "execution_count": 13,
   "id": "5c7e8cae",
   "metadata": {},
   "outputs": [
    {
     "name": "stdout",
     "output_type": "stream",
     "text": [
      "Enter the electricity unit charges: 6\n",
      "Total Electricity Bill (with 20% surcharge): Rs. 3.60\n"
     ]
    }
   ],
   "source": [
    "try:\n",
    "    units = float(input(\"Enter the electricity unit charges: \"))\n",
    "    if units <= 0:\n",
    "        raise ValueError(\"Units should be a positive number\")\n",
    "    if units <= 50:\n",
    "        total_bill = units * 0.50\n",
    "    elif units <= 150:\n",
    "        total_bill = 50 * 0.50 + (units - 50) * 0.75\n",
    "    elif units <= 250:\n",
    "        total_bill = 50 * 0.50 + 100 * 0.75 + (units - 150) * 1.20\n",
    "    else:\n",
    "        total_bill = 50 * 0.50 + 100 * 0.75 + 100 * 1.20 + (units - 250) * 1.50\n",
    "    total_bill_with_surcharge = total_bill + (0.20 * total_bill)\n",
    "    print(f\"Total Electricity Bill (with 20% surcharge): Rs. {total_bill_with_surcharge:.2f}\")\n",
    "except ValueError as e:\n",
    "    print(f\"Error: {e}. Please enter a valid positive number for units.\")\n",
    "except Exception as e:\n",
    "    print(f\"An error occurred: {e}\")"
   ]
  },
  {
   "cell_type": "markdown",
   "id": "c817397a",
   "metadata": {},
   "source": [
    "# 3. Write a python program with Exception handling to input the week number and print the weekday.\n"
   ]
  },
  {
   "cell_type": "code",
   "execution_count": 11,
   "id": "5f12470a",
   "metadata": {},
   "outputs": [
    {
     "name": "stdout",
     "output_type": "stream",
     "text": [
      "Enter the week number (1-7): 5\n",
      "Weekday for week 5 is Friday\n"
     ]
    }
   ],
   "source": [
    "try:\n",
    "    week_number = int(input(\"Enter the week number (1-7): \"))\n",
    "    if week_number < 1 or week_number > 7:\n",
    "        raise ValueError(\"Week number should be between 1 and 7\")\n",
    "    weekdays = [\"Monday\", \"Tuesday\", \"Wednesday\", \"Thursday\", \"Friday\", \"Saturday\", \"Sunday\"]\n",
    "    print(f\"Weekday for week {week_number} is {weekdays[week_number - 1]}\")\n",
    "except ValueError as e:\n",
    "    print(f\"Error: {e}. Please enter a valid week number between 1 and 7.\")\n",
    "except Exception as e:\n",
    "    print(f\"An error occurred: {e}\")"
   ]
  },
  {
   "cell_type": "markdown",
   "id": "8eb6c69a",
   "metadata": {},
   "source": [
    "# 4. Write a Python program to implement word count using command line arguments."
   ]
  },
  {
   "cell_type": "markdown",
   "id": "e1334b67",
   "metadata": {},
   "source": [
    "i) Create a text document \"apple.txt\" whch contains text for wordcount.\n",
    "\n",
    "ii) Create a wordcount program which calls the \"apple.txt\" document by opening the file.\n",
    "\n",
    "iii) If the word is present again in the \"aaple.txt\",the wordcount is incremented by I until all\n",
    "the words are counted in the document. \n",
    "\n",
    "iv) Close the file.\n",
    "\n",
    "v) Create a command.py program which imports the wordcount.py program.\n",
    "\n",
    "vi) Count the number of words using command line arguments.\n",
    "\n",
    "vii) Print each word and its count.\n"
   ]
  },
  {
   "cell_type": "code",
   "execution_count": 31,
   "id": "784fda3d",
   "metadata": {},
   "outputs": [
    {
     "name": "stdout",
     "output_type": "stream",
     "text": [
      "Usage: python wordcount.py <filename>\n"
     ]
    },
    {
     "ename": "SystemExit",
     "evalue": "1",
     "output_type": "error",
     "traceback": [
      "An exception has occurred, use %tb to see the full traceback.\n",
      "\u001b[1;31mSystemExit\u001b[0m\u001b[1;31m:\u001b[0m 1\n"
     ]
    }
   ],
   "source": [
    "import sys\n",
    "if len(sys.argv) != 2:\n",
    "    print(\"Usage: python wordcount.py <filename>\")\n",
    "    sys.exit(1)\n",
    "filename = sys.argv[1]\n",
    "try:\n",
    "    with open(filename, 'r') as file:\n",
    "        word_counts = {}\n",
    "        for line in file:\n",
    "            words = line.split()\n",
    "            for word in words:\n",
    "                word = word.strip('.,!?()[]{}\":;')\n",
    "                word = word.lower()\n",
    "                word_counts[word] = word_counts.get(word, 0) + 1\n",
    "        for word, count in word_counts.items():\n",
    "            print(f\"{word}: {count}\")\n",
    "\n",
    "except FileNotFoundError:\n",
    "    print(f\"File '{filename}' not found.\")\n",
    "except Exception as e:\n",
    "    print(f\"An error occurred: {e}\")\n"
   ]
  },
  {
   "cell_type": "markdown",
   "id": "f8badecb",
   "metadata": {},
   "source": [
    "# 5. Write a Python program for finding the most frequent words in a text read from a file"
   ]
  },
  {
   "cell_type": "markdown",
   "id": "12e972c8",
   "metadata": {},
   "source": [
    "i) Initially open the text file in read mode.\n",
    "\n",
    "ii) Make all the letters in the document into lowercase letters and split the words in each Line.\n",
    "\n",
    "iii) Get the words in an order.\n",
    "\n",
    "iv) Sort the words for finding the most frequent words in the file.\n",
    "\n",
    "v) Print the most frequent words in the file."
   ]
  },
  {
   "cell_type": "code",
   "execution_count": 5,
   "id": "38e1cb73",
   "metadata": {},
   "outputs": [
    {
     "name": "stdout",
     "output_type": "stream",
     "text": [
      "20: 2\n",
      "67: 1\n",
      "88: 1\n",
      "100: 1\n"
     ]
    }
   ],
   "source": [
    "from collections import Counter\n",
    "file_name = \"your_text_file.txt\" \n",
    "with open(file_name, \"r\") as file:\n",
    "   words = file.read().lower().split()\n",
    "word_order = []\n",
    "word_counts = {}\n",
    "for word in words:\n",
    "   if word not in word_counts:\n",
    "       word_order.append(word)\n",
    "   word_counts[word] = word_counts.get(word, 0) + 1\n",
    "sorted_words = sorted(word_order, key=lambda word: word_counts[word], reverse=True)\n",
    "num_most_common = 10 \n",
    "for word in sorted_words[:num_most_common]:\n",
    "   print(f\"{word}: {word_counts[word]}\")"
   ]
  },
  {
   "cell_type": "markdown",
   "id": "1119992c",
   "metadata": {},
   "source": [
    "# 6. File Processing with Command-Line Arguments Scenario: You are developing a command-li utility that processes text files. Users can specify input and output file paths as command-line arguments. Your program should handle exceptions gracefully.\n"
   ]
  },
  {
   "cell_type": "markdown",
   "id": "cbd72650",
   "metadata": {},
   "source": [
    "i. Design a Python program that takes two command-line arguments: the input file path and the output file path. Ensure that the program checks if both arguments are provided and that the input file exists.\n",
    "\n",
    "ii. Implement error handling to deal with scenarios such as missing input files, invalid file paths, or permission issues when writing to the output file.\n",
    "\n",
    "iii. If an error occurs during file processing, display a user-friendly error message. and exit the program with a non-zero exit code.\n",
    "\n",
    "iv. Write test cases that cover various scenarios, including providing valid and\n",
    "invalid file paths as command-line arguments."
   ]
  },
  {
   "cell_type": "code",
   "execution_count": null,
   "id": "b0d1b2f3",
   "metadata": {},
   "outputs": [],
   "source": [
    "import sys\n",
    "def process_files(input_file_path, output_file_path):\n",
    "   try:\n",
    "       with open(input_file_path, 'r') as input_file, open(output_file_path, 'w') as output_file:\n",
    "           for line in input_file:\n",
    "               output_file.write(line)\n",
    "       print(\"File processing completed successfully.\")\n",
    "   except FileNotFoundError:\n",
    "       print(\"Error: Input file not found.\")\n",
    "       sys.exit(1)\n",
    "   except PermissionError:\n",
    "       print(\"Error: Permission issue when writing to the output file.\")\n",
    "       sys.exit(1)\n",
    "   except Exception as e:\n",
    "       print(f\"An unexpected error occurred: {str(e)}\")\n",
    "       sys.exit(1)\n",
    "if __name__ == \"__main__\":\n",
    "   if len(sys.argv) != 3:\n",
    "       print(\"Usage: python program.py <input_file_path> <output_file_path>\")\n",
    "       sys.exit(1)\n",
    "   input_file_path = sys.argv[1]\n",
    "   output_file_path = sys.argv[2]\n",
    "   process_files(input_file_path, output_file_path)"
   ]
  }
 ],
 "metadata": {
  "kernelspec": {
   "display_name": "Python 3 (ipykernel)",
   "language": "python",
   "name": "python3"
  },
  "language_info": {
   "codemirror_mode": {
    "name": "ipython",
    "version": 3
   },
   "file_extension": ".py",
   "mimetype": "text/x-python",
   "name": "python",
   "nbconvert_exporter": "python",
   "pygments_lexer": "ipython3",
   "version": "3.11.4"
  }
 },
 "nbformat": 4,
 "nbformat_minor": 5
}
