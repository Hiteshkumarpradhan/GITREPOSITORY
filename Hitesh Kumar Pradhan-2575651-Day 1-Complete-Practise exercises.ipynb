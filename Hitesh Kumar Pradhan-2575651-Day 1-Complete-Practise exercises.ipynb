{
 "cells": [
  {
   "cell_type": "markdown",
   "id": "95a572b7",
   "metadata": {},
   "source": [
    "# LANGUAGE FUNDAMENTALS:\n",
    "    \n"
   ]
  },
  {
   "cell_type": "markdown",
   "id": "e2ea59c6",
   "metadata": {},
   "source": [
    "# 1.Manupulate using a list"
   ]
  },
  {
   "cell_type": "markdown",
   "id": "d58f84d9",
   "metadata": {},
   "source": [
    "i) To add new elements to the end of the list"
   ]
  },
  {
   "cell_type": "code",
   "execution_count": 16,
   "id": "4f434eda",
   "metadata": {},
   "outputs": [
    {
     "name": "stdout",
     "output_type": "stream",
     "text": [
      "[22, 54, 67, 'AAAA', 5555]\n"
     ]
    }
   ],
   "source": [
    "lst=[22,54,67,'AAAA']\n",
    "lst.append(5555)\n",
    "print(lst)"
   ]
  },
  {
   "cell_type": "markdown",
   "id": "11ef9dab",
   "metadata": {},
   "source": [
    "ii) To reverse elements in the list"
   ]
  },
  {
   "cell_type": "code",
   "execution_count": 4,
   "id": "3dc5203e",
   "metadata": {},
   "outputs": [
    {
     "name": "stdout",
     "output_type": "stream",
     "text": [
      "[4, 3, 2, 1]\n"
     ]
    }
   ],
   "source": [
    "my_list = [1, 2, 3, 4]\n",
    "my_list.reverse() \n",
    "print(my_list)\n"
   ]
  },
  {
   "cell_type": "markdown",
   "id": "56aba591",
   "metadata": {},
   "source": [
    "iii) To display the same list of elements multiple times."
   ]
  },
  {
   "cell_type": "code",
   "execution_count": 5,
   "id": "ae445d09",
   "metadata": {},
   "outputs": [
    {
     "name": "stdout",
     "output_type": "stream",
     "text": [
      "[1, 2, 3, 1, 2, 3, 1, 2, 3]\n"
     ]
    }
   ],
   "source": [
    "my_list = [1, 2, 3]\n",
    "times_to_repeat = 3  \n",
    "\n",
    "result_list = my_list * times_to_repeat\n",
    "print(result_list)\n"
   ]
  },
  {
   "cell_type": "markdown",
   "id": "f20719b2",
   "metadata": {},
   "source": [
    "   iv) To concatenate two list\n"
   ]
  },
  {
   "cell_type": "code",
   "execution_count": 6,
   "id": "5a5e59af",
   "metadata": {},
   "outputs": [
    {
     "name": "stdout",
     "output_type": "stream",
     "text": [
      "[1, 2, 3, 4, 5, 6]\n"
     ]
    }
   ],
   "source": [
    "list1 = [1, 2, 3]\n",
    "list2 = [4, 5, 6]\n",
    "\n",
    "concatenated_list = list1 + list2\n",
    "print(concatenated_list)\n"
   ]
  },
  {
   "cell_type": "markdown",
   "id": "627b481a",
   "metadata": {},
   "source": [
    " v) To sort the elements in the list in ascending order"
   ]
  },
  {
   "cell_type": "code",
   "execution_count": 1,
   "id": "594f67d9",
   "metadata": {},
   "outputs": [
    {
     "name": "stdout",
     "output_type": "stream",
     "text": [
      "[1, 1, 2, 3, 3, 4, 5, 5, 5, 6, 9]\n"
     ]
    }
   ],
   "source": [
    "my_list = [3, 1, 4, 1, 5, 9, 2, 6, 5, 3, 5]\n",
    "\n",
    "my_list.sort()  \n",
    "print(my_list)"
   ]
  },
  {
   "cell_type": "markdown",
   "id": "a539f463",
   "metadata": {},
   "source": [
    "# 2. Write a Python program to do in the tuples.\n"
   ]
  },
  {
   "cell_type": "markdown",
   "id": "635d33d8",
   "metadata": {},
   "source": [
    "  i) Manipulate using tuples.\n"
   ]
  },
  {
   "cell_type": "code",
   "execution_count": 26,
   "id": "41e9363e",
   "metadata": {},
   "outputs": [
    {
     "name": "stdout",
     "output_type": "stream",
     "text": [
      "First element: 1\n",
      "Last element: 5\n",
      "Slice of the tuple: (2, 3, 4)\n",
      "Concatenated tuple: (1, 2, 3, 4, 5, 6)\n",
      "3 exists in the tuple\n",
      "Length of the tuple: 5\n",
      "1 2 3 4 5 \n",
      "Unpacked values: 1 2 3 4 5\n"
     ]
    }
   ],
   "source": [
    "my_tuple = (1, 2, 3, 4, 5)\n",
    "print(\"First element:\", my_tuple[0])\n",
    "print(\"Last element:\", my_tuple[-1])\n",
    "slice_tuple = my_tuple[1:4]\n",
    "print(\"Slice of the tuple:\", slice_tuple)\n",
    "tuple1 = (1, 2, 3)\n",
    "tuple2 = (4, 5, 6)\n",
    "concatenated_tuple = tuple1 + tuple2\n",
    "print(\"Concatenated tuple:\", concatenated_tuple)\n",
    "element_to_check = 3\n",
    "if element_to_check in my_tuple:\n",
    "    print(f\"{element_to_check} exists in the tuple\")\n",
    "else:\n",
    "    print(f\"{element_to_check} does not exist in the tuple\")\n",
    "tuple_length = len(my_tuple)\n",
    "print(\"Length of the tuple:\", tuple_length)\n",
    "for item in my_tuple:\n",
    "    print(item, end=\" \")\n",
    "a, b, c, d, e = my_tuple\n",
    "print(\"\\nUnpacked values:\", a, b, c, d, e)\n"
   ]
  },
  {
   "cell_type": "markdown",
   "id": "64b7bfc4",
   "metadata": {},
   "source": [
    "    ii) To add new elements to the end of the tuples\n"
   ]
  },
  {
   "cell_type": "code",
   "execution_count": 27,
   "id": "52f45adf",
   "metadata": {},
   "outputs": [
    {
     "name": "stdout",
     "output_type": "stream",
     "text": [
      "Original Tuple: (1, 2, 3, 4, 5)\n",
      "New Tuple with Element Added: (1, 2, 3, 4, 5, 6)\n"
     ]
    }
   ],
   "source": [
    "my_tuple = (1, 2, 3, 4, 5)\n",
    "new_element = 6\n",
    "new_tuple = my_tuple + (new_element,)\n",
    "print(\"Original Tuple:\", my_tuple)\n",
    "print(\"New Tuple with Element Added:\", new_tuple)\n"
   ]
  },
  {
   "cell_type": "markdown",
   "id": "50658054",
   "metadata": {},
   "source": [
    "    iii) To reverse elements in the list\n"
   ]
  },
  {
   "cell_type": "code",
   "execution_count": 28,
   "id": "72700186",
   "metadata": {},
   "outputs": [
    {
     "name": "stdout",
     "output_type": "stream",
     "text": [
      "Original Tuple: (1, 2, 3, 4, 5)\n",
      "Reversed Tuple: (5, 4, 3, 2, 1)\n"
     ]
    }
   ],
   "source": [
    "my_tuple = (1, 2, 3, 4, 5)\n",
    "reversed_tuple = my_tuple[::-1]\n",
    "print(\"Original Tuple:\", my_tuple)\n",
    "print(\"Reversed Tuple:\", reversed_tuple)\n"
   ]
  },
  {
   "cell_type": "markdown",
   "id": "f0adef30",
   "metadata": {},
   "source": [
    " iv) To display the elements of the same tuple multiple times"
   ]
  },
  {
   "cell_type": "code",
   "execution_count": 29,
   "id": "06e581a5",
   "metadata": {},
   "outputs": [
    {
     "name": "stdout",
     "output_type": "stream",
     "text": [
      "1 2 3 \n",
      "1 2 3 \n",
      "1 2 3 \n"
     ]
    }
   ],
   "source": [
    "my_tuple = (1, 2, 3)\n",
    "display_times = 3\n",
    "for _ in range(display_times):\n",
    "    for element in my_tuple:\n",
    "        print(element, end=' ')\n",
    "    print() \n"
   ]
  },
  {
   "cell_type": "markdown",
   "id": "16b6dd9e",
   "metadata": {},
   "source": [
    "v) To concatenate two tuples To sort the elements in the list in ascending order."
   ]
  },
  {
   "cell_type": "code",
   "execution_count": 30,
   "id": "83f15fc4",
   "metadata": {},
   "outputs": [
    {
     "name": "stdout",
     "output_type": "stream",
     "text": [
      "Concatenated Tuple: (4, 2, 8, 1, 7, 6, 5, 3)\n",
      "Sorted Tuple in Ascending Order: (1, 2, 3, 4, 5, 6, 7, 8)\n"
     ]
    }
   ],
   "source": [
    "tuple1 = (4, 2, 8, 1)\n",
    "tuple2 = (7, 6, 5, 3)\n",
    "concatenated_tuple = tuple1 + tuple2\n",
    "print(\"Concatenated Tuple:\", concatenated_tuple)\n",
    "concatenated_list = list(concatenated_tuple)\n",
    "concatenated_list.sort()\n",
    "sorted_tuple = tuple(concatenated_list)\n",
    "print(\"Sorted Tuple in Ascending Order:\", sorted_tuple)\n"
   ]
  },
  {
   "cell_type": "markdown",
   "id": "4ab48857",
   "metadata": {},
   "source": [
    "# 3. Write a python program to implement the following using list.\n"
   ]
  },
  {
   "cell_type": "markdown",
   "id": "58c65d4a",
   "metadata": {},
   "source": [
    "   i) Create a list with integers (minimum 10 numbers)\n"
   ]
  },
  {
   "cell_type": "code",
   "execution_count": 31,
   "id": "dd7a7523",
   "metadata": {},
   "outputs": [
    {
     "name": "stdout",
     "output_type": "stream",
     "text": [
      "List of integers: [1, 2, 3, 4, 5, 6, 7, 8, 9, 10]\n"
     ]
    }
   ],
   "source": [
    "my_list = [1, 2, 3, 4, 5, 6, 7, 8, 9, 10]\n",
    "print(\"List of integers:\", my_list)"
   ]
  },
  {
   "cell_type": "markdown",
   "id": "a03c440d",
   "metadata": {},
   "source": [
    "ii) How to display the last number in the list\n"
   ]
  },
  {
   "cell_type": "code",
   "execution_count": 1,
   "id": "7bf18d78",
   "metadata": {},
   "outputs": [
    {
     "name": "stdout",
     "output_type": "stream",
     "text": [
      "The last number in the list is: 50\n"
     ]
    }
   ],
   "source": [
    "numbers = [10, 20, 30, 40, 50]\n",
    "if len(numbers) > 0:\n",
    "    last_number = numbers[-1]\n",
    "    print(\"The last number in the list is:\", last_number)\n",
    "else:\n",
    "    print(\"The list is empty.\")"
   ]
  },
  {
   "cell_type": "markdown",
   "id": "c37fb45c",
   "metadata": {},
   "source": [
    " iii) Command for displaying the values from the list [0:4]"
   ]
  },
  {
   "cell_type": "code",
   "execution_count": 33,
   "id": "d7a7fc65",
   "metadata": {},
   "outputs": [
    {
     "name": "stdout",
     "output_type": "stream",
     "text": [
      "Values from index 0 to 3: [1, 2, 3, 4]\n"
     ]
    }
   ],
   "source": [
    "my_list = [1, 2, 3, 4, 5, 6, 7, 8, 9, 10]\n",
    "selected_values = my_list[0:4]\n",
    "print(\"Values from index 0 to 3:\", selected_values)\n"
   ]
  },
  {
   "cell_type": "markdown",
   "id": "0f63ecd8",
   "metadata": {},
   "source": [
    "iv) Command for displaying the values from the list [2:]\n"
   ]
  },
  {
   "cell_type": "code",
   "execution_count": 34,
   "id": "006f7be8",
   "metadata": {},
   "outputs": [
    {
     "name": "stdout",
     "output_type": "stream",
     "text": [
      "Values from index 2 to the end: [3, 4, 5, 6, 7, 8, 9, 10]\n"
     ]
    }
   ],
   "source": [
    "my_list = [1, 2, 3, 4, 5, 6, 7, 8, 9, 10]\n",
    "selected_values = my_list[2:]\n",
    "print(\"Values from index 2 to the end:\", selected_values)\n"
   ]
  },
  {
   "cell_type": "markdown",
   "id": "53a0f250",
   "metadata": {},
   "source": [
    "   v) Command for displaying the values from the list [:6]"
   ]
  },
  {
   "cell_type": "code",
   "execution_count": 35,
   "id": "114a74d5",
   "metadata": {},
   "outputs": [
    {
     "name": "stdout",
     "output_type": "stream",
     "text": [
      "Values from the beginning up to index 5: [1, 2, 3, 4, 5, 6]\n"
     ]
    }
   ],
   "source": [
    "my_list = [1, 2, 3, 4, 5, 6, 7, 8, 9, 10]\n",
    "selected_values = my_list[:6]\n",
    "print(\"Values from the beginning up to index 5:\", selected_values)\n"
   ]
  },
  {
   "cell_type": "markdown",
   "id": "e7847d0e",
   "metadata": {},
   "source": [
    "# 4. Write a Python program: tuple1 = (10,50,20,40,30)\n"
   ]
  },
  {
   "cell_type": "markdown",
   "id": "7ae69755",
   "metadata": {},
   "source": [
    "\n",
    "    i. To display the elements 10 and 50 from tuple1\n"
   ]
  },
  {
   "cell_type": "code",
   "execution_count": 36,
   "id": "f1813bc8",
   "metadata": {},
   "outputs": [
    {
     "name": "stdout",
     "output_type": "stream",
     "text": [
      "Element 1: 10\n",
      "Element 2: 50\n"
     ]
    }
   ],
   "source": [
    "tuple1 = (10, 50, 20, 40, 30)\n",
    "element1 = tuple1[0]\n",
    "element2 = tuple1[1]\n",
    "print(\"Element 1:\", element1)\n",
    "print(\"Element 2:\", element2)\n"
   ]
  },
  {
   "cell_type": "markdown",
   "id": "ce939df6",
   "metadata": {},
   "source": [
    "    ii. To display the length of a tuple1.\n",
    "\n"
   ]
  },
  {
   "cell_type": "code",
   "execution_count": 37,
   "id": "770b58bd",
   "metadata": {},
   "outputs": [
    {
     "name": "stdout",
     "output_type": "stream",
     "text": [
      "Length of tuple1: 5\n"
     ]
    }
   ],
   "source": [
    "tuple1 = (10, 50, 20, 40, 30)\n",
    "tuple_length = len(tuple1)\n",
    "print(\"Length of tuple1:\", tuple_length)"
   ]
  },
  {
   "cell_type": "markdown",
   "id": "0e759742",
   "metadata": {},
   "source": [
    "iii.To find the minimum element from tuple1."
   ]
  },
  {
   "cell_type": "code",
   "execution_count": 38,
   "id": "006f423c",
   "metadata": {},
   "outputs": [
    {
     "name": "stdout",
     "output_type": "stream",
     "text": [
      "Minimum element in tuple1: 10\n"
     ]
    }
   ],
   "source": [
    "tuple1 = (10, 50, 20, 40, 30)\n",
    "min_element = min(tuple1)\n",
    "print(\"Minimum element in tuple1:\", min_element)"
   ]
  },
  {
   "cell_type": "markdown",
   "id": "84bf00d2",
   "metadata": {},
   "source": [
    "    iv. To add all elements in the tuple1.\n"
   ]
  },
  {
   "cell_type": "code",
   "execution_count": 24,
   "id": "8e8a1e94",
   "metadata": {},
   "outputs": [
    {
     "name": "stdout",
     "output_type": "stream",
     "text": [
      "Sum of elements in tuple1: 150\n"
     ]
    }
   ],
   "source": [
    "tuple1 = (10, 50, 20, 40, 30)\n",
    "total = sum(tuple1)\n",
    "print(\"Sum of elements in tuple1:\", total)"
   ]
  },
  {
   "cell_type": "markdown",
   "id": "f822a38d",
   "metadata": {},
   "source": [
    "V. To display the same tuple1 multiple times."
   ]
  },
  {
   "cell_type": "code",
   "execution_count": 23,
   "id": "9a344191",
   "metadata": {},
   "outputs": [
    {
     "name": "stdout",
     "output_type": "stream",
     "text": [
      "Tuple1 displayed 3 times: (10, 50, 20, 40, 30, 10, 50, 20, 40, 30, 10, 50, 20, 40, 30)\n"
     ]
    }
   ],
   "source": [
    "tuple1 = (10, 50, 20, 40, 30)\n",
    "display_times = 3\n",
    "result_tuple = tuple1 * display_times\n",
    "print(\"Tuple1 displayed\", display_times, \"times:\", result_tuple)"
   ]
  },
  {
   "cell_type": "markdown",
   "id": "f4ffa832",
   "metadata": {},
   "source": [
    "# 5. Write a Python program:\n"
   ]
  },
  {
   "cell_type": "markdown",
   "id": "03710e28",
   "metadata": {},
   "source": [
    "i) To calculate the length of a string\n"
   ]
  },
  {
   "cell_type": "code",
   "execution_count": 39,
   "id": "e0ddf829",
   "metadata": {},
   "outputs": [
    {
     "name": "stdout",
     "output_type": "stream",
     "text": [
      "Enter a string: class\n",
      "Length of the string: 5\n"
     ]
    }
   ],
   "source": [
    "my_string = input(\"Enter a string: \")\n",
    "string_length = len(my_string)\n",
    "print(\"Length of the string:\", string_length)"
   ]
  },
  {
   "cell_type": "markdown",
   "id": "6490cc96",
   "metadata": {},
   "source": [
    "    ii) To reverse words in a string\n"
   ]
  },
  {
   "cell_type": "code",
   "execution_count": 40,
   "id": "63736da5",
   "metadata": {},
   "outputs": [
    {
     "name": "stdout",
     "output_type": "stream",
     "text": [
      "Enter a string: classname\n",
      "Reversed string: classname\n"
     ]
    }
   ],
   "source": [
    "input_string = input(\"Enter a string: \")\n",
    "words = input_string.split()\n",
    "reversed_words = list(reversed(words))\n",
    "reversed_string = ' '.join(reversed_words)\n",
    "print(\"Reversed string:\", reversed_string)"
   ]
  },
  {
   "cell_type": "markdown",
   "id": "f777cfae",
   "metadata": {},
   "source": [
    "    iii) To display the same string multiple times\n"
   ]
  },
  {
   "cell_type": "code",
   "execution_count": 41,
   "id": "f4495feb",
   "metadata": {},
   "outputs": [
    {
     "name": "stdout",
     "output_type": "stream",
     "text": [
      "Enter a string: hitesh\n",
      "Enter the number of times to display the string: 5\n",
      "String displayed 5 times: hiteshhiteshhiteshhiteshhitesh\n"
     ]
    }
   ],
   "source": [
    "my_string = input(\"Enter a string: \")\n",
    "display_times = int(input(\"Enter the number of times to display the string: \"))\n",
    "result_string = my_string * display_times\n",
    "print(\"String displayed\", display_times, \"times:\", result_string)"
   ]
  },
  {
   "cell_type": "markdown",
   "id": "e3a1d837",
   "metadata": {},
   "source": [
    "    iv) To concatenate two strings\n"
   ]
  },
  {
   "cell_type": "code",
   "execution_count": 42,
   "id": "0bc08d34",
   "metadata": {},
   "outputs": [
    {
     "name": "stdout",
     "output_type": "stream",
     "text": [
      "Enter the first string: hitesh\n",
      "Enter the second string: books\n",
      "Concatenated String (Method 1): hiteshbooks\n",
      "Concatenated String (Method 2): hiteshbooks\n"
     ]
    }
   ],
   "source": [
    "string1 = input(\"Enter the first string: \")\n",
    "string2 = input(\"Enter the second string: \")\n",
    "concatenated_string1 = string1 + string2\n",
    "concatenated_string2 = \"{}{}\".format(string1, string2)\n",
    "print(\"Concatenated String (Method 1):\", concatenated_string1)\n",
    "print(\"Concatenated String (Method 2):\", concatenated_string2)\n"
   ]
  },
  {
   "cell_type": "markdown",
   "id": "d08dfc34",
   "metadata": {},
   "source": [
    "\n",
    "    V) Stri=\" South India\", using string slicing to display \"India\""
   ]
  },
  {
   "cell_type": "code",
   "execution_count": 43,
   "id": "d83971f7",
   "metadata": {},
   "outputs": [
    {
     "name": "stdout",
     "output_type": "stream",
     "text": [
      "Result: India\n"
     ]
    }
   ],
   "source": [
    "Stri = \"South India\"\n",
    "india_part = Stri[-5:]\n",
    "print(\"Result:\", india_part)"
   ]
  },
  {
   "cell_type": "markdown",
   "id": "23f1a40f",
   "metadata": {},
   "source": [
    "# 6. Perform the following:\n"
   ]
  },
  {
   "cell_type": "markdown",
   "id": "124e550d",
   "metadata": {},
   "source": [
    "i) Creating the Dictionary."
   ]
  },
  {
   "cell_type": "code",
   "execution_count": 44,
   "id": "a55aaff6",
   "metadata": {},
   "outputs": [
    {
     "name": "stdout",
     "output_type": "stream",
     "text": [
      "{'name': 'John', 'age': 30, 'city': 'New York'}\n"
     ]
    }
   ],
   "source": [
    "my_dict = {\n",
    "    \"name\": \"John\",\n",
    "    \"age\": 30,\n",
    "    \"city\": \"New York\"\n",
    "}\n",
    "print(my_dict)\n"
   ]
  },
  {
   "cell_type": "markdown",
   "id": "0ad2a187",
   "metadata": {},
   "source": [
    "ii) Accessing values and keys in the Dictionary.\n"
   ]
  },
  {
   "cell_type": "code",
   "execution_count": 45,
   "id": "85f7f111",
   "metadata": {},
   "outputs": [
    {
     "name": "stdout",
     "output_type": "stream",
     "text": [
      "Name: John\n",
      "Age: 30\n",
      "City: New York\n",
      "Keys: ['name', 'age', 'city']\n"
     ]
    }
   ],
   "source": [
    "my_dict = {\n",
    "    \"name\": \"John\",\n",
    "    \"age\": 30,\n",
    "    \"city\": \"New York\"\n",
    "}\n",
    "name_value = my_dict[\"name\"]\n",
    "age_value = my_dict[\"age\"]\n",
    "city_value = my_dict[\"city\"]\n",
    "keys_list = list(my_dict.keys())\n",
    "print(\"Name:\", name_value)\n",
    "print(\"Age:\", age_value)\n",
    "print(\"City:\", city_value)\n",
    "print(\"Keys:\", keys_list)\n"
   ]
  },
  {
   "cell_type": "markdown",
   "id": "0bd4c66c",
   "metadata": {},
   "source": [
    "iii) Updating the dictionary using a function.\n"
   ]
  },
  {
   "cell_type": "code",
   "execution_count": 46,
   "id": "4a16a01b",
   "metadata": {},
   "outputs": [
    {
     "name": "stdout",
     "output_type": "stream",
     "text": [
      "Updated Dictionary: {'name': 'John', 'age': 30, 'city': 'New York', 'country': 'USA', 'population': 330000000}\n"
     ]
    }
   ],
   "source": [
    "def update_dict(input_dict):\n",
    "    input_dict[\"country\"] = \"USA\"\n",
    "    input_dict[\"population\"] = 330_000_000\n",
    "\n",
    "    return input_dict\n",
    "my_dict = {\n",
    "    \"name\": \"John\",\n",
    "    \"age\": 30,\n",
    "    \"city\": \"New York\"\n",
    "}\n",
    "updated_dict = update_dict(my_dict)\n",
    "print(\"Updated Dictionary:\", updated_dict)\n"
   ]
  },
  {
   "cell_type": "markdown",
   "id": "433ef803",
   "metadata": {},
   "source": [
    "iv) Clear and delete the dictionary values.\n",
    "\n"
   ]
  },
  {
   "cell_type": "code",
   "execution_count": 47,
   "id": "4a518642",
   "metadata": {},
   "outputs": [
    {
     "name": "stdout",
     "output_type": "stream",
     "text": [
      "Dictionary after clearing: {}\n",
      "Dictionary after deleting 'color': {'fruit': 'apple', 'price': 1.0}\n"
     ]
    }
   ],
   "source": [
    "my_dict = {\n",
    "    \"name\": \"John\",\n",
    "    \"age\": 30,\n",
    "    \"city\": \"New York\"\n",
    "}\n",
    "my_dict.clear()\n",
    "print(\"Dictionary after clearing:\", my_dict)\n",
    "another_dict = {\n",
    "    \"fruit\": \"apple\",\n",
    "    \"color\": \"red\",\n",
    "    \"price\": 1.0\n",
    "}\n",
    "del another_dict[\"color\"]\n",
    "print(\"Dictionary after deleting 'color':\", another_dict)"
   ]
  },
  {
   "cell_type": "markdown",
   "id": "a913e7ca",
   "metadata": {},
   "source": [
    "# 7. Python program to insert a number to any position in a list. "
   ]
  },
  {
   "cell_type": "code",
   "execution_count": 48,
   "id": "c03d63a2",
   "metadata": {},
   "outputs": [
    {
     "name": "stdout",
     "output_type": "stream",
     "text": [
      "Updated List: [1, 2, 10, 3, 4, 5]\n"
     ]
    }
   ],
   "source": [
    "my_list = [1, 2, 3, 4, 5]\n",
    "number_to_insert = 10\n",
    "insert_position = 2 \n",
    "my_list.insert(insert_position, number_to_insert)\n",
    "print(\"Updated List:\", my_list)"
   ]
  },
  {
   "cell_type": "markdown",
   "id": "d15d2f85",
   "metadata": {},
   "source": [
    "# 8. Python program to delete an element from a list by index.\n"
   ]
  },
  {
   "cell_type": "code",
   "execution_count": 49,
   "id": "7dcb4d51",
   "metadata": {},
   "outputs": [
    {
     "name": "stdout",
     "output_type": "stream",
     "text": [
      "Deleted Element: 3\n",
      "Updated List: [1, 2, 4, 5]\n"
     ]
    }
   ],
   "source": [
    "my_list = [1, 2, 3, 4, 5]\n",
    "index_to_delete = 2 \n",
    "if 0 <= index_to_delete < len(my_list):\n",
    "    deleted_element = my_list.pop(index_to_delete)\n",
    "    print(\"Deleted Element:\", deleted_element)\n",
    "    print(\"Updated List:\", my_list)\n",
    "else:\n",
    "    print(\"Index is out of range. Cannot delete element.\")\n"
   ]
  },
  {
   "cell_type": "markdown",
   "id": "d87a6acf",
   "metadata": {},
   "source": [
    "# 9. Write a program to display a number from 1 to 100."
   ]
  },
  {
   "cell_type": "code",
   "execution_count": 50,
   "id": "42b1968e",
   "metadata": {},
   "outputs": [
    {
     "name": "stdout",
     "output_type": "stream",
     "text": [
      "1\n",
      "2\n",
      "3\n",
      "4\n",
      "5\n",
      "6\n",
      "7\n",
      "8\n",
      "9\n",
      "10\n",
      "11\n",
      "12\n",
      "13\n",
      "14\n",
      "15\n",
      "16\n",
      "17\n",
      "18\n",
      "19\n",
      "20\n",
      "21\n",
      "22\n",
      "23\n",
      "24\n",
      "25\n",
      "26\n",
      "27\n",
      "28\n",
      "29\n",
      "30\n",
      "31\n",
      "32\n",
      "33\n",
      "34\n",
      "35\n",
      "36\n",
      "37\n",
      "38\n",
      "39\n",
      "40\n",
      "41\n",
      "42\n",
      "43\n",
      "44\n",
      "45\n",
      "46\n",
      "47\n",
      "48\n",
      "49\n",
      "50\n",
      "51\n",
      "52\n",
      "53\n",
      "54\n",
      "55\n",
      "56\n",
      "57\n",
      "58\n",
      "59\n",
      "60\n",
      "61\n",
      "62\n",
      "63\n",
      "64\n",
      "65\n",
      "66\n",
      "67\n",
      "68\n",
      "69\n",
      "70\n",
      "71\n",
      "72\n",
      "73\n",
      "74\n",
      "75\n",
      "76\n",
      "77\n",
      "78\n",
      "79\n",
      "80\n",
      "81\n",
      "82\n",
      "83\n",
      "84\n",
      "85\n",
      "86\n",
      "87\n",
      "88\n",
      "89\n",
      "90\n",
      "91\n",
      "92\n",
      "93\n",
      "94\n",
      "95\n",
      "96\n",
      "97\n",
      "98\n",
      "99\n",
      "100\n"
     ]
    }
   ],
   "source": [
    "for number in range(1, 101):\n",
    "    print(number)"
   ]
  },
  {
   "cell_type": "markdown",
   "id": "00f1f581",
   "metadata": {},
   "source": [
    "# 10. Write a Python program to find the sum of all items in a tuple.\n",
    "\n"
   ]
  },
  {
   "cell_type": "code",
   "execution_count": 51,
   "id": "d8234acd",
   "metadata": {},
   "outputs": [
    {
     "name": "stdout",
     "output_type": "stream",
     "text": [
      "Sum of items in the tuple: 150\n"
     ]
    }
   ],
   "source": [
    "my_tuple = (10, 20, 30, 40, 50)\n",
    "total = 0\n",
    "for item in my_tuple:\n",
    "    total += item\n",
    "print(\"Sum of items in the tuple:\", total)"
   ]
  },
  {
   "cell_type": "markdown",
   "id": "e4e8031e",
   "metadata": {},
   "source": [
    "# 11. Create a dictionary containing three lambda functions square, cube and square root.\n"
   ]
  },
  {
   "cell_type": "markdown",
   "id": "bb3be444",
   "metadata": {},
   "source": [
    "i) E.g. dict=('Square': function for squaring 'Cube: function for cube, 'Squareroot\": function for square root)\n",
    "\n"
   ]
  },
  {
   "cell_type": "code",
   "execution_count": 52,
   "id": "4cd29d62",
   "metadata": {},
   "outputs": [
    {
     "name": "stdout",
     "output_type": "stream",
     "text": [
      "Square of 4: 16\n",
      "Cube of 4: 64\n",
      "SquareRoot of 4: 2.0\n"
     ]
    }
   ],
   "source": [
    "math_operations = {\n",
    "    \"Square\": lambda x: x ** 2,\n",
    "    \"Cube\": lambda x: x ** 3,\n",
    "    \"SquareRoot\": lambda x: x ** 0.5,\n",
    "}\n",
    "number = 4 \n",
    "for operation, function in math_operations.items():\n",
    "    result = function(number)\n",
    "    print(f\"{operation} of {number}: {result}\")\n"
   ]
  },
  {
   "cell_type": "markdown",
   "id": "7292f5be",
   "metadata": {},
   "source": [
    "ii) Pass the values (input from the user) to the functions in the dictionary respectively.\n"
   ]
  },
  {
   "cell_type": "code",
   "execution_count": 53,
   "id": "1a341e67",
   "metadata": {},
   "outputs": [
    {
     "name": "stdout",
     "output_type": "stream",
     "text": [
      "Enter a number: 10\n",
      "Square of 10.0: 100.0\n",
      "Cube of 10.0: 1000.0\n",
      "SquareRoot of 10.0: 3.1622776601683795\n"
     ]
    }
   ],
   "source": [
    "math_operations = {\n",
    "    \"Square\": lambda x: x ** 2,\n",
    "    \"Cube\": lambda x: x ** 3,\n",
    "    \"SquareRoot\": lambda x: x ** 0.5,\n",
    "}\n",
    "number = float(input(\"Enter a number: \"))\n",
    "for operation, function in math_operations.items():\n",
    "    result = function(number)\n",
    "    print(f\"{operation} of {number}: {result}\")\n"
   ]
  },
  {
   "cell_type": "markdown",
   "id": "be22eaa9",
   "metadata": {},
   "source": [
    "iii) Then add the outputs of each function and print it.\n"
   ]
  },
  {
   "cell_type": "code",
   "execution_count": 54,
   "id": "fc6a2e17",
   "metadata": {},
   "outputs": [
    {
     "name": "stdout",
     "output_type": "stream",
     "text": [
      "Enter a number: 20\n",
      "Square of 20.0: 400.0\n",
      "Cube of 20.0: 8000.0\n",
      "SquareRoot of 20.0: 4.47213595499958\n",
      "Sum of the results: 8404.472135955\n"
     ]
    }
   ],
   "source": [
    "math_operations = {\n",
    "    \"Square\": lambda x: x ** 2,\n",
    "    \"Cube\": lambda x: x ** 3,\n",
    "    \"SquareRoot\": lambda x: x ** 0.5,\n",
    "}\n",
    "number = float(input(\"Enter a number: \"))\n",
    "result_sum = 0\n",
    "for operation, function in math_operations.items():\n",
    "    result = function(number)\n",
    "    result_sum += result\n",
    "    print(f\"{operation} of {number}: {result}\")\n",
    "print(f\"Sum of the results: {result_sum}\")\n"
   ]
  },
  {
   "cell_type": "markdown",
   "id": "6f141058",
   "metadata": {},
   "source": [
    "# 12. A list of words is given. Find the words from the list that have their second character in uppercase.\n",
    "\n",
    "Is-'hello', 'Dear', 'hOw', 'ARe', 'You']\n",
    "\n"
   ]
  },
  {
   "cell_type": "code",
   "execution_count": 55,
   "id": "65eba8db",
   "metadata": {},
   "outputs": [
    {
     "name": "stdout",
     "output_type": "stream",
     "text": [
      "Words with the second character in uppercase: ['hOw', 'ARe']\n"
     ]
    }
   ],
   "source": [
    "word_list = ['hello', 'Dear', 'hOw', 'ARe', 'You']\n",
    "result_words = []\n",
    "for word in word_list:\n",
    "    if len(word) >= 2 and word[1].isupper():\n",
    "        result_words.append(word)\n",
    "print(\"Words with the second character in uppercase:\", result_words)"
   ]
  },
  {
   "cell_type": "markdown",
   "id": "e1c8a150",
   "metadata": {},
   "source": [
    "# 13. A dictionary of names and their weights on earth is given. Find how much they will weigh on the\n",
    "moon. (Use map and lambda functions) Formula: wMoon (wEarth*GMoon)/GEarth\n"
   ]
  },
  {
   "cell_type": "markdown",
   "id": "21e188da",
   "metadata": {},
   "source": [
    "i)#Weight of people in kg\n",
    "\n",
    "WeightOnEarth=('John':45, 'Shelly':65, 'Marry':35)"
   ]
  },
  {
   "cell_type": "code",
   "execution_count": 7,
   "id": "fef3f6ce",
   "metadata": {},
   "outputs": [
    {
     "name": "stdout",
     "output_type": "stream",
     "text": [
      "John weighs 10.96 kg on the Moon.\n",
      "Shelly weighs 15.83 kg on the Moon.\n",
      "Marry weighs 8.52 kg on the Moon.\n"
     ]
    }
   ],
   "source": [
    "WeightOnEarth = {'John': 45, 'Shelly': 65, 'Marry': 35}\n",
    "GMoon = 1.625 * 10**(-11)  \n",
    "GEarth = 6.67430 * 10**(-11) \n",
    "WeightOnMoon = list(map(lambda name_weight: (name_weight[0], name_weight[1] * GMoon / GEarth), WeightOnEarth.items()))\n",
    "for name, weight_moon in WeightOnMoon:\n",
    "    print(f'{name} weighs {weight_moon:.2f} kg on the Moon.')\n"
   ]
  },
  {
   "cell_type": "markdown",
   "id": "5f9052af",
   "metadata": {},
   "source": [
    "ii) #Gravitational force on the Moon: 1.622 m/s2\n",
    "\n",
    "GMoon = 1.622\n"
   ]
  },
  {
   "cell_type": "code",
   "execution_count": 8,
   "id": "b3357dee",
   "metadata": {},
   "outputs": [
    {
     "ename": "IndentationError",
     "evalue": "expected an indented block after 'for' statement on line 5 (1181950204.py, line 6)",
     "output_type": "error",
     "traceback": [
      "\u001b[1;36m  Cell \u001b[1;32mIn[8], line 6\u001b[1;36m\u001b[0m\n\u001b[1;33m    print(f'{name} weighs {weight_moon:.2f} kg on the Moon.')\u001b[0m\n\u001b[1;37m    ^\u001b[0m\n\u001b[1;31mIndentationError\u001b[0m\u001b[1;31m:\u001b[0m expected an indented block after 'for' statement on line 5\n"
     ]
    }
   ],
   "source": [
    "WeightOnEarth = {'John': 45, 'Shelly': 65, 'Marry': 35}\n",
    "GMoon = 1.622\n",
    "GEarth = 9.81 \n",
    "WeightOnMoon = dict(map(lambda name_weight: (name_weight[0], name_weight[1] * GMoon / GEarth), WeightOnEarth.items()))\n",
    "for name, weight_moon in WeightOnMoon.items():\n",
    "print(f'{name} weighs {weight_moon:.2f} kg on the Moon.')\n"
   ]
  },
  {
   "cell_type": "markdown",
   "id": "57e3f761",
   "metadata": {},
   "source": [
    "\n",
    "iii)#Gravitational force on the Earth: 9.81 m/s2\n",
    "\n",
    "GEarth=9.81"
   ]
  },
  {
   "cell_type": "code",
   "execution_count": 9,
   "id": "19579822",
   "metadata": {},
   "outputs": [
    {
     "ename": "IndentationError",
     "evalue": "expected an indented block after 'for' statement on line 5 (3847321796.py, line 6)",
     "output_type": "error",
     "traceback": [
      "\u001b[1;36m  Cell \u001b[1;32mIn[9], line 6\u001b[1;36m\u001b[0m\n\u001b[1;33m    print(f'{name} weighs {weight_moon:.2f} kg on the Moon.')\u001b[0m\n\u001b[1;37m    ^\u001b[0m\n\u001b[1;31mIndentationError\u001b[0m\u001b[1;31m:\u001b[0m expected an indented block after 'for' statement on line 5\n"
     ]
    }
   ],
   "source": [
    "WeightOnEarth = {'John': 45, 'Shelly': 65, 'Marry': 35}\n",
    "GMoon = 1.622\n",
    "GEarth = 9.81  \n",
    "WeightOnMoon = dict(map(lambda name_weight: (name_weight[0], name_weight[1] * GMoon / GEarth), WeightOnEarth.items()))\n",
    "for name, weight_moon in WeightOnMoon.items():\n",
    "print(f'{name} weighs {weight_moon:.2f} kg on the Moon.')\n"
   ]
  },
  {
   "cell_type": "markdown",
   "id": "6d769816",
   "metadata": {},
   "source": [
    "# Control Structures:\n"
   ]
  },
  {
   "cell_type": "markdown",
   "id": "839fcd35",
   "metadata": {},
   "source": [
    "1. Write a python program to find the first N Prime numbers."
   ]
  },
  {
   "cell_type": "code",
   "execution_count": 10,
   "id": "0c622934",
   "metadata": {},
   "outputs": [
    {
     "name": "stdout",
     "output_type": "stream",
     "text": [
      "Enter the value of N: 30\n",
      "The first 30 prime numbers are: [2, 3, 5, 7, 11, 13, 17, 19, 23, 29, 31, 37, 41, 43, 47, 53, 59, 61, 67, 71, 73, 79, 83, 89, 97, 101, 103, 107, 109, 113]\n"
     ]
    }
   ],
   "source": [
    "def is_prime(num):\n",
    "    if num <= 1:\n",
    "        return False\n",
    "    if num <= 3:\n",
    "        return True\n",
    "    if num % 2 == 0 or num % 3 == 0:\n",
    "        return False\n",
    "    i = 5\n",
    "    while i * i <= num:\n",
    "        if num % i == 0 or num % (i + 2) == 0:\n",
    "            return False\n",
    "        i += 6\n",
    "    return True\n",
    "\n",
    "def find_primes(N):\n",
    "    prime_list = []\n",
    "    num = 2\n",
    "    while len(prime_list) < N:\n",
    "        if is_prime(num):\n",
    "            prime_list.append(num)\n",
    "        num += 1\n",
    "    return prime_list\n",
    "\n",
    "N = int(input(\"Enter the value of N: \"))\n",
    "prime_numbers = find_primes(N)\n",
    "print(f\"The first {N} prime numbers are: {prime_numbers}\")\n"
   ]
  },
  {
   "cell_type": "markdown",
   "id": "28a92272",
   "metadata": {},
   "source": [
    "2.Write the python code that calculates the salary of an employes. Prompt the user to enter the\n",
    "Basic Salary, HRA, TA and DA. Add these components to calculate the fiross Salary. Also, dedues 10% of salary from the Gross Salary to be paid as tas and display gross minus tax as net salary."
   ]
  },
  {
   "cell_type": "code",
   "execution_count": 11,
   "id": "3aaeeda0",
   "metadata": {},
   "outputs": [
    {
     "name": "stdout",
     "output_type": "stream",
     "text": [
      "Enter Basic Salary: 30000\n",
      "Enter HRA: 10\n",
      "Enter TA: 20\n",
      "Enter DA: 30\n",
      "\n",
      "Gross Salary: 30060.00\n",
      "Tax Deduction (10%): 3006.00\n",
      "Net Salary: 27054.00\n"
     ]
    }
   ],
   "source": [
    "basic_salary = float(input(\"Enter Basic Salary: \"))\n",
    "hra = float(input(\"Enter HRA: \"))\n",
    "ta = float(input(\"Enter TA: \"))\n",
    "da = float(input(\"Enter DA: \"))\n",
    "gross_salary = basic_salary + hra + ta + da\n",
    "tax = 0.10 * gross_salary\n",
    "net_salary = gross_salary - tax\n",
    "print(f\"\\nGross Salary: {gross_salary:.2f}\")\n",
    "print(f\"Tax Deduction (10%): {tax:.2f}\")\n",
    "print(f\"Net Salary: {net_salary:.2f}\")"
   ]
  },
  {
   "cell_type": "markdown",
   "id": "8f580005",
   "metadata": {},
   "source": [
    "3. Write a python program to search for a string in the given list"
   ]
  },
  {
   "cell_type": "code",
   "execution_count": 12,
   "id": "de7d80d9",
   "metadata": {},
   "outputs": [
    {
     "name": "stdout",
     "output_type": "stream",
     "text": [
      "Enter the string to search for: date\n",
      "'date' is found in the list.\n"
     ]
    }
   ],
   "source": [
    "my_list = [\"apple\", \"banana\", \"cherry\", \"date\", \"fig\"]\n",
    "search_string = input(\"Enter the string to search for: \")\n",
    "found = False \n",
    "for item in my_list:\n",
    "    if search_string == item:\n",
    "        found = True\n",
    "        break\n",
    "if found:\n",
    "    print(f\"'{search_string}' is found in the list.\")\n",
    "else:\n",
    "    print(f\"'{search_string}' is not found in the list.\")"
   ]
  },
  {
   "cell_type": "markdown",
   "id": "e42ad4a1",
   "metadata": {},
   "source": [
    "4. Write a Python function that accepts a string and calculates the number of upper-case letters and lowe-case letters."
   ]
  },
  {
   "cell_type": "code",
   "execution_count": 15,
   "id": "56e8b7e8",
   "metadata": {},
   "outputs": [
    {
     "name": "stdout",
     "output_type": "stream",
     "text": [
      "Enter a string: Study\n",
      "Uppercase letters: 1\n",
      "Lowercase letters: 4\n"
     ]
    }
   ],
   "source": [
    "def count_upper_lower(string):\n",
    "    uppercase_count = 0\n",
    "    lowercase_count = 0\n",
    "    for char in string:\n",
    "        if char.isupper():\n",
    "            uppercase_count += 1\n",
    "        elif char.islower():\n",
    "            lowercase_count += 1\n",
    "    return uppercase_count, lowercase_count\n",
    "input_string = input(\"Enter a string: \")\n",
    "uppercase, lowercase = count_upper_lower(input_string)\n",
    "print(f\"Uppercase letters: {uppercase}\")\n",
    "print(f\"Lowercase letters: {lowercase}\")\n"
   ]
  },
  {
   "cell_type": "markdown",
   "id": "f9d60d14",
   "metadata": {},
   "source": [
    "5. Write a program to display the sum of odd numbers and even numbers that fall between 12 and 37."
   ]
  },
  {
   "cell_type": "code",
   "execution_count": 16,
   "id": "d56de7ed",
   "metadata": {},
   "outputs": [
    {
     "name": "stdout",
     "output_type": "stream",
     "text": [
      "Sum of even numbers between 12 and 37: 312\n",
      "Sum of odd numbers between 12 and 37: 325\n"
     ]
    }
   ],
   "source": [
    "even_sum = 0\n",
    "odd_sum = 0\n",
    "for num in range(12, 38):\n",
    "    if num % 2 == 0: \n",
    "        even_sum += num\n",
    "    else:\n",
    "        odd_sum += num\n",
    "print(f\"Sum of even numbers between 12 and 37: {even_sum}\")\n",
    "print(f\"Sum of odd numbers between 12 and 37: {odd_sum}\")"
   ]
  },
  {
   "cell_type": "markdown",
   "id": "5fa66779",
   "metadata": {},
   "source": [
    "6. Write a python Program to print the table of any number."
   ]
  },
  {
   "cell_type": "code",
   "execution_count": 17,
   "id": "70c567f7",
   "metadata": {},
   "outputs": [
    {
     "name": "stdout",
     "output_type": "stream",
     "text": [
      "Enter a number: 25\n",
      "Multiplication Table for 25:\n",
      "25 x 1 = 25\n",
      "25 x 2 = 50\n",
      "25 x 3 = 75\n",
      "25 x 4 = 100\n",
      "25 x 5 = 125\n",
      "25 x 6 = 150\n",
      "25 x 7 = 175\n",
      "25 x 8 = 200\n",
      "25 x 9 = 225\n",
      "25 x 10 = 250\n"
     ]
    }
   ],
   "source": [
    "number = int(input(\"Enter a number: \"))\n",
    "print(f\"Multiplication Table for {number}:\")\n",
    "for i in range(1, 11): \n",
    "    product = number * i\n",
    "    print(f\"{number} x {i} = {product}\")"
   ]
  },
  {
   "cell_type": "markdown",
   "id": "df39ea29",
   "metadata": {},
   "source": [
    "7. Write a Python program to sum the first 10 prime numbers."
   ]
  },
  {
   "cell_type": "code",
   "execution_count": 18,
   "id": "78cad566",
   "metadata": {},
   "outputs": [
    {
     "name": "stdout",
     "output_type": "stream",
     "text": [
      "The sum of the first 10 prime numbers is: 129\n"
     ]
    }
   ],
   "source": [
    "def is_prime(num):\n",
    "    if num <= 1:\n",
    "        return False\n",
    "    if num <= 3:\n",
    "        return True\n",
    "    if num % 2 == 0 or num % 3 == 0:\n",
    "        return False\n",
    "    i = 5\n",
    "    while i * i <= num:\n",
    "        if num % i == 0 or num % (i + 2) == 0:\n",
    "            return False\n",
    "        i += 6\n",
    "    return True\n",
    "\n",
    "def sum_first_n_primes(n):\n",
    "    prime_sum = 0\n",
    "    num = 2 \n",
    "    count = 0 \n",
    "\n",
    "    while count < n:\n",
    "        if is_prime(num):\n",
    "            prime_sum += num\n",
    "            count += 1\n",
    "        num += 1\n",
    "\n",
    "    return prime_sum\n",
    "n = 10\n",
    "result = sum_first_n_primes(n)\n",
    "print(f\"The sum of the first {n} prime numbers is: {result}\")\n"
   ]
  },
  {
   "cell_type": "markdown",
   "id": "070eba41",
   "metadata": {},
   "source": [
    "8. Write a python program to implement arithmetic operations using nested if statement."
   ]
  },
  {
   "cell_type": "code",
   "execution_count": 19,
   "id": "a8ce38c6",
   "metadata": {},
   "outputs": [
    {
     "name": "stdout",
     "output_type": "stream",
     "text": [
      "Enter the first number: 1\n",
      "Enter the second number: 2\n",
      "Select an arithmetic operation:\n",
      "1. Addition (+)\n",
      "2. Subtraction (-)\n",
      "3. Multiplication (*)\n",
      "4. Division (/)\n",
      "Enter your choice (1/2/3/4): 4\n",
      "Division result: 0.5\n"
     ]
    }
   ],
   "source": [
    "num1 = float(input(\"Enter the first number: \"))\n",
    "num2 = float(input(\"Enter the second number: \"))\n",
    "print(\"Select an arithmetic operation:\")\n",
    "print(\"1. Addition (+)\")\n",
    "print(\"2. Subtraction (-)\")\n",
    "print(\"3. Multiplication (*)\")\n",
    "print(\"4. Division (/)\")\n",
    "choice = input(\"Enter your choice (1/2/3/4): \")\n",
    "if choice == '1':\n",
    "    result = num1 + num2\n",
    "    operation = \"Addition\"\n",
    "elif choice == '2':\n",
    "    result = num1 - num2\n",
    "    operation = \"Subtraction\"\n",
    "elif choice == '3':\n",
    "    result = num1 * num2\n",
    "    operation = \"Multiplication\"\n",
    "elif choice == '4':\n",
    "    if num2 == 0:\n",
    "        print(\"Error: Division by zero is not allowed.\")\n",
    "    else:\n",
    "        result = num1 / num2\n",
    "        operation = \"Division\"\n",
    "else:\n",
    "    print(\"Invalid choice! Please select a valid arithmetic operation.\")\n",
    "    result = None \n",
    "if result is not None:\n",
    "    print(f\"{operation} result: {result}\")\n"
   ]
  },
  {
   "cell_type": "markdown",
   "id": "2bcb58b2",
   "metadata": {},
   "source": [
    "9. Write a python program to take the temperature in Celsius and convert it to a Fahrenheit."
   ]
  },
  {
   "cell_type": "code",
   "execution_count": 20,
   "id": "86b04e6f",
   "metadata": {},
   "outputs": [
    {
     "name": "stdout",
     "output_type": "stream",
     "text": [
      "Enter temperature in Celsius: 25\n",
      "25.0°C is equal to 77.0°F\n"
     ]
    }
   ],
   "source": [
    "celsius = float(input(\"Enter temperature in Celsius: \"))\n",
    "fahrenheit = (celsius * 9/5) + 32\n",
    "print(f\"{celsius}°C is equal to {fahrenheit}°F\")"
   ]
  },
  {
   "cell_type": "markdown",
   "id": "d8f2d31b",
   "metadata": {},
   "source": [
    "10. Write a python program to find a maximum and minimum number in a list without using an inbuilt function."
   ]
  },
  {
   "cell_type": "code",
   "execution_count": 21,
   "id": "365b2f12",
   "metadata": {},
   "outputs": [
    {
     "name": "stdout",
     "output_type": "stream",
     "text": [
      "Maximum value: 56\n",
      "Minimum value: 3\n"
     ]
    }
   ],
   "source": [
    "def find_max_min(numbers):\n",
    "    # Check if the list is empty\n",
    "    if not numbers:\n",
    "        return None, None\n",
    "    max_num = numbers[0]\n",
    "    min_num = numbers[0]\n",
    "    for num in numbers:\n",
    "        if num > max_num:\n",
    "            max_num = num\n",
    "        elif num < min_num:\n",
    "            min_num = num\n",
    "\n",
    "    return max_num, min_num\n",
    "num_list = [12, 45, 7, 23, 56, 19, 3]\n",
    "max_value, min_value = find_max_min(num_list)\n",
    "if max_value is not None and min_value is not None:\n",
    "    print(f\"Maximum value: {max_value}\")\n",
    "    print(f\"Minimum value: {min_value}\")\n",
    "else:\n",
    "    print(\"The list is empty.\")\n"
   ]
  },
  {
   "cell_type": "markdown",
   "id": "36884c40",
   "metadata": {},
   "source": [
    "11. Write a program in python to print out the number of seconds in 30-day month 30 days, 24 hours\n",
    "in a day, 60 minutes per day, 60 seconds in a minute."
   ]
  },
  {
   "cell_type": "code",
   "execution_count": 22,
   "id": "30ee75c6",
   "metadata": {},
   "outputs": [
    {
     "name": "stdout",
     "output_type": "stream",
     "text": [
      "The number of seconds in a 30-day month is: 2592000 seconds\n"
     ]
    }
   ],
   "source": [
    "days_in_month = 30\n",
    "hours_in_day = 24\n",
    "minutes_in_hour = 60\n",
    "seconds_in_minute = 60\n",
    "seconds_in_month = days_in_month * hours_in_day * minutes_in_hour * seconds_in_minute\n",
    "print(f\"The number of seconds in a 30-day month is: {seconds_in_month} seconds\")"
   ]
  },
  {
   "cell_type": "markdown",
   "id": "35d12b7c",
   "metadata": {},
   "source": [
    "12. Write a program in python to print out the number of seconds in a year."
   ]
  },
  {
   "cell_type": "code",
   "execution_count": 23,
   "id": "51f2dbd9",
   "metadata": {},
   "outputs": [
    {
     "name": "stdout",
     "output_type": "stream",
     "text": [
      "The number of seconds in a year is: 31536000 seconds\n"
     ]
    }
   ],
   "source": [
    "days_in_year = 365\n",
    "hours_in_day = 24\n",
    "minutes_in_hour = 60\n",
    "seconds_in_minute = 60\n",
    "seconds_in_year = days_in_year * hours_in_day * minutes_in_hour * seconds_in_minute\n",
    "print(f\"The number of seconds in a year is: {seconds_in_year} seconds\")"
   ]
  },
  {
   "cell_type": "markdown",
   "id": "686a4b23",
   "metadata": {},
   "source": [
    "13. A high-speed train can travel at an average speed of 150 mph, how long will it take a train traveling at this speed to travel from London to Glasgow which is 414 miles away?"
   ]
  },
  {
   "cell_type": "code",
   "execution_count": 24,
   "id": "dda7c1d8",
   "metadata": {},
   "outputs": [
    {
     "name": "stdout",
     "output_type": "stream",
     "text": [
      "It will take approximately 2.76 hours to travel from London to Glasgow at an average speed of 150 mph.\n"
     ]
    }
   ],
   "source": [
    "distance = 414\n",
    "speed = 150\n",
    "time_hours = distance / speed\n",
    "print(f\"It will take approximately {time_hours:.2f} hours to travel from London to Glasgow at an average speed of {speed} mph.\")\n"
   ]
  },
  {
   "cell_type": "markdown",
   "id": "99e91869",
   "metadata": {},
   "source": [
    "14. Write a python program that defines a variable called day_in_each school_year and assign 192 to the variable. The program should then print out the total hours that you spend in school from year 7 to year 11, If each day you spend 6 hours in school days_in_each_school_year=192 "
   ]
  },
  {
   "cell_type": "code",
   "execution_count": 25,
   "id": "037c5e34",
   "metadata": {},
   "outputs": [
    {
     "name": "stdout",
     "output_type": "stream",
     "text": [
      "Total hours spent in school from Year 7 to Year 11: 5760 hours\n"
     ]
    }
   ],
   "source": [
    "days_in_each_school_year = 192\n",
    "total_hours_in_school = 0\n",
    "for year in range(7, 12):\n",
    "    total_hours_in_school += days_in_each_school_year * 6\n",
    "print(f\"Total hours spent in school from Year 7 to Year 11: {total_hours_in_school} hours\")"
   ]
  },
  {
   "cell_type": "markdown",
   "id": "c33eb81a",
   "metadata": {},
   "source": [
    "15. the age of Ram,Sam and Khan are input through the keyboard,write a python program to\n",
    "determine the eldest and youngest of the three."
   ]
  },
  {
   "cell_type": "code",
   "execution_count": 26,
   "id": "874653ba",
   "metadata": {},
   "outputs": [
    {
     "name": "stdout",
     "output_type": "stream",
     "text": [
      "Enter the age of Ram: 20\n",
      "Enter the age of Sam: 21\n",
      "Enter the age of Khan: 30\n",
      "The eldest among Ram, Sam, and Khan is Khan with an age of 30 years.\n",
      "The youngest among Ram, Sam, and Khan is Ram with an age of 20 years.\n"
     ]
    }
   ],
   "source": [
    "ram_age = int(input(\"Enter the age of Ram: \"))\n",
    "sam_age = int(input(\"Enter the age of Sam: \"))\n",
    "khan_age = int(input(\"Enter the age of Khan: \"))\n",
    "eldest = \"\"\n",
    "youngest = \"\"\n",
    "if ram_age >= sam_age and ram_age >= khan_age:\n",
    "    eldest = \"Ram\"\n",
    "elif sam_age >= ram_age and sam_age >= khan_age:\n",
    "    eldest = \"Sam\"\n",
    "else:\n",
    "    eldest = \"Khan\"\n",
    "if ram_age <= sam_age and ram_age <= khan_age:\n",
    "    youngest = \"Ram\"\n",
    "elif sam_age <= ram_age and sam_age <= khan_age:\n",
    "    youngest = \"Sam\"\n",
    "else:\n",
    "    youngest = \"Khan\"\n",
    "print(f\"The eldest among Ram, Sam, and Khan is {eldest} with an age of {max(ram_age, sam_age, khan_age)} years.\")\n",
    "print(f\"The youngest among Ram, Sam, and Khan is {youngest} with an age of {min(ram_age, sam_age, khan_age)} years.\")"
   ]
  },
  {
   "cell_type": "markdown",
   "id": "ec82e1ee",
   "metadata": {},
   "source": [
    "16. Write a python program to rotate a list by right n times with and without slicing technique."
   ]
  },
  {
   "cell_type": "markdown",
   "id": "442c52fa",
   "metadata": {},
   "source": [
    "* With slicing technique"
   ]
  },
  {
   "cell_type": "code",
   "execution_count": 27,
   "id": "9ea7daee",
   "metadata": {},
   "outputs": [
    {
     "name": "stdout",
     "output_type": "stream",
     "text": [
      "Enter the number of rotations to the right: 20\n",
      "List after right rotation using slicing: [1, 2, 3, 4, 5]\n"
     ]
    }
   ],
   "source": [
    "def rotate_list_right_slicing(lst, n):\n",
    "    n = n % len(lst)\n",
    "    rotated_list = lst[-n:] + lst[:-n]\n",
    "    return rotated_list\n",
    "original_list = [1, 2, 3, 4, 5]\n",
    "rotations = int(input(\"Enter the number of rotations to the right: \"))\n",
    "rotated_list = rotate_list_right_slicing(original_list, rotations)\n",
    "print(\"List after right rotation using slicing:\", rotated_list)"
   ]
  },
  {
   "cell_type": "markdown",
   "id": "ba59e97c",
   "metadata": {},
   "source": [
    "* Without slicing technique"
   ]
  },
  {
   "cell_type": "code",
   "execution_count": 28,
   "id": "481afc79",
   "metadata": {},
   "outputs": [
    {
     "name": "stdout",
     "output_type": "stream",
     "text": [
      "Enter the number of rotations to the right: 45\n",
      "List after right rotation without slicing: [1, 2, 3, 4, 5]\n"
     ]
    }
   ],
   "source": [
    "def rotate_list_right_non_slicing(lst, n):\n",
    "    n = n % len(lst) \n",
    "    for _ in range(n):\n",
    "        lst.insert(0, lst.pop())\n",
    "original_list = [1, 2, 3, 4, 5]\n",
    "rotations = int(input(\"Enter the number of rotations to the right: \"))\n",
    "rotate_list_right_non_slicing(original_list, rotations)\n",
    "print(\"List after right rotation without slicing:\", original_list)"
   ]
  },
  {
   "cell_type": "markdown",
   "id": "7ab36abb",
   "metadata": {},
   "source": [
    "17. Python program to print the patterns given below:"
   ]
  },
  {
   "cell_type": "code",
   "execution_count": null,
   "id": "9402ceaa",
   "metadata": {},
   "outputs": [],
   "source": [
    "def generate_pascals_triangle(n):\n",
    "    triangle = []\n",
    "    for line in range(1, n + 1):\n",
    "        row = []\n",
    "        for i in range(line):\n",
    "            if i == 0 or i == line - 1:\n",
    "                row.append(1)\n",
    "            else:\n",
    "                prev_row = triangle[-1]\n",
    "                value = prev_row[i - 1] + prev_row[i]\n",
    "                row.append(value)\n",
    "        triangle.append(row)\n",
    "    return triangle\n",
    "\n",
    "def print_pascals_triangle(triangle):\n",
    "    for row in triangle:\n",
    "        for value in row:\n",
    "            print(value, end=\" \")\n",
    "        print()\n",
    "\n",
    "n = 6  \n",
    "pascals_triangle = generate_pascals_triangle(n)\n",
    "print_pascals_triangle(pascals_triangle)\n",
    "def print_pattern(rows):\n",
    "    for i in range(1, rows + 1):\n",
    "        for j in range(1, i + 1):\n",
    "            print(\"*\", end=\" \")\n",
    "        print()\n",
    "rows = 5\n",
    "print_pattern(rows)\n",
    "def print_pattern(rows):\n",
    "    for i in range(1, rows + 1): \n",
    "        for j in range(rows - i):\n",
    "            print(\" \", end=\" \")\n",
    "      \n",
    "        for k in range(i):\n",
    "   \n",
    "    print(\"*\", end=\" \")\n",
    "        print()\n",
    "rows = 6\n",
    "\n",
    "print_pattern(rows)\n",
    "def print_pattern9(rows):\n",
    "    word = \"Python\"\n",
    "    for i in range(0, rows):\n",
    "        for j in range(0, i + 1):\n",
    "            print(word[j], end=\"\")\n",
    "        print()\n",
    "\n",
    "\n",
    "rows = 6\n",
    "print_pattern9(rows)"
   ]
  }
 ],
 "metadata": {
  "kernelspec": {
   "display_name": "Python 3 (ipykernel)",
   "language": "python",
   "name": "python3"
  },
  "language_info": {
   "codemirror_mode": {
    "name": "ipython",
    "version": 3
   },
   "file_extension": ".py",
   "mimetype": "text/x-python",
   "name": "python",
   "nbconvert_exporter": "python",
   "pygments_lexer": "ipython3",
   "version": "3.11.4"
  }
 },
 "nbformat": 4,
 "nbformat_minor": 5
}
