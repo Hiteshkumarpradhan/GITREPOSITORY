{
 "cells": [
  {
   "cell_type": "markdown",
   "id": "95a572b7",
   "metadata": {},
   "source": [
    "# LANGUAGE FUNDAMENTALS:\n",
    "    \n"
   ]
  },
  {
   "cell_type": "markdown",
   "id": "e2ea59c6",
   "metadata": {},
   "source": [
    "# 1.Manupulate using a list"
   ]
  },
  {
   "cell_type": "markdown",
   "id": "d58f84d9",
   "metadata": {},
   "source": [
    "i) To add new elements to the end of the list"
   ]
  },
  {
   "cell_type": "code",
   "execution_count": 16,
   "id": "4f434eda",
   "metadata": {},
   "outputs": [
    {
     "name": "stdout",
     "output_type": "stream",
     "text": [
      "[22, 54, 67, 'AAAA', 5555]\n"
     ]
    }
   ],
   "source": [
    "lst=[22,54,67,'AAAA']\n",
    "lst.append(5555)\n",
    "print(lst)"
   ]
  },
  {
   "cell_type": "markdown",
   "id": "11ef9dab",
   "metadata": {},
   "source": [
    "ii) To reverse elements in the list"
   ]
  },
  {
   "cell_type": "code",
   "execution_count": 4,
   "id": "3dc5203e",
   "metadata": {},
   "outputs": [
    {
     "name": "stdout",
     "output_type": "stream",
     "text": [
      "[4, 3, 2, 1]\n"
     ]
    }
   ],
   "source": [
    "my_list = [1, 2, 3, 4]\n",
    "my_list.reverse() \n",
    "print(my_list)\n"
   ]
  },
  {
   "cell_type": "markdown",
   "id": "56aba591",
   "metadata": {},
   "source": [
    "iii) To display the same list of elements multiple times."
   ]
  },
  {
   "cell_type": "code",
   "execution_count": 5,
   "id": "ae445d09",
   "metadata": {},
   "outputs": [
    {
     "name": "stdout",
     "output_type": "stream",
     "text": [
      "[1, 2, 3, 1, 2, 3, 1, 2, 3]\n"
     ]
    }
   ],
   "source": [
    "my_list = [1, 2, 3]\n",
    "times_to_repeat = 3  \n",
    "\n",
    "result_list = my_list * times_to_repeat\n",
    "print(result_list)\n"
   ]
  },
  {
   "cell_type": "markdown",
   "id": "f20719b2",
   "metadata": {},
   "source": [
    "   iv) To concatenate two list\n"
   ]
  },
  {
   "cell_type": "code",
   "execution_count": 6,
   "id": "5a5e59af",
   "metadata": {},
   "outputs": [
    {
     "name": "stdout",
     "output_type": "stream",
     "text": [
      "[1, 2, 3, 4, 5, 6]\n"
     ]
    }
   ],
   "source": [
    "list1 = [1, 2, 3]\n",
    "list2 = [4, 5, 6]\n",
    "\n",
    "concatenated_list = list1 + list2\n",
    "print(concatenated_list)\n"
   ]
  },
  {
   "cell_type": "markdown",
   "id": "627b481a",
   "metadata": {},
   "source": [
    " v) To sort the elements in the list in ascending order"
   ]
  },
  {
   "cell_type": "code",
   "execution_count": 1,
   "id": "594f67d9",
   "metadata": {},
   "outputs": [
    {
     "name": "stdout",
     "output_type": "stream",
     "text": [
      "[1, 1, 2, 3, 3, 4, 5, 5, 5, 6, 9]\n"
     ]
    }
   ],
   "source": [
    "my_list = [3, 1, 4, 1, 5, 9, 2, 6, 5, 3, 5]\n",
    "\n",
    "my_list.sort()  \n",
    "print(my_list)"
   ]
  },
  {
   "cell_type": "markdown",
   "id": "a539f463",
   "metadata": {},
   "source": [
    "# 2. Write a Python program to do in the tuples.\n"
   ]
  },
  {
   "cell_type": "markdown",
   "id": "635d33d8",
   "metadata": {},
   "source": [
    "  i) Manipulate using tuples.\n"
   ]
  },
  {
   "cell_type": "code",
   "execution_count": 26,
   "id": "41e9363e",
   "metadata": {},
   "outputs": [
    {
     "name": "stdout",
     "output_type": "stream",
     "text": [
      "First element: 1\n",
      "Last element: 5\n",
      "Slice of the tuple: (2, 3, 4)\n",
      "Concatenated tuple: (1, 2, 3, 4, 5, 6)\n",
      "3 exists in the tuple\n",
      "Length of the tuple: 5\n",
      "1 2 3 4 5 \n",
      "Unpacked values: 1 2 3 4 5\n"
     ]
    }
   ],
   "source": [
    "my_tuple = (1, 2, 3, 4, 5)\n",
    "print(\"First element:\", my_tuple[0])\n",
    "print(\"Last element:\", my_tuple[-1])\n",
    "slice_tuple = my_tuple[1:4]\n",
    "print(\"Slice of the tuple:\", slice_tuple)\n",
    "tuple1 = (1, 2, 3)\n",
    "tuple2 = (4, 5, 6)\n",
    "concatenated_tuple = tuple1 + tuple2\n",
    "print(\"Concatenated tuple:\", concatenated_tuple)\n",
    "element_to_check = 3\n",
    "if element_to_check in my_tuple:\n",
    "    print(f\"{element_to_check} exists in the tuple\")\n",
    "else:\n",
    "    print(f\"{element_to_check} does not exist in the tuple\")\n",
    "tuple_length = len(my_tuple)\n",
    "print(\"Length of the tuple:\", tuple_length)\n",
    "for item in my_tuple:\n",
    "    print(item, end=\" \")\n",
    "a, b, c, d, e = my_tuple\n",
    "print(\"\\nUnpacked values:\", a, b, c, d, e)\n"
   ]
  },
  {
   "cell_type": "markdown",
   "id": "64b7bfc4",
   "metadata": {},
   "source": [
    "    ii) To add new elements to the end of the tuples\n"
   ]
  },
  {
   "cell_type": "code",
   "execution_count": 27,
   "id": "52f45adf",
   "metadata": {},
   "outputs": [
    {
     "name": "stdout",
     "output_type": "stream",
     "text": [
      "Original Tuple: (1, 2, 3, 4, 5)\n",
      "New Tuple with Element Added: (1, 2, 3, 4, 5, 6)\n"
     ]
    }
   ],
   "source": [
    "my_tuple = (1, 2, 3, 4, 5)\n",
    "new_element = 6\n",
    "new_tuple = my_tuple + (new_element,)\n",
    "print(\"Original Tuple:\", my_tuple)\n",
    "print(\"New Tuple with Element Added:\", new_tuple)\n"
   ]
  },
  {
   "cell_type": "markdown",
   "id": "50658054",
   "metadata": {},
   "source": [
    "    iii) To reverse elements in the list\n"
   ]
  },
  {
   "cell_type": "code",
   "execution_count": 28,
   "id": "72700186",
   "metadata": {},
   "outputs": [
    {
     "name": "stdout",
     "output_type": "stream",
     "text": [
      "Original Tuple: (1, 2, 3, 4, 5)\n",
      "Reversed Tuple: (5, 4, 3, 2, 1)\n"
     ]
    }
   ],
   "source": [
    "my_tuple = (1, 2, 3, 4, 5)\n",
    "reversed_tuple = my_tuple[::-1]\n",
    "print(\"Original Tuple:\", my_tuple)\n",
    "print(\"Reversed Tuple:\", reversed_tuple)\n"
   ]
  },
  {
   "cell_type": "markdown",
   "id": "f0adef30",
   "metadata": {},
   "source": [
    " iv) To display the elements of the same tuple multiple times"
   ]
  },
  {
   "cell_type": "code",
   "execution_count": 29,
   "id": "06e581a5",
   "metadata": {},
   "outputs": [
    {
     "name": "stdout",
     "output_type": "stream",
     "text": [
      "1 2 3 \n",
      "1 2 3 \n",
      "1 2 3 \n"
     ]
    }
   ],
   "source": [
    "my_tuple = (1, 2, 3)\n",
    "display_times = 3\n",
    "for _ in range(display_times):\n",
    "    for element in my_tuple:\n",
    "        print(element, end=' ')\n",
    "    print() \n"
   ]
  },
  {
   "cell_type": "markdown",
   "id": "16b6dd9e",
   "metadata": {},
   "source": [
    "v) To concatenate two tuples To sort the elements in the list in ascending order."
   ]
  },
  {
   "cell_type": "code",
   "execution_count": 30,
   "id": "83f15fc4",
   "metadata": {},
   "outputs": [
    {
     "name": "stdout",
     "output_type": "stream",
     "text": [
      "Concatenated Tuple: (4, 2, 8, 1, 7, 6, 5, 3)\n",
      "Sorted Tuple in Ascending Order: (1, 2, 3, 4, 5, 6, 7, 8)\n"
     ]
    }
   ],
   "source": [
    "tuple1 = (4, 2, 8, 1)\n",
    "tuple2 = (7, 6, 5, 3)\n",
    "concatenated_tuple = tuple1 + tuple2\n",
    "print(\"Concatenated Tuple:\", concatenated_tuple)\n",
    "concatenated_list = list(concatenated_tuple)\n",
    "concatenated_list.sort()\n",
    "sorted_tuple = tuple(concatenated_list)\n",
    "print(\"Sorted Tuple in Ascending Order:\", sorted_tuple)\n"
   ]
  },
  {
   "cell_type": "markdown",
   "id": "4ab48857",
   "metadata": {},
   "source": [
    "# 3. Write a python program to implement the following using list.\n"
   ]
  },
  {
   "cell_type": "markdown",
   "id": "58c65d4a",
   "metadata": {},
   "source": [
    "   i) Create a list with integers (minimum 10 numbers)\n"
   ]
  },
  {
   "cell_type": "code",
   "execution_count": 31,
   "id": "dd7a7523",
   "metadata": {},
   "outputs": [
    {
     "name": "stdout",
     "output_type": "stream",
     "text": [
      "List of integers: [1, 2, 3, 4, 5, 6, 7, 8, 9, 10]\n"
     ]
    }
   ],
   "source": [
    "my_list = [1, 2, 3, 4, 5, 6, 7, 8, 9, 10]\n",
    "print(\"List of integers:\", my_list)"
   ]
  },
  {
   "cell_type": "markdown",
   "id": "a03c440d",
   "metadata": {},
   "source": [
    "ii) How to display the last number in the list\n"
   ]
  },
  {
   "cell_type": "code",
   "execution_count": 32,
   "id": "067c26c4",
   "metadata": {},
   "outputs": [
    {
     "ename": "SyntaxError",
     "evalue": "invalid syntax (3274813784.py, line 2)",
     "output_type": "error",
     "traceback": [
      "\u001b[1;36m  Cell \u001b[1;32mIn[32], line 2\u001b[1;36m\u001b[0m\n\u001b[1;33m    last number in the list\u001b[0m\n\u001b[1;37m         ^\u001b[0m\n\u001b[1;31mSyntaxError\u001b[0m\u001b[1;31m:\u001b[0m invalid syntax\n"
     ]
    }
   ],
   "source": [
    "my_list = [1, 2, 3, 4, 5, 6, 7, 8, 9, 10]\n",
    "last number in the list\n",
    "last_number = my_list[-1]\n",
    "print(\"Last number in the list:\", last_number)\n"
   ]
  },
  {
   "cell_type": "markdown",
   "id": "c37fb45c",
   "metadata": {},
   "source": [
    " iii) Command for displaying the values from the list [0:4]"
   ]
  },
  {
   "cell_type": "code",
   "execution_count": 33,
   "id": "d7a7fc65",
   "metadata": {},
   "outputs": [
    {
     "name": "stdout",
     "output_type": "stream",
     "text": [
      "Values from index 0 to 3: [1, 2, 3, 4]\n"
     ]
    }
   ],
   "source": [
    "my_list = [1, 2, 3, 4, 5, 6, 7, 8, 9, 10]\n",
    "selected_values = my_list[0:4]\n",
    "print(\"Values from index 0 to 3:\", selected_values)\n"
   ]
  },
  {
   "cell_type": "markdown",
   "id": "0f63ecd8",
   "metadata": {},
   "source": [
    "iv) Command for displaying the values from the list [2:]\n"
   ]
  },
  {
   "cell_type": "code",
   "execution_count": 34,
   "id": "006f7be8",
   "metadata": {},
   "outputs": [
    {
     "name": "stdout",
     "output_type": "stream",
     "text": [
      "Values from index 2 to the end: [3, 4, 5, 6, 7, 8, 9, 10]\n"
     ]
    }
   ],
   "source": [
    "my_list = [1, 2, 3, 4, 5, 6, 7, 8, 9, 10]\n",
    "selected_values = my_list[2:]\n",
    "print(\"Values from index 2 to the end:\", selected_values)\n"
   ]
  },
  {
   "cell_type": "markdown",
   "id": "53a0f250",
   "metadata": {},
   "source": [
    "   v) Command for displaying the values from the list [:6]"
   ]
  },
  {
   "cell_type": "code",
   "execution_count": 35,
   "id": "114a74d5",
   "metadata": {},
   "outputs": [
    {
     "name": "stdout",
     "output_type": "stream",
     "text": [
      "Values from the beginning up to index 5: [1, 2, 3, 4, 5, 6]\n"
     ]
    }
   ],
   "source": [
    "my_list = [1, 2, 3, 4, 5, 6, 7, 8, 9, 10]\n",
    "selected_values = my_list[:6]\n",
    "print(\"Values from the beginning up to index 5:\", selected_values)\n"
   ]
  },
  {
   "cell_type": "markdown",
   "id": "e7847d0e",
   "metadata": {},
   "source": [
    "# 4. Write a Python program: tuple1 = (10,50,20,40,30)\n"
   ]
  },
  {
   "cell_type": "markdown",
   "id": "7ae69755",
   "metadata": {},
   "source": [
    "\n",
    "    i. To display the elements 10 and 50 from tuple1\n"
   ]
  },
  {
   "cell_type": "code",
   "execution_count": 36,
   "id": "f1813bc8",
   "metadata": {},
   "outputs": [
    {
     "name": "stdout",
     "output_type": "stream",
     "text": [
      "Element 1: 10\n",
      "Element 2: 50\n"
     ]
    }
   ],
   "source": [
    "tuple1 = (10, 50, 20, 40, 30)\n",
    "element1 = tuple1[0]\n",
    "element2 = tuple1[1]\n",
    "print(\"Element 1:\", element1)\n",
    "print(\"Element 2:\", element2)\n"
   ]
  },
  {
   "cell_type": "markdown",
   "id": "ce939df6",
   "metadata": {},
   "source": [
    "    ii. To display the length of a tuple1.\n",
    "\n"
   ]
  },
  {
   "cell_type": "code",
   "execution_count": 37,
   "id": "770b58bd",
   "metadata": {},
   "outputs": [
    {
     "name": "stdout",
     "output_type": "stream",
     "text": [
      "Length of tuple1: 5\n"
     ]
    }
   ],
   "source": [
    "tuple1 = (10, 50, 20, 40, 30)\n",
    "tuple_length = len(tuple1)\n",
    "print(\"Length of tuple1:\", tuple_length)"
   ]
  },
  {
   "cell_type": "markdown",
   "id": "0e759742",
   "metadata": {},
   "source": [
    "iii.To find the minimum element from tuple1."
   ]
  },
  {
   "cell_type": "code",
   "execution_count": 38,
   "id": "006f423c",
   "metadata": {},
   "outputs": [
    {
     "name": "stdout",
     "output_type": "stream",
     "text": [
      "Minimum element in tuple1: 10\n"
     ]
    }
   ],
   "source": [
    "tuple1 = (10, 50, 20, 40, 30)\n",
    "min_element = min(tuple1)\n",
    "print(\"Minimum element in tuple1:\", min_element)"
   ]
  },
  {
   "cell_type": "markdown",
   "id": "84bf00d2",
   "metadata": {},
   "source": [
    "    iv. To add all elements in the tuple1.\n"
   ]
  },
  {
   "cell_type": "code",
   "execution_count": 24,
   "id": "8e8a1e94",
   "metadata": {},
   "outputs": [
    {
     "name": "stdout",
     "output_type": "stream",
     "text": [
      "Sum of elements in tuple1: 150\n"
     ]
    }
   ],
   "source": [
    "tuple1 = (10, 50, 20, 40, 30)\n",
    "total = sum(tuple1)\n",
    "print(\"Sum of elements in tuple1:\", total)"
   ]
  },
  {
   "cell_type": "markdown",
   "id": "f822a38d",
   "metadata": {},
   "source": [
    "V. To display the same tuple1 multiple times."
   ]
  },
  {
   "cell_type": "code",
   "execution_count": 23,
   "id": "9a344191",
   "metadata": {},
   "outputs": [
    {
     "name": "stdout",
     "output_type": "stream",
     "text": [
      "Tuple1 displayed 3 times: (10, 50, 20, 40, 30, 10, 50, 20, 40, 30, 10, 50, 20, 40, 30)\n"
     ]
    }
   ],
   "source": [
    "tuple1 = (10, 50, 20, 40, 30)\n",
    "display_times = 3\n",
    "result_tuple = tuple1 * display_times\n",
    "print(\"Tuple1 displayed\", display_times, \"times:\", result_tuple)"
   ]
  },
  {
   "cell_type": "markdown",
   "id": "f4ffa832",
   "metadata": {},
   "source": [
    "# 5. Write a Python program:\n"
   ]
  },
  {
   "cell_type": "markdown",
   "id": "03710e28",
   "metadata": {},
   "source": [
    "i) To calculate the length of a string\n"
   ]
  },
  {
   "cell_type": "code",
   "execution_count": 39,
   "id": "e0ddf829",
   "metadata": {},
   "outputs": [
    {
     "name": "stdout",
     "output_type": "stream",
     "text": [
      "Enter a string: class\n",
      "Length of the string: 5\n"
     ]
    }
   ],
   "source": [
    "my_string = input(\"Enter a string: \")\n",
    "string_length = len(my_string)\n",
    "print(\"Length of the string:\", string_length)"
   ]
  },
  {
   "cell_type": "markdown",
   "id": "6490cc96",
   "metadata": {},
   "source": [
    "    ii) To reverse words in a string\n"
   ]
  },
  {
   "cell_type": "code",
   "execution_count": 40,
   "id": "63736da5",
   "metadata": {},
   "outputs": [
    {
     "name": "stdout",
     "output_type": "stream",
     "text": [
      "Enter a string: classname\n",
      "Reversed string: classname\n"
     ]
    }
   ],
   "source": [
    "input_string = input(\"Enter a string: \")\n",
    "words = input_string.split()\n",
    "reversed_words = list(reversed(words))\n",
    "reversed_string = ' '.join(reversed_words)\n",
    "print(\"Reversed string:\", reversed_string)"
   ]
  },
  {
   "cell_type": "markdown",
   "id": "f777cfae",
   "metadata": {},
   "source": [
    "    iii) To display the same string multiple times\n"
   ]
  },
  {
   "cell_type": "code",
   "execution_count": 41,
   "id": "f4495feb",
   "metadata": {},
   "outputs": [
    {
     "name": "stdout",
     "output_type": "stream",
     "text": [
      "Enter a string: hitesh\n",
      "Enter the number of times to display the string: 5\n",
      "String displayed 5 times: hiteshhiteshhiteshhiteshhitesh\n"
     ]
    }
   ],
   "source": [
    "my_string = input(\"Enter a string: \")\n",
    "display_times = int(input(\"Enter the number of times to display the string: \"))\n",
    "result_string = my_string * display_times\n",
    "print(\"String displayed\", display_times, \"times:\", result_string)"
   ]
  },
  {
   "cell_type": "markdown",
   "id": "e3a1d837",
   "metadata": {},
   "source": [
    "    iv) To concatenate two strings\n"
   ]
  },
  {
   "cell_type": "code",
   "execution_count": 42,
   "id": "0bc08d34",
   "metadata": {},
   "outputs": [
    {
     "name": "stdout",
     "output_type": "stream",
     "text": [
      "Enter the first string: hitesh\n",
      "Enter the second string: books\n",
      "Concatenated String (Method 1): hiteshbooks\n",
      "Concatenated String (Method 2): hiteshbooks\n"
     ]
    }
   ],
   "source": [
    "string1 = input(\"Enter the first string: \")\n",
    "string2 = input(\"Enter the second string: \")\n",
    "concatenated_string1 = string1 + string2\n",
    "concatenated_string2 = \"{}{}\".format(string1, string2)\n",
    "print(\"Concatenated String (Method 1):\", concatenated_string1)\n",
    "print(\"Concatenated String (Method 2):\", concatenated_string2)\n"
   ]
  },
  {
   "cell_type": "markdown",
   "id": "d08dfc34",
   "metadata": {},
   "source": [
    "\n",
    "    V) Stri=\" South India\", using string slicing to display \"India\""
   ]
  },
  {
   "cell_type": "code",
   "execution_count": 43,
   "id": "d83971f7",
   "metadata": {},
   "outputs": [
    {
     "name": "stdout",
     "output_type": "stream",
     "text": [
      "Result: India\n"
     ]
    }
   ],
   "source": [
    "Stri = \"South India\"\n",
    "india_part = Stri[-5:]\n",
    "print(\"Result:\", india_part)"
   ]
  },
  {
   "cell_type": "markdown",
   "id": "23f1a40f",
   "metadata": {},
   "source": [
    "# 6. Perform the following:\n"
   ]
  },
  {
   "cell_type": "markdown",
   "id": "124e550d",
   "metadata": {},
   "source": [
    "i) Creating the Dictionary."
   ]
  },
  {
   "cell_type": "code",
   "execution_count": 44,
   "id": "a55aaff6",
   "metadata": {},
   "outputs": [
    {
     "name": "stdout",
     "output_type": "stream",
     "text": [
      "{'name': 'John', 'age': 30, 'city': 'New York'}\n"
     ]
    }
   ],
   "source": [
    "my_dict = {\n",
    "    \"name\": \"John\",\n",
    "    \"age\": 30,\n",
    "    \"city\": \"New York\"\n",
    "}\n",
    "print(my_dict)\n"
   ]
  },
  {
   "cell_type": "markdown",
   "id": "0ad2a187",
   "metadata": {},
   "source": [
    "ii) Accessing values and keys in the Dictionary.\n"
   ]
  },
  {
   "cell_type": "code",
   "execution_count": 45,
   "id": "85f7f111",
   "metadata": {},
   "outputs": [
    {
     "name": "stdout",
     "output_type": "stream",
     "text": [
      "Name: John\n",
      "Age: 30\n",
      "City: New York\n",
      "Keys: ['name', 'age', 'city']\n"
     ]
    }
   ],
   "source": [
    "my_dict = {\n",
    "    \"name\": \"John\",\n",
    "    \"age\": 30,\n",
    "    \"city\": \"New York\"\n",
    "}\n",
    "name_value = my_dict[\"name\"]\n",
    "age_value = my_dict[\"age\"]\n",
    "city_value = my_dict[\"city\"]\n",
    "keys_list = list(my_dict.keys())\n",
    "print(\"Name:\", name_value)\n",
    "print(\"Age:\", age_value)\n",
    "print(\"City:\", city_value)\n",
    "print(\"Keys:\", keys_list)\n"
   ]
  },
  {
   "cell_type": "markdown",
   "id": "0bd4c66c",
   "metadata": {},
   "source": [
    "iii) Updating the dictionary using a function.\n"
   ]
  },
  {
   "cell_type": "code",
   "execution_count": 46,
   "id": "4a16a01b",
   "metadata": {},
   "outputs": [
    {
     "name": "stdout",
     "output_type": "stream",
     "text": [
      "Updated Dictionary: {'name': 'John', 'age': 30, 'city': 'New York', 'country': 'USA', 'population': 330000000}\n"
     ]
    }
   ],
   "source": [
    "def update_dict(input_dict):\n",
    "    input_dict[\"country\"] = \"USA\"\n",
    "    input_dict[\"population\"] = 330_000_000\n",
    "\n",
    "    return input_dict\n",
    "my_dict = {\n",
    "    \"name\": \"John\",\n",
    "    \"age\": 30,\n",
    "    \"city\": \"New York\"\n",
    "}\n",
    "updated_dict = update_dict(my_dict)\n",
    "print(\"Updated Dictionary:\", updated_dict)\n"
   ]
  },
  {
   "cell_type": "markdown",
   "id": "433ef803",
   "metadata": {},
   "source": [
    "iv) Clear and delete the dictionary values.\n",
    "\n"
   ]
  },
  {
   "cell_type": "code",
   "execution_count": 47,
   "id": "4a518642",
   "metadata": {},
   "outputs": [
    {
     "name": "stdout",
     "output_type": "stream",
     "text": [
      "Dictionary after clearing: {}\n",
      "Dictionary after deleting 'color': {'fruit': 'apple', 'price': 1.0}\n"
     ]
    }
   ],
   "source": [
    "my_dict = {\n",
    "    \"name\": \"John\",\n",
    "    \"age\": 30,\n",
    "    \"city\": \"New York\"\n",
    "}\n",
    "my_dict.clear()\n",
    "print(\"Dictionary after clearing:\", my_dict)\n",
    "another_dict = {\n",
    "    \"fruit\": \"apple\",\n",
    "    \"color\": \"red\",\n",
    "    \"price\": 1.0\n",
    "}\n",
    "del another_dict[\"color\"]\n",
    "print(\"Dictionary after deleting 'color':\", another_dict)"
   ]
  },
  {
   "cell_type": "markdown",
   "id": "a913e7ca",
   "metadata": {},
   "source": [
    "# 7. Python program to insert a number to any position in a list. "
   ]
  },
  {
   "cell_type": "code",
   "execution_count": 48,
   "id": "c03d63a2",
   "metadata": {},
   "outputs": [
    {
     "name": "stdout",
     "output_type": "stream",
     "text": [
      "Updated List: [1, 2, 10, 3, 4, 5]\n"
     ]
    }
   ],
   "source": [
    "my_list = [1, 2, 3, 4, 5]\n",
    "number_to_insert = 10\n",
    "insert_position = 2 \n",
    "my_list.insert(insert_position, number_to_insert)\n",
    "print(\"Updated List:\", my_list)"
   ]
  },
  {
   "cell_type": "markdown",
   "id": "d15d2f85",
   "metadata": {},
   "source": [
    "# 8. Python program to delete an element from a list by index.\n"
   ]
  },
  {
   "cell_type": "code",
   "execution_count": 49,
   "id": "7dcb4d51",
   "metadata": {},
   "outputs": [
    {
     "name": "stdout",
     "output_type": "stream",
     "text": [
      "Deleted Element: 3\n",
      "Updated List: [1, 2, 4, 5]\n"
     ]
    }
   ],
   "source": [
    "my_list = [1, 2, 3, 4, 5]\n",
    "index_to_delete = 2 \n",
    "if 0 <= index_to_delete < len(my_list):\n",
    "    deleted_element = my_list.pop(index_to_delete)\n",
    "    print(\"Deleted Element:\", deleted_element)\n",
    "    print(\"Updated List:\", my_list)\n",
    "else:\n",
    "    print(\"Index is out of range. Cannot delete element.\")\n"
   ]
  },
  {
   "cell_type": "markdown",
   "id": "d87a6acf",
   "metadata": {},
   "source": [
    "# 9. Write a program to display a number from 1 to 100."
   ]
  },
  {
   "cell_type": "code",
   "execution_count": 50,
   "id": "42b1968e",
   "metadata": {},
   "outputs": [
    {
     "name": "stdout",
     "output_type": "stream",
     "text": [
      "1\n",
      "2\n",
      "3\n",
      "4\n",
      "5\n",
      "6\n",
      "7\n",
      "8\n",
      "9\n",
      "10\n",
      "11\n",
      "12\n",
      "13\n",
      "14\n",
      "15\n",
      "16\n",
      "17\n",
      "18\n",
      "19\n",
      "20\n",
      "21\n",
      "22\n",
      "23\n",
      "24\n",
      "25\n",
      "26\n",
      "27\n",
      "28\n",
      "29\n",
      "30\n",
      "31\n",
      "32\n",
      "33\n",
      "34\n",
      "35\n",
      "36\n",
      "37\n",
      "38\n",
      "39\n",
      "40\n",
      "41\n",
      "42\n",
      "43\n",
      "44\n",
      "45\n",
      "46\n",
      "47\n",
      "48\n",
      "49\n",
      "50\n",
      "51\n",
      "52\n",
      "53\n",
      "54\n",
      "55\n",
      "56\n",
      "57\n",
      "58\n",
      "59\n",
      "60\n",
      "61\n",
      "62\n",
      "63\n",
      "64\n",
      "65\n",
      "66\n",
      "67\n",
      "68\n",
      "69\n",
      "70\n",
      "71\n",
      "72\n",
      "73\n",
      "74\n",
      "75\n",
      "76\n",
      "77\n",
      "78\n",
      "79\n",
      "80\n",
      "81\n",
      "82\n",
      "83\n",
      "84\n",
      "85\n",
      "86\n",
      "87\n",
      "88\n",
      "89\n",
      "90\n",
      "91\n",
      "92\n",
      "93\n",
      "94\n",
      "95\n",
      "96\n",
      "97\n",
      "98\n",
      "99\n",
      "100\n"
     ]
    }
   ],
   "source": [
    "for number in range(1, 101):\n",
    "    print(number)"
   ]
  },
  {
   "cell_type": "markdown",
   "id": "00f1f581",
   "metadata": {},
   "source": [
    "# 10. Write a Python program to find the sum of all items in a tuple.\n",
    "\n"
   ]
  },
  {
   "cell_type": "code",
   "execution_count": 51,
   "id": "d8234acd",
   "metadata": {},
   "outputs": [
    {
     "name": "stdout",
     "output_type": "stream",
     "text": [
      "Sum of items in the tuple: 150\n"
     ]
    }
   ],
   "source": [
    "my_tuple = (10, 20, 30, 40, 50)\n",
    "total = 0\n",
    "for item in my_tuple:\n",
    "    total += item\n",
    "print(\"Sum of items in the tuple:\", total)"
   ]
  },
  {
   "cell_type": "markdown",
   "id": "e4e8031e",
   "metadata": {},
   "source": [
    "# 11. Create a dictionary containing three lambda functions square, cube and square root.\n"
   ]
  },
  {
   "cell_type": "markdown",
   "id": "bb3be444",
   "metadata": {},
   "source": [
    "i) E.g. dict=('Square': function for squaring 'Cube: function for cube, 'Squareroot\": function for square root)\n",
    "\n"
   ]
  },
  {
   "cell_type": "code",
   "execution_count": 52,
   "id": "4cd29d62",
   "metadata": {},
   "outputs": [
    {
     "name": "stdout",
     "output_type": "stream",
     "text": [
      "Square of 4: 16\n",
      "Cube of 4: 64\n",
      "SquareRoot of 4: 2.0\n"
     ]
    }
   ],
   "source": [
    "math_operations = {\n",
    "    \"Square\": lambda x: x ** 2,\n",
    "    \"Cube\": lambda x: x ** 3,\n",
    "    \"SquareRoot\": lambda x: x ** 0.5,\n",
    "}\n",
    "number = 4 \n",
    "for operation, function in math_operations.items():\n",
    "    result = function(number)\n",
    "    print(f\"{operation} of {number}: {result}\")\n"
   ]
  },
  {
   "cell_type": "markdown",
   "id": "7292f5be",
   "metadata": {},
   "source": [
    "ii) Pass the values (input from the user) to the functions in the dictionary respectively.\n"
   ]
  },
  {
   "cell_type": "code",
   "execution_count": 53,
   "id": "1a341e67",
   "metadata": {},
   "outputs": [
    {
     "name": "stdout",
     "output_type": "stream",
     "text": [
      "Enter a number: 10\n",
      "Square of 10.0: 100.0\n",
      "Cube of 10.0: 1000.0\n",
      "SquareRoot of 10.0: 3.1622776601683795\n"
     ]
    }
   ],
   "source": [
    "math_operations = {\n",
    "    \"Square\": lambda x: x ** 2,\n",
    "    \"Cube\": lambda x: x ** 3,\n",
    "    \"SquareRoot\": lambda x: x ** 0.5,\n",
    "}\n",
    "number = float(input(\"Enter a number: \"))\n",
    "for operation, function in math_operations.items():\n",
    "    result = function(number)\n",
    "    print(f\"{operation} of {number}: {result}\")\n"
   ]
  },
  {
   "cell_type": "markdown",
   "id": "be22eaa9",
   "metadata": {},
   "source": [
    "iii) Then add the outputs of each function and print it.\n"
   ]
  },
  {
   "cell_type": "code",
   "execution_count": 54,
   "id": "fc6a2e17",
   "metadata": {},
   "outputs": [
    {
     "name": "stdout",
     "output_type": "stream",
     "text": [
      "Enter a number: 20\n",
      "Square of 20.0: 400.0\n",
      "Cube of 20.0: 8000.0\n",
      "SquareRoot of 20.0: 4.47213595499958\n",
      "Sum of the results: 8404.472135955\n"
     ]
    }
   ],
   "source": [
    "math_operations = {\n",
    "    \"Square\": lambda x: x ** 2,\n",
    "    \"Cube\": lambda x: x ** 3,\n",
    "    \"SquareRoot\": lambda x: x ** 0.5,\n",
    "}\n",
    "number = float(input(\"Enter a number: \"))\n",
    "result_sum = 0\n",
    "for operation, function in math_operations.items():\n",
    "    result = function(number)\n",
    "    result_sum += result\n",
    "    print(f\"{operation} of {number}: {result}\")\n",
    "print(f\"Sum of the results: {result_sum}\")\n"
   ]
  },
  {
   "cell_type": "markdown",
   "id": "6f141058",
   "metadata": {},
   "source": [
    "# 12. A list of words is given. Find the words from the list that have their second character in uppercase.\n",
    "\n",
    "Is-'hello', 'Dear', 'hOw', 'ARe', 'You']\n",
    "\n"
   ]
  },
  {
   "cell_type": "code",
   "execution_count": 55,
   "id": "65eba8db",
   "metadata": {},
   "outputs": [
    {
     "name": "stdout",
     "output_type": "stream",
     "text": [
      "Words with the second character in uppercase: ['hOw', 'ARe']\n"
     ]
    }
   ],
   "source": [
    "word_list = ['hello', 'Dear', 'hOw', 'ARe', 'You']\n",
    "result_words = []\n",
    "for word in word_list:\n",
    "    if len(word) >= 2 and word[1].isupper():\n",
    "        result_words.append(word)\n",
    "print(\"Words with the second character in uppercase:\", result_words)"
   ]
  },
  {
   "cell_type": "markdown",
   "id": "e1c8a150",
   "metadata": {},
   "source": [
    "# 13. A dictionary of names and their weights on earth is given. Find how much they will weigh on the\n",
    "moon. (Use map and lambda functions) Formula: wMoon (wEarth*GMoon)/GEarth\n"
   ]
  },
  {
   "cell_type": "markdown",
   "id": "21e188da",
   "metadata": {},
   "source": [
    "i)#Weight of people in kg\n",
    "\n",
    "WeightOnEarth=('John':45, 'Shelly':65, 'Marry':35)"
   ]
  },
  {
   "cell_type": "code",
   "execution_count": 7,
   "id": "fef3f6ce",
   "metadata": {},
   "outputs": [
    {
     "name": "stdout",
     "output_type": "stream",
     "text": [
      "John weighs 10.96 kg on the Moon.\n",
      "Shelly weighs 15.83 kg on the Moon.\n",
      "Marry weighs 8.52 kg on the Moon.\n"
     ]
    }
   ],
   "source": [
    "WeightOnEarth = {'John': 45, 'Shelly': 65, 'Marry': 35}\n",
    "GMoon = 1.625 * 10**(-11)  \n",
    "GEarth = 6.67430 * 10**(-11) \n",
    "WeightOnMoon = list(map(lambda name_weight: (name_weight[0], name_weight[1] * GMoon / GEarth), WeightOnEarth.items()))\n",
    "for name, weight_moon in WeightOnMoon:\n",
    "    print(f'{name} weighs {weight_moon:.2f} kg on the Moon.')\n"
   ]
  },
  {
   "cell_type": "markdown",
   "id": "5f9052af",
   "metadata": {},
   "source": [
    "ii) #Gravitational force on the Moon: 1.622 m/s2\n",
    "\n",
    "GMoon = 1.622\n"
   ]
  },
  {
   "cell_type": "code",
   "execution_count": 8,
   "id": "b3357dee",
   "metadata": {},
   "outputs": [
    {
     "ename": "IndentationError",
     "evalue": "expected an indented block after 'for' statement on line 5 (1181950204.py, line 6)",
     "output_type": "error",
     "traceback": [
      "\u001b[1;36m  Cell \u001b[1;32mIn[8], line 6\u001b[1;36m\u001b[0m\n\u001b[1;33m    print(f'{name} weighs {weight_moon:.2f} kg on the Moon.')\u001b[0m\n\u001b[1;37m    ^\u001b[0m\n\u001b[1;31mIndentationError\u001b[0m\u001b[1;31m:\u001b[0m expected an indented block after 'for' statement on line 5\n"
     ]
    }
   ],
   "source": [
    "WeightOnEarth = {'John': 45, 'Shelly': 65, 'Marry': 35}\n",
    "GMoon = 1.622\n",
    "GEarth = 9.81 \n",
    "WeightOnMoon = dict(map(lambda name_weight: (name_weight[0], name_weight[1] * GMoon / GEarth), WeightOnEarth.items()))\n",
    "for name, weight_moon in WeightOnMoon.items():\n",
    "print(f'{name} weighs {weight_moon:.2f} kg on the Moon.')\n"
   ]
  },
  {
   "cell_type": "markdown",
   "id": "57e3f761",
   "metadata": {},
   "source": [
    "\n",
    "iii)#Gravitational force on the Earth: 9.81 m/s2\n",
    "\n",
    "GEarth=9.81"
   ]
  },
  {
   "cell_type": "code",
   "execution_count": 9,
   "id": "19579822",
   "metadata": {},
   "outputs": [
    {
     "ename": "IndentationError",
     "evalue": "expected an indented block after 'for' statement on line 5 (3847321796.py, line 6)",
     "output_type": "error",
     "traceback": [
      "\u001b[1;36m  Cell \u001b[1;32mIn[9], line 6\u001b[1;36m\u001b[0m\n\u001b[1;33m    print(f'{name} weighs {weight_moon:.2f} kg on the Moon.')\u001b[0m\n\u001b[1;37m    ^\u001b[0m\n\u001b[1;31mIndentationError\u001b[0m\u001b[1;31m:\u001b[0m expected an indented block after 'for' statement on line 5\n"
     ]
    }
   ],
   "source": [
    "WeightOnEarth = {'John': 45, 'Shelly': 65, 'Marry': 35}\n",
    "GMoon = 1.622\n",
    "GEarth = 9.81  \n",
    "WeightOnMoon = dict(map(lambda name_weight: (name_weight[0], name_weight[1] * GMoon / GEarth), WeightOnEarth.items()))\n",
    "for name, weight_moon in WeightOnMoon.items():\n",
    "print(f'{name} weighs {weight_moon:.2f} kg on the Moon.')\n"
   ]
  },
  {
   "cell_type": "code",
   "execution_count": null,
   "id": "839311b7",
   "metadata": {},
   "outputs": [],
   "source": []
  }
 ],
 "metadata": {
  "kernelspec": {
   "display_name": "Python 3 (ipykernel)",
   "language": "python",
   "name": "python3"
  },
  "language_info": {
   "codemirror_mode": {
    "name": "ipython",
    "version": 3
   },
   "file_extension": ".py",
   "mimetype": "text/x-python",
   "name": "python",
   "nbconvert_exporter": "python",
   "pygments_lexer": "ipython3",
   "version": "3.11.4"
  }
 },
 "nbformat": 4,
 "nbformat_minor": 5
}
