{
 "cells": [
  {
   "cell_type": "markdown",
   "id": "24df78ec",
   "metadata": {},
   "source": [
    "# File Handling"
   ]
  },
  {
   "cell_type": "markdown",
   "id": "b1aaff8f",
   "metadata": {},
   "source": [
    "# 1. Write a python function that copies a file reading and writing up to 50 characters at a time."
   ]
  },
  {
   "cell_type": "code",
   "execution_count": 1,
   "id": "14a66a78",
   "metadata": {},
   "outputs": [
    {
     "name": "stdout",
     "output_type": "stream",
     "text": [
      "File 'source.txt' copied to 'destination.txt' successfully.\n"
     ]
    }
   ],
   "source": [
    "def copy_file(source_file, destination_file):\n",
    "    try:\n",
    "        with open(source_file, 'rb') as src_file, open(destination_file, 'wb') as dest_file:\n",
    "            while True:\n",
    "                chunk = src_file.read(50)\n",
    "                if not chunk:\n",
    "                    break\n",
    "                dest_file.write(chunk)\n",
    "        print(f\"File '{source_file}' copied to '{destination_file}' successfully.\")\n",
    "    except FileNotFoundError:\n",
    "        print(f\"Error: The file '{source_file}' does not exist.\")\n",
    "    except Exception as e:\n",
    "        print(f\"An error occurred: {str(e)}\")\n",
    "source_file = 'source.txt'\n",
    "destination_file = 'destination.txt'\n",
    "copy_file(source_file, destination_file)"
   ]
  },
  {
   "cell_type": "markdown",
   "id": "d8dc9ab6",
   "metadata": {},
   "source": [
    "# 2. Print all numbers present in the text file and print the number of blank spaces in that file."
   ]
  },
  {
   "cell_type": "code",
   "execution_count": 2,
   "id": "51db6488",
   "metadata": {},
   "outputs": [
    {
     "name": "stdout",
     "output_type": "stream",
     "text": [
      "nums found in the file: 1\n",
      "nums of blank spaces in the file: 0\n"
     ]
    }
   ],
   "source": [
    "file_path = 'your_file.txt'\n",
    "num_count = 0\n",
    "blank_space_count = 0\n",
    "with open(file_path, 'r') as file:\n",
    "    for line in file:\n",
    "        words = line.split()\n",
    "        for word in words:\n",
    "            if word.isdigit():\n",
    "                num_count += 1\n",
    "            elif word.isspace():\n",
    "                blank_space_count += 1\n",
    "print(\"nums found in the file:\", num_count)\n",
    "print(\"nums of blank spaces in the file:\", blank_space_count)"
   ]
  },
  {
   "cell_type": "markdown",
   "id": "87b9c4e7",
   "metadata": {},
   "source": [
    "# 3. Write a function called sed that takes as arguments a pattern string, a replacement string and two filenames; it should read the first file and write the contents into the second file (creating it if necessary). If the pattern string appears anywhere in the file, it should be replaced with the replacement string. If an error occurs while opening, reading, writing or closing files, your program should catch the exception, print an error message, and exit."
   ]
  },
  {
   "cell_type": "code",
   "execution_count": 3,
   "id": "6c03f8d5",
   "metadata": {},
   "outputs": [
    {
     "name": "stdout",
     "output_type": "stream",
     "text": [
      "File 'input.txt' processed and saved as 'output.txt'.\n"
     ]
    }
   ],
   "source": [
    "def sed(pattern, replacement, source_file, destination_file):\n",
    "    try:\n",
    "        with open(source_file, 'r') as src_file:\n",
    "            content = src_file.read()\n",
    "        modified_content = content.replace(pattern, replacement)\n",
    "        with open(destination_file, 'w') as dest_file:\n",
    "            dest_file.write(modified_content)\n",
    "        print(f\"File '{source_file}' processed and saved as '{destination_file}'.\")\n",
    "    except FileNotFoundError:\n",
    "        print(f\"Error: The file '{source_file}' does not exist.\")\n",
    "    except Exception as e:\n",
    "        print(f\"An error occurred: {str(e)}\")\n",
    "pattern = 'old_string'\n",
    "replacement = 'new_string'\n",
    "source_file = 'input.txt'\n",
    "destination_file = 'output.txt'\n",
    "\n",
    "sed(pattern, replacement, source_file, destination_file)"
   ]
  },
  {
   "cell_type": "markdown",
   "id": "d6ab6b1e",
   "metadata": {},
   "source": [
    "# 4. Log File Analysis: You have a log file containing records of user activities on a website, Each line in the file represents a log entry with details like timestamp, user ID, and action performed. Your task is to analyze this log file.\n"
   ]
  },
  {
   "cell_type": "markdown",
   "id": "52659f10",
   "metadata": {},
   "source": [
    "a. Write Python code to read the log file and extract specific information, such as the number of unique users or the most common action. \n",
    "b. How would you handle large log files efficiently without loading the entire file into memory?\n"
   ]
  },
  {
   "cell_type": "code",
   "execution_count": 22,
   "id": "dd4aef22",
   "metadata": {},
   "outputs": [
    {
     "name": "stdout",
     "output_type": "stream",
     "text": [
      "Number of unique users: 0\n",
      "An error occurred: list index out of range\n"
     ]
    }
   ],
   "source": [
    "from collections import Counter\n",
    "def analyze_log_file(log_file):\n",
    "    try:\n",
    "        with open(log_file, 'r') as file:\n",
    "            lines = file.readlines()\n",
    "        user_ids = []\n",
    "        actions = []\n",
    "        for line in lines:\n",
    "            parts = line.strip().split()\n",
    "            if len(parts) >= 3:\n",
    "                timestamp, user_id, action = parts[0], parts[1], ' '.join(parts[2:])\n",
    "                user_ids.append(user_id)\n",
    "                actions.append(action)\n",
    "        unique_users = len(set(user_ids))\n",
    "        most_common_action = Counter(actions).most_common(1)\n",
    "        print(f\"Number of unique users: {unique_users}\")\n",
    "        print(f\"Most common action: {most_common_action[0][0]}\")\n",
    "    except FileNotFoundError:\n",
    "        print(f\"Error: The file '{log_file}' does not exist.\")\n",
    "    except Exception as e:\n",
    "        print(f\"An error occurred: {str(e)}\")\n",
    "log_file = 'access_log.txt' \n",
    "analyze_log_file(log_file)\n"
   ]
  },
  {
   "cell_type": "markdown",
   "id": "f5863e34",
   "metadata": {},
   "source": [
    "# 5. Text File Search and Replace: You have a text file with a large amount of text, and you want to search for specific words or phrases and replace them with new content.\n",
    "    \n"
   ]
  },
  {
   "cell_type": "markdown",
   "id": "bbb51dea",
   "metadata": {},
   "source": [
    "    a. Write Python code to search for and replace text within a text file.\n",
    "\n",
    "    b. How would you handle cases where you need to perform multiple replacements in a single pass?\n"
   ]
  },
  {
   "cell_type": "code",
   "execution_count": 17,
   "id": "d1cc045c",
   "metadata": {},
   "outputs": [
    {
     "name": "stdout",
     "output_type": "stream",
     "text": [
      "Text replacement complete. Output saved to 'output.txt'.\n"
     ]
    }
   ],
   "source": [
    "import re\n",
    "\n",
    "def search_replace_in_file(input_file, output_file, search_pattern, replace_pattern):\n",
    "    try:\n",
    "        with open(input_file, 'r') as infile, open(output_file, 'w') as outfile:\n",
    "            for line in infile:\n",
    "                modified_line = re.sub(search_pattern, replace_pattern, line)\n",
    "                outfile.write(modified_line)\n",
    "\n",
    "        print(f\"Text replacement complete. Output saved to '{output_file}'.\")\n",
    "\n",
    "    except FileNotFoundError:\n",
    "        print(f\"Error: The file '{input_file}' does not exist.\")\n",
    "    except Exception as e:\n",
    "        print(f\"An error occurred: {str(e)}\")\n",
    "\n",
    "if __name__ == \"__main__\":\n",
    "    input_file = 'input.txt'  \n",
    "    output_file = 'output.txt' \n",
    "\n",
    "    search_pattern = r'replace_this'\n",
    "    replace_pattern = 'with_this'  \n",
    "\n",
    "    search_replace_in_file(input_file, output_file, search_pattern, replace_pattern)\n"
   ]
  },
  {
   "cell_type": "markdown",
   "id": "bb0a1160",
   "metadata": {},
   "source": [
    "# 6. Write a Python script that concatenates the contents of multiple text files into a single\n",
    "output file. Allow the user to specify the input files and the output file."
   ]
  },
  {
   "cell_type": "code",
   "execution_count": 14,
   "id": "a599d268",
   "metadata": {},
   "outputs": [
    {
     "name": "stdout",
     "output_type": "stream",
     "text": [
      "Enter the path of an input file (leave blank to stop):  \n",
      "Enter the path of the output file: output\n",
      "No input files provided. Exiting.\n"
     ]
    }
   ],
   "source": [
    "def concatenate_files(input_files, output_file):\n",
    "    try:\n",
    "        with open(output_file, 'w') as output:\n",
    "            for input_file in input_files:\n",
    "                with open(input_file, 'r') as input:\n",
    "                    content = input.read()\n",
    "                    output.write(content)\n",
    "                    output.write('\\n')  # Add a newline between concatenated files\n",
    "\n",
    "        print(f\"Concatenation complete. Output saved to '{output_file}'.\")\n",
    "\n",
    "    except FileNotFoundError as e:\n",
    "        print(f\"Error: {e.strerror}: {e.filename}\")\n",
    "    except Exception as e:\n",
    "        print(f\"An error occurred: {str(e)}\")\n",
    "\n",
    "if __name__ == \"__main__\":\n",
    "    input_files = []\n",
    "\n",
    "    while True:\n",
    "        file_path = input(\"Enter the path of an input file (leave blank to stop): \").strip()\n",
    "        if not file_path:\n",
    "            break\n",
    "        input_files.append(file_path)\n",
    "\n",
    "    output_file = input(\"Enter the path of the output file: \")\n",
    "\n",
    "    if not input_files:\n",
    "        print(\"No input files provided. Exiting.\")\n",
    "    elif not output_file:\n",
    "        print(\"No output file path provided. Exiting.\")\n",
    "    else:\n",
    "        concatenate_files(input_files, output_file)\n"
   ]
  },
  {
   "cell_type": "markdown",
   "id": "602236de",
   "metadata": {},
   "source": [
    "# 7. You are given a text file named input.txt containing a list of words, one word per line. Your task is to create a Python program that reads the contents of input.txt, processes the words, and writes the result to an output file named output.txt"
   ]
  },
  {
   "cell_type": "markdown",
   "id": "aaba77fa",
   "metadata": {},
   "source": [
    "a. The program should perform the following operations: \n"
   ]
  },
  {
   "cell_type": "markdown",
   "id": "01cb9c12",
   "metadata": {},
   "source": [
    " i. Read the words from input.txt.\n",
    "ii. For each word in the input file, calculate the length of the word and store it\n",
    "    in a dictionary where the word is the key, and the length is the value.\n",
    "\n",
    "iii. Write the word-length dictionary to output.txt in the following format:\n",
    "\n",
    "    Word1: Length1 \n",
    "    Word2: Length2\n",
    "    ...\n",
    "\n",
    "iv. Close both input and output files properly.\n",
    "\n",
    "v. Write Python code to accomplish this task. Ensure proper error handling for file operations.\n",
    "\n",
    "Sample Input('input.txt')\n",
    "\n",
    "apple \n",
    "banana\n",
    "cherry\n",
    "date\n",
    "\n",
    "Sample Output('output.txt')\n",
    "\n",
    "apple: 5\n",
    "banana: 6\n",
    "cherry: 6\n",
    "date: 4"
   ]
  },
  {
   "cell_type": "code",
   "execution_count": 15,
   "id": "74e0f073",
   "metadata": {},
   "outputs": [
    {
     "name": "stdout",
     "output_type": "stream",
     "text": [
      "Operation completed successfully.\n"
     ]
    }
   ],
   "source": [
    "try:\n",
    "    with open('input.txt', 'r') as input_file:\n",
    "        word_lengths = {}\n",
    "        for line in input_file:\n",
    "            words = line.strip().split()\n",
    "            for word in words:\n",
    "                word_lengths[word] = len(word)\n",
    "    with open('output.txt', 'w') as output_file:\n",
    "        for word, length in word_lengths.items():\n",
    "            output_file.write(f'{word}: {length}\\n')\n",
    "\n",
    "    print(\"Operation completed successfully.\")\n",
    "\n",
    "except FileNotFoundError:\n",
    "    print(\"Input file 'input.txt' not found.\")\n",
    "except IOError:\n",
    "    print(\"An error occurred while reading/writing the files.\")\n",
    "except Exception as e:\n",
    "    print(f\"An unexpected error occurred: {str(e)}\")"
   ]
  },
  {
   "cell_type": "markdown",
   "id": "30f625de",
   "metadata": {},
   "source": [
    "# 8. Assume that you are developing a student gradebook system for a school. The system. should allow teachers to input student grades for various subjects, store the data in files, and provide students with the ability to view their grades.\n"
   ]
  },
  {
   "cell_type": "markdown",
   "id": "b255ca54",
   "metadata": {},
   "source": [
    "Design a Python program that accomplishes the following tasks:\n",
    "\n",
    "i. Teachers should be able to input grades for students in different subjects.\n",
    "\n",
    "ii. Store the student grade data in separate text files for each subject. \n",
    "\n",
    "iii. Students should be able to view their grades for each subject.\n",
    "\n",
    "iv. Implement error handling for file operations, such as file not found or\n",
    "permission issues."
   ]
  },
  {
   "cell_type": "code",
   "execution_count": 16,
   "id": "a9788edb",
   "metadata": {},
   "outputs": [
    {
     "name": "stdout",
     "output_type": "stream",
     "text": [
      "\n",
      "Gradebook Menu:\n",
      "1. Input Grades\n",
      "2. View Grades\n",
      "3. Quit\n",
      "Enter your choice (1/2/3): 1\n",
      "Enter student name: Hitesh\n",
      "Enter the subject: computer science\n",
      "Enter the grade: A+\n",
      "Grade saved for Hitesh in computer science.\n",
      "\n",
      "Gradebook Menu:\n",
      "1. Input Grades\n",
      "2. View Grades\n",
      "3. Quit\n",
      "Enter your choice (1/2/3): 2\n",
      "Enter student name: Hitesh\n",
      "Grades for Hitesh:\n",
      "computer science: A+\n",
      "\n",
      "Gradebook Menu:\n",
      "1. Input Grades\n",
      "2. View Grades\n",
      "3. Quit\n",
      "Enter your choice (1/2/3): 3\n",
      "Goodbye!\n"
     ]
    }
   ],
   "source": [
    "import os\n",
    "GRADEBOOK_DIR = 'gradebook_data'\n",
    "def create_gradebook_dir():\n",
    "    try:\n",
    "        os.makedirs(GRADEBOOK_DIR, exist_ok=True)\n",
    "    except OSError as e:\n",
    "        print(f\"Error creating gradebook directory: {e.strerror}\")\n",
    "\n",
    "def input_grades():\n",
    "    create_gradebook_dir()\n",
    "\n",
    "    student_name = input(\"Enter student name: \")\n",
    "    subject = input(\"Enter the subject: \")\n",
    "    grade = input(\"Enter the grade: \")\n",
    "\n",
    "    filename = os.path.join(GRADEBOOK_DIR, f\"{student_name}_{subject}.txt\")\n",
    "\n",
    "    try:\n",
    "        with open(filename, 'a') as file:\n",
    "            file.write(f\"{student_name}: {grade}\\n\")\n",
    "        print(f\"Grade saved for {student_name} in {subject}.\")\n",
    "    except OSError as e:\n",
    "        print(f\"Error saving grade: {e.strerror}\")\n",
    "\n",
    "def view_grades(student_name):\n",
    "    create_gradebook_dir()\n",
    "    student_grades = {}\n",
    "\n",
    "    for filename in os.listdir(GRADEBOOK_DIR):\n",
    "        if filename.endswith('.txt'):\n",
    "            subject = filename.split('_')[1].split('.')[0]\n",
    "            try:\n",
    "                with open(os.path.join(GRADEBOOK_DIR, filename), 'r') as file:\n",
    "                    lines = file.readlines()\n",
    "                    for line in lines:\n",
    "                        parts = line.strip().split(': ')\n",
    "                        if len(parts) == 2:\n",
    "                            name, grade = parts[0], parts[1]\n",
    "                            if name == student_name:\n",
    "                                student_grades[subject] = grade\n",
    "            except OSError as e:\n",
    "                print(f\"Error reading grades for {subject}: {e.strerror}\")\n",
    "\n",
    "    if student_grades:\n",
    "        print(f\"Grades for {student_name}:\")\n",
    "        for subject, grade in student_grades.items():\n",
    "            print(f\"{subject}: {grade}\")\n",
    "    else:\n",
    "        print(f\"No grades found for {student_name}.\")\n",
    "\n",
    "if __name__ == \"__main__\":\n",
    "    while True:\n",
    "        print(\"\\nGradebook Menu:\")\n",
    "        print(\"1. Input Grades\")\n",
    "        print(\"2. View Grades\")\n",
    "        print(\"3. Quit\")\n",
    "        choice = input(\"Enter your choice (1/2/3): \")\n",
    "\n",
    "        if choice == '1':\n",
    "            input_grades()\n",
    "        elif choice == '2':\n",
    "            student_name = input(\"Enter student name: \")\n",
    "            view_grades(student_name)\n",
    "        elif choice == '3':\n",
    "            print(\"Goodbye!\")\n",
    "            break\n",
    "        else:\n",
    "            print(\"Invalid choice. Please select 1, 2, or 3.\")\n"
   ]
  }
 ],
 "metadata": {
  "kernelspec": {
   "display_name": "Python 3 (ipykernel)",
   "language": "python",
   "name": "python3"
  },
  "language_info": {
   "codemirror_mode": {
    "name": "ipython",
    "version": 3
   },
   "file_extension": ".py",
   "mimetype": "text/x-python",
   "name": "python",
   "nbconvert_exporter": "python",
   "pygments_lexer": "ipython3",
   "version": "3.11.4"
  }
 },
 "nbformat": 4,
 "nbformat_minor": 5
}
