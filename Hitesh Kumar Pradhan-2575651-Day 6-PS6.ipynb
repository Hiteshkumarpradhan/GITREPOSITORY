{
 "cells": [
  {
   "cell_type": "markdown",
   "id": "3da3cf3b",
   "metadata": {},
   "source": [
    "# 1. Write a python program to create a base class \"Shape\" with methods to calculate area and perimeter. Then, create derived classes \"Circle\" and \"Rectangle that inherit from the base class and calculate their respective areas and perimeters. Demonstrate their usage in a program. \n",
    "\n",
    "You are developing an online quiz application where users can take quizzes on various topics and receive scores. \n",
    "\n"
   ]
  },
  {
   "cell_type": "code",
   "execution_count": 1,
   "id": "3d2600bd",
   "metadata": {},
   "outputs": [
    {
     "name": "stdout",
     "output_type": "stream",
     "text": [
      "Circle:\n",
      "Area: 78.53981633974483\n",
      "Perimeter: 31.41592653589793\n",
      "\n",
      "Rectangle:\n",
      "Area: 24\n",
      "Perimeter: 20\n"
     ]
    }
   ],
   "source": [
    "import math\n",
    "class Shape:\n",
    "    def calculate_area(self):\n",
    "        pass\n",
    "    \n",
    "    def calculate_perimeter(self):\n",
    "        pass\n",
    "\n",
    "class Circle(Shape):\n",
    "    def __init__(self, radius):\n",
    "        self.radius = radius\n",
    "\n",
    "    def calculate_area(self):\n",
    "        return math.pi * self.radius ** 2\n",
    "\n",
    "    def calculate_perimeter(self):\n",
    "        return 2 * math.pi * self.radius\n",
    "\n",
    "class Rectangle(Shape):\n",
    "    def __init__(self, length, width):\n",
    "        self.length = length\n",
    "        self.width = width\n",
    "\n",
    "    def calculate_area(self):\n",
    "        return self.length * self.width\n",
    "\n",
    "    def calculate_perimeter(self):\n",
    "        return 2 * (self.length + self.width)\n",
    "circle = Circle(5)\n",
    "rectangle = Rectangle(4, 6)\n",
    "print(\"Circle:\")\n",
    "print(\"Area:\", circle.calculate_area())\n",
    "print(\"Perimeter:\", circle.calculate_perimeter())\n",
    "print(\"\\nRectangle:\")\n",
    "print(\"Area:\", rectangle.calculate_area())\n",
    "print(\"Perimeter:\", rectangle.calculate_perimeter())\n"
   ]
  },
  {
   "cell_type": "markdown",
   "id": "c628adf1",
   "metadata": {},
   "source": [
    "1-1. Create a class for quizzes and questions.\n",
    "\n",
    "1-2. Implement a scoring system that calculates the user's score on a quiz."
   ]
  },
  {
   "cell_type": "code",
   "execution_count": 32,
   "id": "9a60c494",
   "metadata": {},
   "outputs": [
    {
     "name": "stdout",
     "output_type": "stream",
     "text": [
      "Q: What is the capital of India?\n",
      "Your Answer: New Delhi\n",
      "Q: Which planet is known as the Red Planet?\n",
      "Your Answer: Mars\n",
      "Q: What is 10 + 10?\n",
      "Your Answer: 20\n",
      "You scored 3/3 in the General Knowledge quiz.\n"
     ]
    }
   ],
   "source": [
    "class Question:\n",
    "    def __init__(self, question_text, correct_answer):\n",
    "        self.question_text = question_text\n",
    "        self.correct_answer = correct_answer\n",
    "    def is_correct(self, user_answer):\n",
    "        return user_answer == self.correct_answer\n",
    "class Quiz:\n",
    "    def __init__(self, quiz_name, questions):\n",
    "        self.quiz_name = quiz_name\n",
    "        self.questions = questions\n",
    "    def take_quiz(self):\n",
    "        score = 0\n",
    "        for question in self.questions:\n",
    "            user_answer = input(f\"Q: {question.question_text}\\nYour Answer: \").strip()\n",
    "            if question.is_correct(user_answer):\n",
    "                score += 1\n",
    "        print(f\"You scored {score}/{len(self.questions)} in the {self.quiz_name} quiz.\")\n",
    "\n",
    "questions = [\n",
    "    Question(\"What is the capital of India?\", \"New Delhi\"),\n",
    "    Question(\"Which planet is known as the Red Planet?\", \"Mars\"),\n",
    "    Question(\"What is 10 + 10?\", \"20\"),\n",
    "]\n",
    "\n",
    "quiz = Quiz(\"General Knowledge\", questions)\n",
    "quiz.take_quiz()\n"
   ]
  },
  {
   "cell_type": "markdown",
   "id": "666a862a",
   "metadata": {},
   "source": [
    "1-3. How would you store and retrieve user progress, including quiz history and score?"
   ]
  },
  {
   "cell_type": "markdown",
   "id": "9632b281",
   "metadata": {},
   "source": [
    "To store and retrieve user progress, including quiz history, you can use a database or a file-based system. You would create data structures or tables to store user profiles, quiz scores, and quiz history, and then implement functions or methods to interact with this data."
   ]
  },
  {
   "cell_type": "markdown",
   "id": "2ee4c586",
   "metadata": {},
   "source": [
    "# 2. Write a python script to create a class \"Person\" with private attributes for age and name. Implement a method to calculate a person's eligibility for voting based on their age Ensure that age cannot be accessed directly but only through a getter method.\n",
    "\n"
   ]
  },
  {
   "cell_type": "code",
   "execution_count": 31,
   "id": "85287651",
   "metadata": {},
   "outputs": [
    {
     "name": "stdout",
     "output_type": "stream",
     "text": [
      "Name: Hitesh\n",
      "Age: 23\n",
      "Eligible to vote\n"
     ]
    }
   ],
   "source": [
    "class Person:\n",
    "    def __init__(self, name, age):\n",
    "        self.__name = name \n",
    "        self.__age = age    \n",
    "    def get_age(self):\n",
    "        return self.__age\n",
    "    def is_eligible_to_vote(self):\n",
    "        if self.__age >= 18:\n",
    "            return True\n",
    "        else:\n",
    "            return False\n",
    "    def display_info(self):\n",
    "        print(f\"Name: {self.__name}\")\n",
    "        print(f\"Age: {self.get_age()}\")\n",
    "        if self.is_eligible_to_vote():\n",
    "            print(\"Eligible to vote\")\n",
    "        else:\n",
    "            print(\"Not eligible to vote\")\n",
    "person1 = Person(\"Hitesh\", 23)\n",
    "person1.display_info()"
   ]
  },
  {
   "cell_type": "markdown",
   "id": "81de4fd6",
   "metadata": {},
   "source": [
    "# 3. You are tasked with designing a Python class hierarchy for a simple banking system. The system should be able to handle different types of accounts, such as Savings Accounts and Checking Accounts. Both account types should have common attributes like an account number, account holder's name, and balance. However, Savings Accounts should have an additional attribute for interest rate, while Checking Accounts should have an attribute for overdraft limit.\n"
   ]
  },
  {
   "cell_type": "code",
   "execution_count": 19,
   "id": "ae331f7b",
   "metadata": {},
   "outputs": [
    {
     "name": "stdout",
     "output_type": "stream",
     "text": [
      "Savings Account:\n",
      "Deposited $500. New balance: $1500\n",
      "Interest added: $37.5. New balance: $1537.5\n",
      "Withdrew $200. New balance: $1337.5\n",
      "\n",
      "Checking Account:\n",
      "Deposited $200. New balance: $1700\n",
      "Withdrew $1800. New balance: $-100\n"
     ]
    }
   ],
   "source": [
    "class BankAccount:\n",
    "\n",
    "    def __init__(self, account_number, account_holder_name, balance=0.0):\n",
    "        self.account_number = account_number\n",
    "        self.account_holder_name = account_holder_name\n",
    "        self._balance = balance\n",
    "\n",
    "    def deposit(self, amount):\n",
    "   \n",
    "        if amount > 0:\n",
    "            self._balance += amount\n",
    "            return f\"Deposited ${amount}. New balance: ${self._balance}\"\n",
    "        else:\n",
    "            return \"Invalid deposit amount.\"\n",
    "\n",
    "    def withdraw(self, amount):\n",
    "        if 0 < amount <= self._balance:\n",
    "            self._balance -= amount\n",
    "            return f\"Withdrew ${amount}. New balance: ${self._balance}\"\n",
    "        else:\n",
    "            return \"Invalid withdrawal amount or insufficient balance.\"\n",
    "class SavingsAccount(BankAccount):\n",
    "\n",
    "    def __init__(self, account_number, account_holder_name, balance=0.0, interest_rate=0.0):\n",
    "        super().__init__(account_number, account_holder_name, balance)\n",
    "        self.interest_rate = interest_rate\n",
    "\n",
    "    def calculate_interest(self):\n",
    "        interest = self._balance * (self.interest_rate / 100)\n",
    "        self._balance += interest\n",
    "        return f\"Interest added: ${interest}. New balance: ${self._balance}\"\n",
    "\n",
    "class CheckingAccount(BankAccount):\n",
    "  \n",
    "    def __init__(self, account_number, account_holder_name, balance=0.0, overdraft_limit=0.0):\n",
    "        super().__init__(account_number, account_holder_name, balance)\n",
    "        self.overdraft_limit = overdraft_limit\n",
    "    def withdraw(self, amount):\n",
    "        if 0 < amount <= (self._balance + self.overdraft_limit):\n",
    "            self._balance -= amount\n",
    "            return f\"Withdrew ${amount}. New balance: ${self._balance}\"\n",
    "        else:\n",
    "            return \"Invalid withdrawal amount or over overdraft limit.\"\n",
    "savings_acc = SavingsAccount(\"SA12345\", \"Alice\", 1000, 2.5)\n",
    "checking_acc = CheckingAccount(\"CA67890\", \"Bob\", 1500, 500)\n",
    "print(\"Savings Account:\")\n",
    "print(savings_acc.deposit(500))\n",
    "print(savings_acc.calculate_interest())\n",
    "print(savings_acc.withdraw(200))\n",
    "print(\"\\nChecking Account:\")\n",
    "print(checking_acc.deposit(200))\n",
    "print(checking_acc.withdraw(1800))\n"
   ]
  },
  {
   "cell_type": "markdown",
   "id": "126cbff3",
   "metadata": {},
   "source": [
    "In this program:\n",
    "\n",
    "The BankAccount class is the base class for both savings and checking accounts, containing common attributes and methods. The balance attribute is private (denoted by _balance).\n",
    "\n",
    "The SavingsAccount and CheckingAccount classes are subclasses that inherit from BankAccount. They have their specific attributes (interest_rate and overdraft_limit) and methods (calculate_interest and withdraw) added to them.\n",
    "\n",
    "Proper encapsulation is implemented by making the balance attribute private and providing getter and setter methods where necessary.\n",
    "\n",
    "Error handling is not explicitly shown here, but you can add it by raising exceptions or using try-except blocks for invalid operations.\n",
    "\n",
    "\n",
    "\n",
    "\n",
    "\n"
   ]
  },
  {
   "cell_type": "markdown",
   "id": "1006b2be",
   "metadata": {},
   "source": [
    "# 4. You are developing an employee management system for a company. Ensure that the system utilizes encapsulation and polymorphism to handle different types of employees, such as full-time and part-time employees."
   ]
  },
  {
   "cell_type": "code",
   "execution_count": 34,
   "id": "63723839",
   "metadata": {},
   "outputs": [
    {
     "name": "stdout",
     "output_type": "stream",
     "text": [
      "Hitesh (Employee ID: 2575651):\n",
      "Annual Salary: $60000\n",
      "\n",
      "Nikhil (Employee ID: 1234567):\n",
      "Hourly Rate: $10\n",
      "Hours Worked: 12\n",
      "Monthly Salary: $120\n"
     ]
    }
   ],
   "source": [
    "class Employee:\n",
    "    def __init__(self, name, employee_id):\n",
    "        self.__name = name \n",
    "        self.__employee_id = employee_id \n",
    "        self.__salary = 0.0 \n",
    "    def get_name(self):\n",
    "        return self.__name\n",
    "    def set_name(self, name):\n",
    "        self.__name = name\n",
    "    def get_employee_id(self):\n",
    "        return self.__employee_id\n",
    "    def set_employee_id(self, employee_id):\n",
    "        self.__employee_id = employee_id\n",
    "    def get_salary(self):\n",
    "        return self.__salary\n",
    "    def set_salary(self, salary):\n",
    "        self.__salary = salary\n",
    "    def calculate_salary(self):\n",
    "        pass\n",
    "class FullTimeEmployee(Employee):\n",
    "    def __init__(self, name, employee_id, annual_salary):\n",
    "        super().__init__(name, employee_id)\n",
    "        self.set_salary(annual_salary)  \n",
    "    def calculate_salary(self):\n",
    "        return self.get_salary()\n",
    "class PartTimeEmployee(Employee):\n",
    "    def __init__(self, name, employee_id, hourly_rate, hours_worked):\n",
    "        super().__init__(name, employee_id)\n",
    "        self.__hourly_rate = hourly_rate \n",
    "        self.__hours_worked = hours_worked \n",
    "    def get_hourly_rate(self):\n",
    "        return self.__hourly_rate\n",
    "    def set_hourly_rate(self, hourly_rate):\n",
    "        self.__hourly_rate\n",
    "    def get_hours_worked(self):\n",
    "        return self.__hours_worked\n",
    "    def set_hours_worked(self, hours_worked):\n",
    "        self.__hours_worked = hours_worked\n",
    "    def calculate_salary(self):\n",
    "        return self.__hourly_rate * self.__hours_worked\n",
    "full_time_employee = FullTimeEmployee(\"Hitesh\", \"2575651\", 60000)\n",
    "part_time_employee = PartTimeEmployee(\"Nikhil\", \"1234567\", 10, 12)\n",
    "print(f\"{full_time_employee.get_name()} (Employee ID: {full_time_employee.get_employee_id()}):\")\n",
    "print(f\"Annual Salary: ${full_time_employee.calculate_salary()}\")\n",
    "print(f\"\\n{part_time_employee.get_name()} (Employee ID: {part_time_employee.get_employee_id()}):\")\n",
    "print(f\"Hourly Rate: ${part_time_employee.get_hourly_rate()}\")\n",
    "print(f\"Hours Worked: {part_time_employee.get_hours_worked()}\")\n",
    "print(f\"Monthly Salary: ${part_time_employee.calculate_salary()}\")\n"
   ]
  },
  {
   "cell_type": "markdown",
   "id": "674602b4",
   "metadata": {},
   "source": [
    "In this program:\n",
    "\n",
    "The Employee class serves as the base class and encapsulates common attributes (__name, __employee_id, and __salary) with getter and setter methods.\n",
    "\n",
    "The FullTimeEmployee and PartTimeEmployee classes are subclasses of Employee. They encapsulate specific properties and override the calculate_salary method to account for different payment structures.\n",
    "\n",
    "Polymorphism is demonstrated by creating instances of both FullTimeEmployee and PartTimeEmployee and calculating their salaries using the calculate_salary method."
   ]
  },
  {
   "cell_type": "markdown",
   "id": "8b1e6782",
   "metadata": {},
   "source": [
    "# 5. Library Management System-Scenario: You are developing a library management system where you need to handle books, patrons, and library transactions.\n"
   ]
  },
  {
   "cell_type": "code",
   "execution_count": 35,
   "id": "988293dc",
   "metadata": {},
   "outputs": [
    {
     "name": "stdout",
     "output_type": "stream",
     "text": [
      "The Hitesh is not overdue.\n",
      "Nikhil is not overdue.\n"
     ]
    }
   ],
   "source": [
    "import datetime\n",
    "class Book:\n",
    "    def __init__(self, book_id, title, author, publication_year):\n",
    "        self.__book_id = book_id  \n",
    "        self.__title = title      \n",
    "        self.__author = author    \n",
    "        self.__publication_year = publication_year \n",
    "        self.__is_checked_out = False \n",
    "    def get_book_id(self):\n",
    "        return self.__book_id\n",
    "    def get_title(self):\n",
    "        return self.__title\n",
    "    def get_author(self):\n",
    "        return self.__author\n",
    "    def get_publication_year(self):\n",
    "        return self.__publication_year\n",
    "    def is_checked_out(self):\n",
    "        return self.__is_checked_out\n",
    "    def set_checked_out(self, checked_out):\n",
    "        self.__is_checked_out = checked_out\n",
    "class FictionBook(Book):\n",
    "    def __init__(self, book_id, title, author, publication_year, genre):\n",
    "        super().__init__(book_id, title, author, publication_year)\n",
    "        self.__genre = genre \n",
    "    def get_genre(self):\n",
    "        return self.__genre\n",
    "class NonFictionBook(Book):\n",
    "    def __init__(self, book_id, title, author, publication_year, topic):\n",
    "        super().__init__(book_id, title, author, publication_year)\n",
    "        self.__topic = topic \n",
    "    def get_topic(self):\n",
    "        return self.__topic\n",
    "class Patron:\n",
    "    def __init__(self, patron_id, name, email):\n",
    "        self.__patron_id = patron_id  \n",
    "        self.__name = name           \n",
    "        self.__email = email        \n",
    "    def get_patron_id(self):\n",
    "        return self.__patron_id\n",
    "    def get_name(self):\n",
    "        return self.__name\n",
    "    def get_email(self):\n",
    "        return self.__email\n",
    "class Transaction:\n",
    "    def __init__(self, transaction_id, book, patron, checkout_date):\n",
    "        self.__transaction_id = transaction_id \n",
    "        self.__book = book                     \n",
    "        self.__patron = patron                \n",
    "        self.__checkout_date = checkout_date   \n",
    "        self.__return_date = None              \n",
    "    def get_transaction_id(self):\n",
    "        return self.__transaction_id\n",
    "    def get_book(self):\n",
    "        return self.__book\n",
    "    def get_patron(self):\n",
    "        return self.__patron\n",
    "    def get_checkout_date(self):\n",
    "        return self.__checkout_date\n",
    "    def get_return_date(self):\n",
    "        return self.__return_date\n",
    "    def mark_returned(self):\n",
    "        self.__return_date = datetime.date.today()\n",
    "    def is_overdue(self, due_date):\n",
    "        return datetime.date.today() > due_date\n",
    "fiction_book = FictionBook(\"01\", \"The Hitesh\", \"F. Scott Fitzgerald\", 1925, \"Classic\")\n",
    "non_fiction_book = NonFictionBook(\"02\", \"Nikhil\", \"Yuval Noah Harari\", 2011, \"History\")\n",
    "patron = Patron(\"F01\", \"Nobita\", \"Nobita@example.com\")\n",
    "transaction1 = Transaction(\"01\", fiction_book, patron, datetime.date(2023, 9, 15))\n",
    "transaction2 = Transaction(\"02\", non_fiction_book, patron, datetime.date(2023, 9, 20))\n",
    "transaction1.mark_returned()\n",
    "transaction2.mark_returned()\n",
    "due_date1 = transaction1.get_checkout_date() + datetime.timedelta(days=14)\n",
    "due_date2 = transaction2.get_checkout_date() + datetime.timedelta(days=14)\n",
    "if transaction1.is_overdue(due_date1):\n",
    "    print(f\"{fiction_book.get_title()} is overdue!\")\n",
    "else:\n",
    "    print(f\"{fiction_book.get_title()} is not overdue.\")\n",
    "\n",
    "if transaction2.is_overdue(due_date2):\n",
    "    print(f\"{non_fiction_book.get_title()} is overdue!\")\n",
    "else:\n",
    "    print(f\"{non_fiction_book.get_title()} is not overdue.\")\n"
   ]
  },
  {
   "cell_type": "markdown",
   "id": "79125488",
   "metadata": {},
   "source": [
    "# 6.Online Shopping Cart\n",
    "Scenario: You are tasked with designing a class hierarchy for an online shopping cart system. The system should handle products, shopping carts, and orders. Consider various OOP principles while designing this system.\n"
   ]
  },
  {
   "cell_type": "code",
   "execution_count": 28,
   "id": "438bde4d",
   "metadata": {},
   "outputs": [
    {
     "name": "stdout",
     "output_type": "stream",
     "text": [
      "Total cost of items in the cart: $2499.97\n",
      "Order placed successfully. Total cost: $2519.97\n"
     ]
    }
   ],
   "source": [
    "class Product:\n",
    "    def __init__(self, product_id, name, price, stock_quantity):\n",
    "        self.__product_id = product_id  \n",
    "        self.__name = name              \n",
    "        self.__price = price            \n",
    "        self.__stock_quantity = stock_quantity  \n",
    "    def get_product_id(self):\n",
    "        return self.__product_id\n",
    "    def get_name(self):\n",
    "        return self.__name\n",
    "    def get_price(self):\n",
    "        return self.__price\n",
    "    def get_stock_quantity(self):\n",
    "        return self.__stock_quantity\n",
    "    def set_stock_quantity(self, stock_quantity):\n",
    "        self.__stock_quantity = stock_quantity\n",
    "    def is_in_stock(self):\n",
    "        return self.__stock_quantity > 0\n",
    "    def apply_discount(self, discount_percentage):\n",
    "        if 0 <= discount_percentage <= 100:\n",
    "            discounted_price = self.__price * (1 - discount_percentage / 100)\n",
    "            return discounted_price\n",
    "        else:\n",
    "            return self.__price\n",
    "class ShoppingCart:\n",
    "    def __init__(self):\n",
    "        self.__items = [] \n",
    "    def add_item(self, product, quantity=1):\n",
    "        self.__items.append({\"product\": product, \"quantity\": quantity})\n",
    "    def calculate_total_cost(self):\n",
    "        total_cost = sum(item[\"product\"].get_price() * item[\"quantity\"] for item in self.__items)\n",
    "        return total_cost\n",
    "    def contains_out_of_stock_items(self):\n",
    "        for item in self.__items:\n",
    "            if not item[\"product\"].is_in_stock():\n",
    "                return True\n",
    "        return False\n",
    "class Order:\n",
    "    def __init__(self, order_id, cart, shipping_cost=0):\n",
    "        self.__order_id = order_id  \n",
    "        self.__cart = cart          \n",
    "        self.__shipping_cost = shipping_cost  \n",
    "    def place_order(self):\n",
    "        if self.__cart.contains_out_of_stock_items():\n",
    "            return \"One or more items in the cart are out of stock. Order cannot be placed.\"\n",
    "        total_cost = self.__cart.calculate_total_cost() + self.__shipping_cost\n",
    "        return f\"Order placed successfully. Total cost: ${total_cost:.2f}\"\n",
    "product1 = Product(\"P001\", \"Laptop\", 999.99, 5)\n",
    "product2 = Product(\"P002\", \"Smartphone\", 499.99, 10)\n",
    "cart = ShoppingCart()\n",
    "cart.add_item(product1, 2)\n",
    "cart.add_item(product2)\n",
    "order = Order(\"O001\", cart, shipping_cost=20.0)\n",
    "print(f\"Total cost of items in the cart: ${cart.calculate_total_cost():.2f}\")\n",
    "print(order.place_order())\n"
   ]
  },
  {
   "cell_type": "markdown",
   "id": "a64eeb57",
   "metadata": {},
   "source": [
    "In this code:\n",
    "\n",
    "Product class represents different products and allows for applying discounts to the product price.\n",
    "\n",
    "ShoppingCart class handles adding products to the cart, calculating the total cost, and checking for out-of-stock items.\n",
    "\n",
    "Order class is responsible for placing orders, considering out-of-stock items, and adding shipping costs to the total cost.\n",
    "\n",
    "Encapsulation is maintained by making relevant attributes private and providing getter and setter methods.\n",
    "\n",
    "Polymorphism is demonstrated by allowing different product types to be added to the shopping cart and calculating the total cost."
   ]
  }
 ],
 "metadata": {
  "kernelspec": {
   "display_name": "Python 3 (ipykernel)",
   "language": "python",
   "name": "python3"
  },
  "language_info": {
   "codemirror_mode": {
    "name": "ipython",
    "version": 3
   },
   "file_extension": ".py",
   "mimetype": "text/x-python",
   "name": "python",
   "nbconvert_exporter": "python",
   "pygments_lexer": "ipython3",
   "version": "3.11.4"
  }
 },
 "nbformat": 4,
 "nbformat_minor": 5
}
