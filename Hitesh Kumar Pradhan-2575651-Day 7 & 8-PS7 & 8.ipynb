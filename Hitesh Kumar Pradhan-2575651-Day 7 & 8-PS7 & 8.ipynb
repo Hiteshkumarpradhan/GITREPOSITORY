{
 "cells": [
  {
   "cell_type": "markdown",
   "id": "660dc816",
   "metadata": {},
   "source": [
    "# 1. Write a Python program to find a target values in a bist using linear search with following steps:\n",
    "\n",
    "a. Initialize the list to store the input elements.\n",
    "\n",
    "b. Initialize found-False.\n",
    "\n",
    "c. Enter the item to be searched (match item).\n",
    "\n",
    "d. For each element in the list\n",
    "\n",
    "   1. if match_item = value\n",
    "\n",
    "   a. return match_item's position.\n",
    "\n",
    "e. If the match_item is not in the list, display an error message that the item is not found in the list."
   ]
  },
  {
   "cell_type": "code",
   "execution_count": 2,
   "id": "1daec7d5",
   "metadata": {},
   "outputs": [
    {
     "name": "stdout",
     "output_type": "stream",
     "text": [
      "19 found at position 4.\n"
     ]
    }
   ],
   "source": [
    "def linear_search(input_list, match_item):\n",
    "    found = False\n",
    "    position = -1  \n",
    "    for index, element in enumerate(input_list):\n",
    "        if element == match_item:\n",
    "            found = True\n",
    "            position = index\n",
    "            break\n",
    "    if found:\n",
    "        return f\"{match_item} found at position {position}.\"\n",
    "    else:\n",
    "        return f\"{match_item} is not found in the list.\"\n",
    "input_list = [1, 32, 4, 6, 19, 20, 56]\n",
    "target_value = 19\n",
    "result = linear_search(input_list, target_value)\n",
    "print(result)"
   ]
  },
  {
   "cell_type": "markdown",
   "id": "217fe365",
   "metadata": {},
   "source": [
    "# 2. Write a Python program to implement binary search to find the target values from the list:\n",
    "\n",
    "a. Create a separate function to do binary search.\n",
    "\n",
    "b. Get the number of inputs from the user. \n",
    "\n",
    "c. Store the inputs individually in a list.\n",
    "\n",
    "d. In binary search function at first sort the list in order to start the search from middle of the list. \n",
    "\n",
    "e. Compare the middle element to right and left elements to search target element. \n",
    "\n",
    "f. If greater, move to right of list or else move to another side of the list.\n",
    "\n",
    "g. Print the result along with the position of the element."
   ]
  },
  {
   "cell_type": "code",
   "execution_count": 4,
   "id": "5a3d6c1d",
   "metadata": {},
   "outputs": [
    {
     "name": "stdout",
     "output_type": "stream",
     "text": [
      "Enter the number of inputs: 4\n",
      "Enter an element: 12\n",
      "Enter an element: 5\n",
      "Enter an element: 25\n",
      "Enter an element: 1\n",
      "Enter the target value to search for: 25\n",
      "25 found at position 3.\n"
     ]
    }
   ],
   "source": [
    "def binary_search(input_list, target):\n",
    "    input_list.sort() \n",
    "    left, right = 0, len(input_list) - 1\n",
    "\n",
    "    while left <= right:\n",
    "        mid = (left + right) // 2\n",
    "        mid_value = input_list[mid]\n",
    "\n",
    "        if mid_value == target:\n",
    "            return f\"{target} found at position {mid}.\"\n",
    "        elif mid_value < target:\n",
    "            left = mid + 1\n",
    "        else:\n",
    "            right = mid - 1\n",
    "\n",
    "    return f\"{target} is not found in the list.\"\n",
    "num_inputs = int(input(\"Enter the number of inputs: \"))\n",
    "input_list = []\n",
    "for _ in range(num_inputs):\n",
    "    element = int(input(\"Enter an element: \"))\n",
    "    input_list.append(element)\n",
    "target_value = int(input(\"Enter the target value to search for: \"))\n",
    "result = binary_search(input_list, target_value)\n",
    "print(result)"
   ]
  },
  {
   "cell_type": "markdown",
   "id": "08dfdf4e",
   "metadata": {},
   "source": [
    "# 3. Write a Python program for sorting a list of elements using selection sort algorithm: \n",
    "   \n",
    "    a. Assume two lists: Sorted list- Initially empty and Unsorted List-Given input list.\n",
    "    \n",
    "    b. In the first iteration, find the smallest element in the unsorted list and place it in the sorted list. \n",
    "    \n",
    "    c. In the second iteration, find the smallest element in the unsorted list and place it in the correct position by comparing with the element in the sorted list.\n",
    "    \n",
    "    d. In the third iteration, again find the smallest element in the unsorted list and place it in the correct position by comparing with the elements in the sorted list. \n",
    "\n",
    "    e. This process continues till the unsorted list becomes empty.\n",
    "\n",
    "    f. Display the sorted list."
   ]
  },
  {
   "cell_type": "code",
   "execution_count": 5,
   "id": "1e4d8f71",
   "metadata": {},
   "outputs": [
    {
     "name": "stdout",
     "output_type": "stream",
     "text": [
      "Sorted list: [7, 11, 12, 17, 30, 40, 50, 55]\n"
     ]
    }
   ],
   "source": [
    "def selection_sort(arr):\n",
    "    sorted_list = []  \n",
    "\n",
    "    while arr:  \n",
    "        min_value = arr[0]  \n",
    "        min_index = 0  \n",
    "        for i in range(1, len(arr)):\n",
    "            if arr[i] < min_value:\n",
    "                min_value = arr[i]\n",
    "                min_index = i\n",
    "        arr.pop(min_index)\n",
    "        sorted_list.append(min_value)\n",
    "\n",
    "    return sorted_list\n",
    "input_list = [55, 11, 12, 7, 17, 30, 40, 50]\n",
    "sorted_list = selection_sort(input_list)\n",
    "print(\"Sorted list:\", sorted_list)\n"
   ]
  },
  {
   "cell_type": "markdown",
   "id": "5ffe8efb",
   "metadata": {},
   "source": [
    "# Question 4. Write a Python program for sorting a list of elements using insertion sort algorithm:\n",
    "\n",
    "a. Assume two lists: Sorted list- Initially empty and Unsorted List-Given input list.\n",
    "\n",
    "b. In the first iteration, take the first element in the unsorted list and insert it in Sorted list.\n",
    "\n",
    "c. In the second iteration, take the second element in the given list and compare with the element in the sorted sub list and place it in the correct position.\n",
    "\n",
    "d. In the third iteration, take the third element in the given list and compare with the elements in the sorted sub list and place the elements in the correct position.\n",
    "\n",
    "e. This process continues until the last element is inserted in the sorted sub list.\n",
    "\n",
    "f. Display the sorted elements."
   ]
  },
  {
   "cell_type": "code",
   "execution_count": 15,
   "id": "ac6297be",
   "metadata": {},
   "outputs": [
    {
     "name": "stdout",
     "output_type": "stream",
     "text": [
      "Sorted list: [17, 26, 31, 44, 54, 55, 77, 93]\n"
     ]
    }
   ],
   "source": [
    "def insertion_sort(arr):\n",
    "    for i in range(1, len(arr)):\n",
    "        key = arr[i] \n",
    "        j = i - 1  \n",
    "        while j >= 0 and key < arr[j]:\n",
    "            arr[j + 1] = arr[j]\n",
    "            j -= 1\n",
    "        arr[j + 1] = key\n",
    "input_list = [54, 26, 93, 17, 77, 31, 44, 55]\n",
    "insertion_sort(input_list)\n",
    "print(\"Sorted list:\", input_list)"
   ]
  },
  {
   "cell_type": "markdown",
   "id": "8f9ccae8",
   "metadata": {},
   "source": [
    "# Question 5. Write a Python program that performs merge sort on a list of numbers:\n",
    "a. Divide: If the given array has zero or one element, return.\n",
    "         i. Otherwise\n",
    "         ii. Divide the input list in to two halves each containing half of the elements. i.e. left half and right half.\n",
    "\n",
    "b. Conquer: Recursively sort the two lists (left half and right half).\n",
    "\n",
    "        a. Call the merge sort on left half.\n",
    "\n",
    "        b. Call the merge sort on right half\n",
    "\n",
    "c. Combine: Combine the elements back in the input list by merging the two sorted lists into a sorted sequence."
   ]
  },
  {
   "cell_type": "code",
   "execution_count": 17,
   "id": "318a4e6d",
   "metadata": {},
   "outputs": [
    {
     "name": "stdout",
     "output_type": "stream",
     "text": [
      "Sorted list: [3, 9, 10, 27, 38, 43, 82]\n"
     ]
    }
   ],
   "source": [
    "def merge_sort(arr):\n",
    "    if len(arr) <= 1:\n",
    "        return arr\n",
    "    mid = len(arr) // 2\n",
    "    left_half = arr[:mid]\n",
    "    right_half = arr[mid:]\n",
    "    left_half = merge_sort(left_half)\n",
    "    right_half = merge_sort(right_half)\n",
    "    return merge(left_half, right_half)\n",
    "\n",
    "def merge(left, right):\n",
    "    result = []\n",
    "    left_idx, right_idx = 0, 0\n",
    "    while left_idx < len(left) and right_idx < len(right):\n",
    "        if left[left_idx] < right[right_idx]:\n",
    "            result.append(left[left_idx])\n",
    "            left_idx += 1\n",
    "        else:\n",
    "            result.append(right[right_idx])\n",
    "            right_idx += 1\n",
    "    result.extend(left[left_idx:])\n",
    "    result.extend(right[right_idx:])\n",
    "    return result\n",
    "input_list = [38, 27, 43, 3, 9, 82, 10]\n",
    "sorted_list = merge_sort(input_list)\n",
    "print(\"Sorted list:\", sorted_list)\n"
   ]
  },
  {
   "cell_type": "markdown",
   "id": "2914bbea",
   "metadata": {},
   "source": [
    "# 6. Write a Python script to perform the following operations on a singly linked list\n",
    "\n",
    "a. Create a list.\n",
    "\n",
    "b. Find the smallest element from the list.\n",
    "\n",
    "c. Insert an element if it is not a duplicate element.\n",
    "\n",
    "d. Display the elements in reverse order."
   ]
  },
  {
   "cell_type": "code",
   "execution_count": 12,
   "id": "f32e267f",
   "metadata": {},
   "outputs": [
    {
     "name": "stdout",
     "output_type": "stream",
     "text": [
      "Smallest element: 5\n",
      "Elements in reverse order:\n",
      "15\n",
      "5\n",
      "20\n",
      "5\n",
      "10\n"
     ]
    }
   ],
   "source": [
    "class Node:\n",
    "    def __init__(self, data):\n",
    "        self.data = data\n",
    "        self.next = None\n",
    "class LinkedList:\n",
    "    def __init__(self):\n",
    "        self.head = None\n",
    "    def insert(self, data):\n",
    "        new_node = Node(data)\n",
    "        if not self.head:\n",
    "            self.head = new_node\n",
    "        else:\n",
    "            current = self.head\n",
    "            while current.next:\n",
    "                current = current.next\n",
    "            current.next = new_node\n",
    "    def find_smallest(self):\n",
    "        if not self.head:\n",
    "            return None\n",
    "\n",
    "        smallest = self.head.data\n",
    "        current = self.head.next\n",
    "        while current:\n",
    "            if current.data < smallest:\n",
    "                smallest = current.data\n",
    "            current = current.next\n",
    "        return smallest\n",
    "    def insert_unique(self, data):\n",
    "        if not self.head:\n",
    "            self.head = Node(data)\n",
    "            return\n",
    "\n",
    "        current = self.head\n",
    "        while current:\n",
    "            if current.data == data:\n",
    "                return\n",
    "            if current.next is None:\n",
    "                current.next = Node(data)\n",
    "                return\n",
    "            current = current.next\n",
    "    def display_reverse(self):\n",
    "        stack = []\n",
    "        current = self.head\n",
    "        while current:\n",
    "            stack.append(current.data)\n",
    "            current = current.next\n",
    "\n",
    "        while stack:\n",
    "            print(stack.pop())\n",
    "my_list = LinkedList()\n",
    "my_list.insert(10)\n",
    "my_list.insert(5)\n",
    "my_list.insert(20)\n",
    "my_list.insert(5)  \n",
    "smallest = my_list.find_smallest()\n",
    "if smallest is not None:\n",
    "    print(f\"Smallest element: {smallest}\")\n",
    "else:\n",
    "    print(\"List is empty\")\n",
    "my_list.insert_unique(15)\n",
    "print(\"Elements in reverse order:\")\n",
    "my_list.display_reverse()"
   ]
  },
  {
   "cell_type": "markdown",
   "id": "33a1f694",
   "metadata": {},
   "source": [
    "# 7. Write a python program to implement the various operations for Stack ADT\n",
    "\n",
    "i.) Push\n",
    "ii) Pop \n",
    "iii) Display"
   ]
  },
  {
   "cell_type": "code",
   "execution_count": 18,
   "id": "623f6e4e",
   "metadata": {},
   "outputs": [
    {
     "name": "stdout",
     "output_type": "stream",
     "text": [
      "Stack elements:\n",
      "30\n",
      "20\n",
      "10\n",
      "Popped item: 30\n",
      "Stack elements:\n",
      "20\n",
      "10\n"
     ]
    }
   ],
   "source": [
    "class Stack:\n",
    "    def __init__(self):\n",
    "        self.items = []\n",
    "    def push(self, item):\n",
    "        self.items.append(item)\n",
    "    def pop(self):\n",
    "        if not self.is_empty():\n",
    "            return self.items.pop()\n",
    "        else:\n",
    "            print(\"Stack is empty. Cannot pop an element.\")\n",
    "    def display(self):\n",
    "        if not self.is_empty():\n",
    "            print(\"Stack elements:\")\n",
    "            for item in reversed(self.items):\n",
    "                print(item)\n",
    "        else:\n",
    "            print(\"Stack is empty.\")\n",
    "    def is_empty(self):\n",
    "        return len(self.items) == 0\n",
    "stack = Stack()\n",
    "stack.push(10)\n",
    "stack.push(20)\n",
    "stack.push(30)\n",
    "stack.display()\n",
    "popped_item = stack.pop()\n",
    "print(\"Popped item:\", popped_item)\n",
    "stack.display()"
   ]
  },
  {
   "cell_type": "markdown",
   "id": "50eb6809",
   "metadata": {},
   "source": [
    "# 8) Write a python script to implement the various operations for Queue ADT\n",
    "\n",
    "i) Insert ii) Delete iii) Display"
   ]
  },
  {
   "cell_type": "code",
   "execution_count": 21,
   "id": "3a3bb953",
   "metadata": {},
   "outputs": [
    {
     "name": "stdout",
     "output_type": "stream",
     "text": [
      "Queue elements:\n",
      "1\n",
      "2\n",
      "3\n",
      "Deleted item: 1\n",
      "Queue elements:\n",
      "2\n",
      "3\n"
     ]
    }
   ],
   "source": [
    "class Queue:\n",
    "    def __init__(self):\n",
    "        self.items = []\n",
    "    def insert(self, item):\n",
    "        self.items.append(item)\n",
    "    def delete(self):\n",
    "        if not self.is_empty():\n",
    "            return self.items.pop(0)\n",
    "        else:\n",
    "            print(\"Queue is empty. Cannot delete an element.\")\n",
    "    def display(self):\n",
    "        if not self.is_empty():\n",
    "            print(\"Queue elements:\")\n",
    "            for item in self.items:\n",
    "                print(item)\n",
    "        else:\n",
    "            print(\"Queue is empty.\")\n",
    "    def is_empty(self):\n",
    "        return len(self.items) == 0\n",
    "queue = Queue()\n",
    "queue.insert(1)\n",
    "queue.insert(2)\n",
    "queue.insert(3)\n",
    "queue.display()\n",
    "deleted_item = queue.delete()\n",
    "print(\"Deleted item:\", deleted_item)\n",
    "queue.display()\n"
   ]
  },
  {
   "cell_type": "markdown",
   "id": "29d492c7",
   "metadata": {},
   "source": [
    "# 9. Write a program in python to convert the following infix expression to its postfix form using push and pop operations of a Stack\n",
    "\n",
    "a. A/B^C+D*E-F*G\n",
    "\n",
    "b. (B^2-4*A*C) (1/2) (100)"
   ]
  },
  {
   "cell_type": "code",
   "execution_count": 22,
   "id": "08f53c94",
   "metadata": {},
   "outputs": [
    {
     "name": "stdout",
     "output_type": "stream",
     "text": [
      "Postfix expression for a: ABC^/DE+FG-\n",
      "Postfix expression for b: B2^4AC-12/100\n"
     ]
    }
   ],
   "source": [
    "def infix_to_postfix(expression):\n",
    "    precedence = {'+': 1, '-': 1, '*': 2, '/': 2, '^': 3}\n",
    "    output = []\n",
    "    stack = []\n",
    "\n",
    "    for char in expression:\n",
    "        if char.isalnum():\n",
    "            output.append(char)\n",
    "        elif char == '(':\n",
    "            stack.append(char)\n",
    "        elif char == ')':\n",
    "            while stack and stack[-1] != '(':\n",
    "                output.append(stack.pop())\n",
    "            stack.pop() \n",
    "        else:  \n",
    "            while stack and precedence.get(char, 0) <= precedence.get(stack[-1], 0):\n",
    "                output.append(stack.pop())\n",
    "            stack.append(char)\n",
    "\n",
    "    while stack:\n",
    "        output.append(stack.pop())\n",
    "\n",
    "    return ''.join(output)\n",
    "infix_expression_a = \"A/B^C+DE-FG\"\n",
    "infix_expression_b = \"(B^2-4AC)(1/2)(100)\"\n",
    "postfix_expression_a = infix_to_postfix(infix_expression_a)\n",
    "postfix_expression_b = infix_to_postfix(infix_expression_b)\n",
    "print(\"Postfix expression for a:\", postfix_expression_a)\n",
    "print(\"Postfix expression for b:\", postfix_expression_b)\n"
   ]
  }
 ],
 "metadata": {
  "kernelspec": {
   "display_name": "Python 3 (ipykernel)",
   "language": "python",
   "name": "python3"
  },
  "language_info": {
   "codemirror_mode": {
    "name": "ipython",
    "version": 3
   },
   "file_extension": ".py",
   "mimetype": "text/x-python",
   "name": "python",
   "nbconvert_exporter": "python",
   "pygments_lexer": "ipython3",
   "version": "3.11.4"
  }
 },
 "nbformat": 4,
 "nbformat_minor": 5
}
