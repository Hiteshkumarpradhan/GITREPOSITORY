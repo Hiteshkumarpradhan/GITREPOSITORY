{
 "cells": [
  {
   "cell_type": "markdown",
   "id": "d22a6a57",
   "metadata": {},
   "source": [
    "# Modules and Virtual Environments\n"
   ]
  },
  {
   "cell_type": "markdown",
   "id": "e2437380",
   "metadata": {},
   "source": [
    "# 1. Module Import and Management\n",
    "Scenario: You are developing a complex Python project with multiple modules. To manage the\n",
    "project effectively, you need to import and use various modules. Additionally, you want to\n",
    "organize your code using namespaces and avoid naming conflicts"
   ]
  },
  {
   "cell_type": "markdown",
   "id": "60ea903d",
   "metadata": {},
   "source": [
    "   Design a Python program that demonstrates the following:\n",
    "\n",
    "1. Import multiple modules within your project.\n",
    "\n",
    "2. Use the import statement to access functions, classes, and variable from imported modules.\n",
    "\n",
    "3. Create your custom module and use it in your main program. \n",
    "\n",
    "4. Handle naming conflicts and ensure proper namespacing.\n",
    "\n",
    "5. Implement error handling for missing modules or incorrect module usage\n",
    "\n",
    "\n"
   ]
  },
  {
   "cell_type": "code",
   "execution_count": 11,
   "id": "aa2a89d6",
   "metadata": {},
   "outputs": [
    {
     "name": "stdout",
     "output_type": "stream",
     "text": [
      "hello name\n",
      "name name\n",
      "hello name\n",
      "name Hitesh\n",
      "not found\n"
     ]
    }
   ],
   "source": [
    "import module1\n",
    "import module2\n",
    "module1.function_name('name') \n",
    "module2.variable_name('name')\n",
    "import module1 as m1\n",
    "import module2 as m2\n",
    "m1.function_name('name')\n",
    "m2.variable_name ('Hitesh')\n",
    "try:\n",
    "    import module3 \n",
    "except ImportError:\n",
    "    print(\"not found\")"
   ]
  },
  {
   "cell_type": "code",
   "execution_count": null,
   "id": "50082258",
   "metadata": {},
   "outputs": [],
   "source": [
    "python -m venv myenv\n",
    "myenv\\Script\\activate\n",
    "deactivate\n",
    "source myenv/bin/activate\n",
    "deactivate\n",
    "pip install package_name\n",
    "pip install --upgrage package_name\n",
    "pip uninstall package_name\n",
    "pip list"
   ]
  },
  {
   "cell_type": "markdown",
   "id": "d7a790c7",
   "metadata": {},
   "source": [
    "# 2. Virtual Environment Management.\n",
    "\n",
    "Scenario: You are working on multiple Python projects with different dependencies and versions. To avoid conflicts and ensure project isolation, you decide to use virtual environments.\n"
   ]
  },
  {
   "cell_type": "markdown",
   "id": "b3ffe5fc",
   "metadata": {},
   "source": [
    "Create a Python program that demonstrates the following:\n",
    "    \n",
    "1. Create a virtual environment for a specific project.\n",
    "\n",
    "2. Activate and deactivate virtual environments.\n",
    "\n",
    "3. install, upgrade, and uninstall packages within a virtual environment.\n",
    "\n",
    "4. List the installed packages in a virtual environment.\n",
    "\n",
    "5. Implement error handling for virtual environment operations."
   ]
  },
  {
   "cell_type": "code",
   "execution_count": 17,
   "id": "bd50d20d",
   "metadata": {},
   "outputs": [
    {
     "name": "stdout",
     "output_type": "stream",
     "text": [
      "Virtual environment 'myenv' created successfully.\n"
     ]
    }
   ],
   "source": [
    "#1\n",
    "\n",
    "import subprocess\n",
    "import sys\n",
    "import os\n",
    "\n",
    "def create_virtual_environment():\n",
    "    try:\n",
    "        subprocess.check_call([sys.executable, '-m', 'venv', 'myenv'])\n",
    "        print(\"Virtual environment 'myenv' created successfully.\")\n",
    "    except subprocess.CalledProcessError as e:\n",
    "        print(f\"Error creating virtual environment: {e}\")\n",
    "    except Exception as e:\n",
    "        print(f\"An unexpected error occurred: {e}\")\n",
    "\n",
    "if __name__ == \"__main__\":\n",
    "    create_virtual_environment()\n"
   ]
  },
  {
   "cell_type": "code",
   "execution_count": 19,
   "id": "2074e5a9",
   "metadata": {},
   "outputs": [
    {
     "name": "stdout",
     "output_type": "stream",
     "text": [
      "An unexpected error occurred: [WinError 2] The system cannot find the file specified\n",
      "An unexpected error occurred: [WinError 2] The system cannot find the file specified\n"
     ]
    }
   ],
   "source": [
    "#2\n",
    "\n",
    "import subprocess\n",
    "import sys\n",
    "import os\n",
    "def activate_virtual_environment():\n",
    "    try:\n",
    "        if sys.platform == \"win32\":\n",
    "            subprocess.check_call([os.path.join(\"myenv\", \"Scripts\", \"activate\")])\n",
    "        else:\n",
    "            subprocess.check_call([os.path.join(\"myenv\", \"bin\", \"activate\")])\n",
    "        print(\"Virtual environment 'myenv' activated.\")\n",
    "    except subprocess.CalledProcessError as e:\n",
    "        print(f\"Error activating virtual environment: {e}\")\n",
    "    except Exception as e:\n",
    "        print(f\"An unexpected error occurred: {e}\")\n",
    "def deactivate_virtual_environment():\n",
    "    try:\n",
    "        subprocess.check_call([\"deactivate\"])\n",
    "        print(\"Virtual environment deactivated.\")\n",
    "    except subprocess.CalledProcessError as e:\n",
    "        print(f\"Error deactivating virtual environment: {e}\")\n",
    "    except Exception as e:\n",
    "        print(f\"An unexpected error occurred: {e}\")\n",
    "if __name__ == \"__main__\":\n",
    "    activate_virtual_environment()\n",
    "    deactivate_virtual_environment()"
   ]
  },
  {
   "cell_type": "code",
   "execution_count": 16,
   "id": "9da31706",
   "metadata": {},
   "outputs": [
    {
     "name": "stdout",
     "output_type": "stream",
     "text": [
      "Package 'requests' installed successfully.\n",
      "Package 'requests' upgraded successfully.\n",
      "Package 'requests' uninstalled successfully.\n",
      "An unexpected error occurred: [WinError 2] The system cannot find the file specified\n"
     ]
    }
   ],
   "source": [
    "#3\n",
    "\n",
    "import subprocess\n",
    "import sys\n",
    "import os\n",
    "\n",
    "def install_package(package_name):\n",
    "    try:\n",
    "        subprocess.check_call([sys.executable, '-m', 'pip', 'install', package_name])\n",
    "        print(f\"Package '{package_name}' installed successfully.\")\n",
    "    except subprocess.CalledProcessError as e:\n",
    "        print(f\"Error installing package '{package_name}': {e}\")\n",
    "    except Exception as e:\n",
    "        print(f\"An unexpected error occurred: {e}\")\n",
    "\n",
    "def upgrade_package(package_name):\n",
    "    try:\n",
    "        subprocess.check_call([sys.executable, '-m', 'pip', 'install', '--upgrade', package_name])\n",
    "        print(f\"Package '{package_name}' upgraded successfully.\")\n",
    "    except subprocess.CalledProcessError as e:\n",
    "        print(f\"Error upgrading package '{package_name}': {e}\")\n",
    "    except Exception as e:\n",
    "        print(f\"An unexpected error occurred: {e}\")\n",
    "\n",
    "def uninstall_package(package_name):\n",
    "    try:\n",
    "        subprocess.check_call([sys.executable, '-m', 'pip', 'uninstall', '-y', package_name])\n",
    "        print(f\"Package '{package_name}' uninstalled successfully.\")\n",
    "    except subprocess.CalledProcessError as e:\n",
    "        print(f\"Error uninstalling package '{package_name}': {e}\")\n",
    "    except Exception as e:\n",
    "        print(f\"An unexpected error occurred: {e}\")\n",
    "\n",
    "if __name__ == \"__main__\":\n",
    "    install_package(\"requests\")\n",
    "    upgrade_package(\"requests\")\n",
    "    uninstall_package(\"requests\")\n",
    "    deactivate_virtual_environment()\n"
   ]
  },
  {
   "cell_type": "code",
   "execution_count": null,
   "id": "cfa1a7e4",
   "metadata": {},
   "outputs": [],
   "source": [
    "#4\n",
    "\n",
    "import subprocess\n",
    "import sys\n",
    "import os\n",
    "\n",
    "def list_installed_packages():\n",
    "    try:\n",
    "        installed_packages = subprocess.check_output([sys.executable, '-m', 'pip', 'list']).decode('utf-8')\n",
    "        print(\"Installed packages:\")\n",
    "        print(installed_packages)\n",
    "    except subprocess.CalledProcessError as e:\n",
    "        print(f\"Error listing installed packages: {e}\")\n",
    "    except Exception as e:\n",
    "        print(f\"An unexpected error occurred: {e}\")\n",
    "\n",
    "if __name__ == \"__main__\":\n",
    "    activate_virtual_environment()\n",
    "    list_installed_packages()\n",
    "    deactivate_virtual_environment()"
   ]
  },
  {
   "cell_type": "markdown",
   "id": "01b86fca",
   "metadata": {},
   "source": [
    "# 3. Module Dependency Resolution \n",
    "Scenario: You are developing a Python application that relies on third-party packages.Managing dependencies and ensuring compatibility is crucial for your project's success."
   ]
  },
  {
   "cell_type": "markdown",
   "id": "ef0483a0",
   "metadata": {},
   "source": [
    "Design a Python program that demonstrates the following:\n",
    "\n",
    "1. Use a requirements.txt file to specify project dependencies.\n",
    "\n",
    "2. Automatically install all project dependencies from the requirements.txt file. \n",
    "\n",
    "3. Ensure that the versions of installed packages are compatible.\n",
    "\n",
    "4. Implement error handling for dependency resolution and installation.\n",
    "\n"
   ]
  },
  {
   "cell_type": "code",
   "execution_count": 22,
   "id": "8c840eb6",
   "metadata": {},
   "outputs": [
    {
     "name": "stdout",
     "output_type": "stream",
     "text": [
      "Error: requirements.txt file not found.\n"
     ]
    }
   ],
   "source": [
    "import subprocess\n",
    "import sys\n",
    "\n",
    "def install_dependencies():\n",
    "    try:\n",
    "        with open('requirements.txt', 'r') as requirements_file:\n",
    "            requirements = requirements_file.readlines()\n",
    "        requirements = [req.strip() for req in requirements if req.strip()]\n",
    "        if requirements:\n",
    "            print(\"Installing project dependencies...\")\n",
    "            for req in requirements:\n",
    "                subprocess.check_call([sys.executable, '-m', 'pip', 'install', req])\n",
    "\n",
    "            print(\"Dependencies installed successfully.\")\n",
    "        else:\n",
    "            print(\"No dependencies to install.\")\n",
    "\n",
    "    except FileNotFoundError:\n",
    "        print(\"Error: requirements.txt file not found.\")\n",
    "    except subprocess.CalledProcessError as e:\n",
    "        print(f\"Error installing dependencies: {e}\")\n",
    "    except Exception as e:\n",
    "        print(f\"An unexpected error occurred: {e}\")\n",
    "\n",
    "if __name__ == \"__main__\":\n",
    "    install_dependencies()\n"
   ]
  },
  {
   "cell_type": "markdown",
   "id": "4430f973",
   "metadata": {},
   "source": [
    "# Database programming with MySQL:\n"
   ]
  },
  {
   "cell_type": "markdown",
   "id": "1c2944ba",
   "metadata": {},
   "source": [
    "# 1. Implement Inventory Management in Python with MySQL"
   ]
  },
  {
   "cell_type": "markdown",
   "id": "f33f03a2",
   "metadata": {},
   "source": [
    "a) Inventory management, a critical element of the supply chain, is the tracking of inventory from manufacturers to warehouses and from these facilities to a point of sale. The goal of inventory management is to have the right products in the right\n",
    "place at the right time\n",
    "\n",
    "b) The required Database is Inventory, and the required Tables are Purchases, Sales and\n",
    "Inventory\n",
    "\n",
    "c) Note: Apply your thoughts to demonstrate the DB Operation in Python"
   ]
  },
  {
   "cell_type": "code",
   "execution_count": null,
   "id": "e8d38b49",
   "metadata": {},
   "outputs": [],
   "source": [
    "import mysql.connector\n",
    "\n",
    "conn = mysql.connector.connect(\n",
    "\n",
    "    host=\"localhost\",\n",
    "\n",
    "    user=\"root\",\n",
    "\n",
    "    password=\"Mrkendrapara@225\",\n",
    "\n",
    "    database=\"Inventory\"\n",
    "\n",
    ")\n",
    "\n",
    "\n",
    "cursor = conn.cursor()\n",
    "\n",
    "\n",
    "cursor.execute(\"\"\"\n",
    "\n",
    "    CREATE TABLE IF NOT EXISTS PurchasesSales (\n",
    "\n",
    "        id INT AUTO_INCREMENT PRIMARY KEY,\n",
    "\n",
    "        product_name VARCHAR(255),\n",
    "\n",
    "        quantity INT,\n",
    "\n",
    "        transaction_type ENUM('purchase', 'sale'),\n",
    "\n",
    "        transaction_date DATE\n",
    "\n",
    "    )\n",
    "\n",
    "\"\"\")\n",
    "\n",
    "\n",
    "cursor.execute(\"\"\"\n",
    "\n",
    "    CREATE TABLE IF NOT EXISTS Inventory (\n",
    "\n",
    "        id INT AUTO_INCREMENT PRIMARY KEY,\n",
    "\n",
    "        product_name VARCHAR(255),\n",
    "\n",
    "        available_quantity INT\n",
    "\n",
    "    )\n",
    "\n",
    "\"\"\")\n",
    "\n",
    "cursor.execute(\"\"\"\n",
    "\n",
    "    INSERT INTO PurchasesSales (product_name, quantity, transaction_type, transaction_date)\n",
    "\n",
    "    VALUES (%s, %s, %s, %s)\n",
    "\n",
    "\"\"\", (\"Product A\", 100, \"purchase\", \"2023-09-15\"))\n",
    "\n",
    "cursor.execute(\"\"\"\n",
    "\n",
    "    INSERT INTO Inventory (product_name, available_quantity)\n",
    "\n",
    "    VALUES (%s, %s)\n",
    "\n",
    "\"\"\", (\"Product A\", 100))\n",
    "\n",
    "conn.commit()\n",
    "\n",
    "cursor.close()\n",
    "\n",
    "conn.close()\n"
   ]
  },
  {
   "cell_type": "markdown",
   "id": "615bf207",
   "metadata": {},
   "source": [
    "# 2. Customer Order Processing\n",
    "Scenaria You are building a customer order processing system for an e-commerce company. The\n",
    "system needs to interact with a MySQL database to store customer orders, products, and order\n",
    "details.\n"
   ]
  },
  {
   "cell_type": "markdown",
   "id": "482dce05",
   "metadata": {},
   "source": [
    "1. Design a MySQL database schema for the order processing system, including tables for customers, products, and orders\n",
    "\n",
    "2. Write a Python program that connects to the database and allows customers to place new orders.\n",
    "\n",
    "3. Implement a feature that calculates the total cost of an order and updates product quantities in the database \n",
    "\n",
    "4. How would you handle cases where a product is no longer available when a customer places an order??\n",
    "\n",
    "5. Develop a function to generate order reports for the company's finance department.\n"
   ]
  },
  {
   "cell_type": "code",
   "execution_count": null,
   "id": "88fd4e42",
   "metadata": {},
   "outputs": [],
   "source": [
    "import mysql.connector\n",
    "conn = mysql.connector.connect(\n",
    "    host=\"your_host\",\n",
    "    user=\"your_username\",\n",
    "    password=\"your_password\",\n",
    "    database=\"your_database\"\n",
    ")\n",
    "cursor = conn.cursor()\n",
    "\n",
    "def place_order(customer_id, product_id, quantity):\n",
    "    try:\n",
    "        cursor.execute(\"SELECT quantity_available, price FROM Products WHERE product_id = %s\", (product_id,))\n",
    "        product_data = cursor.fetchone()\n",
    "        if product_data and product_data[0] >= quantity:\n",
    "            price = product_data[1]\n",
    "            line_total = price * quantity\n",
    "            cursor.execute(\"INSERT INTO Order_Details (order_id, product_id, quantity_ordered, line_total) \"\n",
    "                           \"VALUES (%s, %s, %s, %s)\", (order_id, product_id, quantity, line_total))\n",
    "\n",
    "            cursor.execute(\"UPDATE Products SET quantity_available = quantity_available - %s WHERE product_id = %s\",\n",
    "                           (quantity, product_id))\n",
    "\n",
    "            cursor.execute(\"UPDATE Orders SET total_cost = total_cost + %s WHERE order_id = %s\",\n",
    "                           (line_total, order_id))\n",
    "\n",
    "            conn.commit()\n",
    "            print(\"Order placed successfully!\")\n",
    "        else:\n",
    "            print(\"Product is not available in the desired quantity.\")\n",
    "\n",
    "    except mysql.connector.Error as e:\n",
    "        print(f\"Error: {e}\")\n",
    "        conn.rollback()\n",
    "\n",
    "def generate_order_report(order_id):\n",
    "    try:\n",
    "        cursor.execute(\"SELECT od.product_id, p.product_name, od.quantity_ordered, p.price, od.line_total \"\n",
    "                       \"FROM Order_Details od \"\n",
    "                       \"JOIN Products p ON od.product_id = p.product_id \"\n",
    "                       \"WHERE od.order_id = %s\", (order_id,))\n",
    "        order_details = cursor.fetchall()\n",
    "\n",
    "        if order_details:\n",
    "            print(f\"Order Report for Order ID {order_id}:\")\n",
    "            print(\"Product ID | Product Name | Quantity Ordered | Price | Line Total\")\n",
    "            for row in order_details:\n",
    "                print(f\"{row[0]} | {row[1]} | {row[2]} | {row[3]} | {row[4]}\")\n",
    "        else:\n",
    "            print(\"No order details found for this order.\")\n",
    "\n",
    "    except mysql.connector.Error as e:\n",
    "        print(f\"Error: {e}\")\n",
    "cursor.close()\n",
    "conn.close()\n"
   ]
  },
  {
   "cell_type": "markdown",
   "id": "63b0a7ec",
   "metadata": {},
   "source": [
    "# 3. You are tasked with developing a Python program that connects to a MySQL database, retrieves data from a table, performs some operations on the data, and updates the database with the modified data. Please write Python code to accomplish this task. instructions:\n"
   ]
  },
  {
   "cell_type": "markdown",
   "id": "20cb608f",
   "metadata": {},
   "source": [
    "\n",
    "1. Assume that you have a MySQL database server running with the following details:\n",
    "\n",
    "i. Host: localhost\n",
    "    \n",
    "ii. Port: 3306 \n",
    "\n",
    "iii. Username: your username\n",
    "\n",
    "iv. Password: your password\n",
    "\n",
    "v. Database Name your database\n",
    "\n",
    "vi. Table Name: your table\n",
    "\n",
    "vil. The table has the following columns: id (int), name (varchar), quantity (int). "
   ]
  },
  {
   "cell_type": "markdown",
   "id": "c3fdba02",
   "metadata": {},
   "source": [
    "2. Your Python program should\n",
    "\n",
    "i. Connect to the MySQL database\n",
    "\n",
    "ii. Retrieve all records from the your table table.\n",
    "\n",
    "iii. Calculate the total quantity of all records retrieved \n",
    "\n",
    "iv. Update the quantity column of each record by doubling its value.\n",
    "\n",
    "v. Commit the changes to the database.\n",
    "\n",
    "v. Close the database connection\n"
   ]
  },
  {
   "cell_type": "code",
   "execution_count": null,
   "id": "a828210d",
   "metadata": {},
   "outputs": [],
   "source": [
    "import mysql.connector\n",
    "db_config = {\n",
    "    \"host\": \"localhost\",\n",
    "    \"port\": 3306,\n",
    "    \"user\": \"root\",\n",
    "    \"password\": \"Mrkendrapara@225\",\n",
    "    \"database\": \"yourdatabase\",\n",
    "}\n",
    "\n",
    "try:\n",
    "    conn = mysql.connector.connect(**db_config)\n",
    "    cursor = conn.cursor()\n",
    "    cursor.execute(\"SELECT id, name, quantity FROM your_table\")\n",
    "    total_quantity = 0\n",
    "    for (id, name, quantity) in cursor.fetchall():\n",
    "        total_quantity += quantity\n",
    "\n",
    "    print(f\"Total quantity before update: {total_quantity}\")\n",
    "    cursor.execute(\"UPDATE your_table SET quantity = quantity * 2\")\n",
    "    conn.commit()\n",
    "\n",
    "    print(\"Quantity for all records doubled.\")\n",
    "\n",
    "except mysql.connector.Error as e:\n",
    "    print(f\"Error: {e}\")\n",
    "    conn.rollback()\n",
    "\n",
    "finally:\n",
    "    if conn.is_connected():\n",
    "        cursor.close()\n",
    "        conn.close()\n",
    "        print(\"Database connection closed.\")\n"
   ]
  },
  {
   "cell_type": "markdown",
   "id": "89056002",
   "metadata": {},
   "source": [
    "# 4. You are developing an employee management system for a company. The database should store employee information, Including name, salary, department, and hire date. Managers should be able to view and update employee details.\n",
    "\n"
   ]
  },
  {
   "cell_type": "markdown",
   "id": "8b2de923",
   "metadata": {},
   "source": [
    "1. Design the database schema for the employee management system."
   ]
  },
  {
   "cell_type": "markdown",
   "id": "a5e6b4aa",
   "metadata": {},
   "source": [
    " 2. Write Python code to connect to the database and retrieve a list of employees in a specific department. "
   ]
  },
  {
   "cell_type": "markdown",
   "id": "9016b983",
   "metadata": {},
   "source": [
    "3. Implement a feature to update an employee's salary "
   ]
  },
  {
   "cell_type": "code",
   "execution_count": null,
   "id": "89d22d91",
   "metadata": {},
   "outputs": [],
   "source": [
    "import sqlite3\n",
    "conn = sqlite3.connect(\"management.db\")\n",
    "cursor = conn.cursor()\n",
    "department_name = \"Engineering\"\n",
    "query = \"\"\"\n",
    "\n",
    "    SELECT FirstName, LastName\n",
    "\n",
    "    FROM Employees\n",
    "\n",
    "    WHERE DepartmentID = (\n",
    "\n",
    "        SELECT DepartmentID\n",
    "\n",
    "        FROM Departments\n",
    "\n",
    "        WHERE DepartmentName = ?\n",
    "\n",
    "    )\n",
    "\n",
    "\"\"\"\n",
    "cursor.execute(query, (department_name,))\n",
    "\n",
    "employees = cursor.fetchall()\n",
    "\n",
    "conn.close()\n",
    "\n",
    "for employee in employees:\n",
    "\n",
    "    print(f\"{employee[0]} {employee[1]}\")"
   ]
  },
  {
   "cell_type": "code",
   "execution_count": null,
   "id": "7aa2c561",
   "metadata": {},
   "outputs": [],
   "source": [
    "import sqlite3\n",
    "conn = sqlite3.connect(\"management.db\")\n",
    "\n",
    "cursor = conn.cursor()\n",
    "\n",
    "employee_id = 1\n",
    "\n",
    "new_salary = 60000 \n",
    "\n",
    "update_query = \"\"\"\n",
    "\n",
    "    UPDATE Employees\n",
    "\n",
    "    SET Salary = ?\n",
    "\n",
    "WHERE EmployeeID = ?\n",
    "\n",
    "\"\"\"\n",
    "\n",
    "cursor.execute(update_query, (new_salary, employee_id))\n",
    "\n",
    "conn.commit()\n",
    "\n",
    "conn.close()\n",
    "\n",
    "print(\"Employee's salary updated successfully.\")"
   ]
  }
 ],
 "metadata": {
  "kernelspec": {
   "display_name": "Python 3 (ipykernel)",
   "language": "python",
   "name": "python3"
  },
  "language_info": {
   "codemirror_mode": {
    "name": "ipython",
    "version": 3
   },
   "file_extension": ".py",
   "mimetype": "text/x-python",
   "name": "python",
   "nbconvert_exporter": "python",
   "pygments_lexer": "ipython3",
   "version": "3.11.4"
  }
 },
 "nbformat": 4,
 "nbformat_minor": 5
}
