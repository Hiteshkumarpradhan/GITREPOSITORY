{
 "cells": [
  {
   "cell_type": "markdown",
   "id": "464c92c7",
   "metadata": {},
   "source": [
    "# 1. Case Study: Online Shopping Cart Exception Handling\n",
    "\n"
   ]
  },
  {
   "cell_type": "markdown",
   "id": "0d66ffff",
   "metadata": {},
   "source": [
    "Scenario 1-Adding Items to Cart:\n",
    "    \n",
    "When a customer adds an item to their cart, they provide the product ID and quantity. Handle exceptions that may occur during this process, such as:\n",
    "\n",
    "L. Product ID not found in the product catalog. \n",
    "\n",
    "ii. Invalid quantity (eg. negative quantity or non-integer input).\n",
    "\n",
    "\n",
    "Scenario 2-Viewing Cart Contents:\n",
    "\n",
    "When a customer views their cart, display the list of items and their quantities. Handle exceptions that may occur during this process, such as:\n",
    "\n",
    "i. Empty cart (no items added).\n",
    "\n",
    "ii. Unexpected errors (eg, network issues when fetching cart data).\n",
    "\n",
    "\n",
    "Scenario 3- Proceeding to Checkout:\n",
    "\n",
    "When a customer proceeds to checkout, validate the cart and process the payment. Handle exceptions that may occur during this process, such as:\n",
    "\n",
    "i. Insufficient stock for some items in the cart.\n",
    "\n",
    "ii. Payment gateway errors.\n",
    "\n",
    "iii. Customer payment method declined."
   ]
  },
  {
   "cell_type": "code",
   "execution_count": 2,
   "id": "9fa03cfb",
   "metadata": {},
   "outputs": [
    {
     "name": "stdout",
     "output_type": "stream",
     "text": [
      "Unexpected error: name 'product_catalog' is not defined\n"
     ]
    }
   ],
   "source": [
    "class ShoppingCart:\n",
    "    def __init__(self):\n",
    "        self.cart = {}\n",
    "\n",
    "    def add_item(self, product_id, quantity):\n",
    "        try:\n",
    "            if product_id not in product_catalog:\n",
    "                raise ValueError(\"Product ID not found in the catalog\")\n",
    "            if not isinstance(quantity, int) or quantity <= 0:\n",
    "                raise ValueError(\"Invalid quantity. Quantity must be a positive integer\")\n",
    "            if product_id in self.cart:\n",
    "                self.cart[product_id] += quantity\n",
    "            else:\n",
    "                self.cart[product_id] = quantity\n",
    "        except ValueError as e:\n",
    "            print(f\"Error: {e}\")\n",
    "        except Exception as e:\n",
    "            print(f\"Unexpected error: {e}\")\n",
    "cart = ShoppingCart()\n",
    "cart.add_item(\"12345\", 3)\n"
   ]
  },
  {
   "cell_type": "code",
   "execution_count": 20,
   "id": "53ca9f3b",
   "metadata": {},
   "outputs": [],
   "source": [
    "class ShoppingCart:\n",
    "    def view_cart(self):\n",
    "        try:\n",
    "            if not self.cart:\n",
    "                print(\"Cart is empty\")\n",
    "            else:\n",
    "                for product_id, quantity in self.cart.items():\n",
    "                    print(f\"Product ID: {product_id}, Quantity: {quantity}\")\n",
    "        except Exception as e:\n",
    "            print(f\"Unexpected error: {e}\")\n"
   ]
  },
  {
   "cell_type": "code",
   "execution_count": null,
   "id": "d6552d38",
   "metadata": {},
   "outputs": [],
   "source": [
    "class ShoppingCart:\n",
    "    # ...\n",
    "    def checkout(self):\n",
    "        try:\n",
    "            for product_id, quantity in self.cart.items():\n",
    "                if product_id not in product_stock:\n",
    "                    raise ValueError(f\"Insufficient stock for product ID: {product_id}\")\n",
    "\n",
    "                if quantity > product_stock[product_id]:\n",
    "                    raise ValueError(f\"Insufficient stock for product ID: {product_id}\")\n",
    "            self.cart.clear()\n",
    "\n",
    "        except ValueError as e:\n",
    "            print(f\"Error: {e}\")\n",
    "        except PaymentGatewayError as e:\n",
    "            print(f\"Payment gateway error: {e}\")\n",
    "        except CustomerPaymentDeclinedError as e:\n",
    "            print(f\"Customer payment method declined: {e}\")\n",
    "        except Exception as e:\n",
    "            print(f\"Unexpected error: {e}\")\n",
    "cart = ShoppingCart()\n",
    "cart.checkout()\n"
   ]
  },
  {
   "cell_type": "markdown",
   "id": "038e5a23",
   "metadata": {},
   "source": [
    "# 2. Create a Python function that checks if two given strings are anagrams of each other.\n"
   ]
  },
  {
   "cell_type": "code",
   "execution_count": 9,
   "id": "577540d0",
   "metadata": {},
   "outputs": [
    {
     "name": "stdout",
     "output_type": "stream",
     "text": [
      "listen and silent are anagrams.\n"
     ]
    }
   ],
   "source": [
    "def are_anagrams(str1, str2):\n",
    "    str1 = str1.replace(\" \", \"\").lower()\n",
    "    str2 = str2.replace(\" \", \"\").lower()\n",
    "    return sorted(str1) == sorted(str2)\n",
    "str1 = \"listen\"\n",
    "str2 = \"silent\"\n",
    "\n",
    "if are_anagrams(str1, str2):\n",
    "    print(f\"{str1} and {str2} are anagrams.\")\n",
    "else:\n",
    "    print(f\"{str1} and {str2} are not anagrams.\")"
   ]
  },
  {
   "cell_type": "markdown",
   "id": "e95e17e3",
   "metadata": {},
   "source": [
    "# 3. Create a Python function that checks if two given strings are anagrams of each other.\n"
   ]
  },
  {
   "cell_type": "code",
   "execution_count": 7,
   "id": "5ff2f80b",
   "metadata": {},
   "outputs": [
    {
     "name": "stdout",
     "output_type": "stream",
     "text": [
      "listen and silent are anagrams.\n"
     ]
    }
   ],
   "source": [
    "def are_anagrams(str1, str2):\n",
    "    str1 = str1.replace(\" \", \"\").lower()\n",
    "    str2 = str2.replace(\" \", \"\").lower()\n",
    "    return sorted(str1) == sorted(str2)\n",
    "str1 = \"listen\"\n",
    "str2 = \"silent\"\n",
    "\n",
    "if are_anagrams(str1, str2):\n",
    "    print(f\"{str1} and {str2} are anagrams.\")\n",
    "else:\n",
    "    print(f\"{str1} and {str2} are not anagrams.\")"
   ]
  },
  {
   "cell_type": "markdown",
   "id": "45464a61",
   "metadata": {},
   "source": [
    "# 4. Case Study: Online Bookstore Database Connectivity\n",
    "\n"
   ]
  },
  {
   "cell_type": "markdown",
   "id": "322f55d6",
   "metadata": {},
   "source": [
    "Scenario 1-Customer Registration:\n",
    "\n",
    "When a new customer registers on the website, their information (name, email, password) should be stored in the database.\n",
    "Handle exceptions that may occur during the registration process, such as:\n",
    "\n",
    "1. Duplicate email addresses.\n",
    "\n",
    "2. Database connection errors.\n",
    "\n",
    "Scenario 2-Book Inventory Management:\n",
    "\n",
    "Implement functionality to add new books to the inventory, update existing book details, and delete books.\n",
    "Handle exceptions that may occur during these operations, such as:\n",
    "\n",
    "1. Invalid book data.\n",
    "\n",
    "2. Database errors when updating or deleting books.\n",
    "\n",
    "Scenario 3-Customer Orders:\n",
    "\n",
    "Allow customers to place orders for books. Each order includes customer details and a list of ordered\n",
    "books.\n",
    "Handle exceptions that may occur during order placement, such as:\n",
    "\n",
    "1. Insufficient stock for some books.\n",
    "\n",
    "2. Database errors when recording orders.\n",
    "\n",
    "Scenario 4-Order History:\n",
    "\n",
    "Customers should be able to view their order history, which includes details of past orders.\n",
    "Handle exceptions that may occur when retrieving order history, such as:\n",
    "\n",
    "1. No orders found for the customer\n",
    "\n",
    "2. Database connection issues.\n"
   ]
  },
  {
   "cell_type": "markdown",
   "id": "a3071259",
   "metadata": {},
   "source": [
    "\n",
    "\n",
    "\n",
    "\n",
    "\n",
    "1. Review the existing database interaction code to identify potential areas where exceptions may occur.\n"
   ]
  },
  {
   "cell_type": "markdown",
   "id": "d9b67e50",
   "metadata": {},
   "source": [
    "Review the existing database interaction code to identify potential areas where exceptions may occur. Based on the scenarios you've mentioned, these areas might include database connections, SQL queries, and interactions with external services."
   ]
  },
  {
   "cell_type": "markdown",
   "id": "b01bc019",
   "metadata": {},
   "source": [
    "2. Enhance the exception handling in the code by adding appropriate try, except, and finally blocks to handle exceptions gracefully. Provide helpful error messages to the user where applicable.\n"
   ]
  },
  {
   "cell_type": "code",
   "execution_count": null,
   "id": "47eec44a",
   "metadata": {},
   "outputs": [],
   "source": [
    "#Scenario 1\n",
    "\n",
    "import psycopg2 \n",
    "\n",
    "def register_customer(name, email, password):\n",
    "    try:\n",
    "        conn = psycopg2.connect(database=\"yourdb\", user=\"youruser\", password=\"yourpassword\", host=\"yourhost\", port=\"yourport\")\n",
    "        cursor = conn.cursor()\n",
    "        cursor.execute(\"SELECT COUNT(*) FROM customers WHERE email = %s\", (email,))\n",
    "        count = cursor.fetchone()[0]\n",
    "        if count > 0:\n",
    "            raise ValueError(\"Email address already exists. Please use a different email.\")\n",
    "        cursor.execute(\"INSERT INTO customers (name, email, password) VALUES (%s, %s, %s)\", (name, email, password))\n",
    "        conn.commit()\n",
    "\n",
    "        return \"Registration successful.\"\n",
    "\n",
    "    except psycopg2.DatabaseError as e:\n",
    "        return f\"Database error: {str(e)}\"\n",
    "    except Exception as e:\n",
    "        return f\"Registration failed. Error: {str(e)}\"\n",
    "\n",
    "    finally:\n",
    "        if conn:\n",
    "            conn.close()\n"
   ]
  },
  {
   "cell_type": "code",
   "execution_count": null,
   "id": "2efab134",
   "metadata": {},
   "outputs": [],
   "source": [
    "#Scenario 2\n",
    "\n",
    "import psycopg2 \n",
    "\n",
    "def add_book(title, author, isbn, stock):\n",
    "    try:\n",
    "        conn = psycopg2.connect(database=\"yourdb\", user=\"youruser\", password=\"yourpassword\", host=\"yourhost\", port=\"yourport\")\n",
    "        cursor = conn.cursor()\n",
    "        if not is_valid_isbn(isbn):\n",
    "            raise ValueError(\"Invalid ISBN format.\")\n",
    "        cursor.execute(\"INSERT INTO books (title, author, isbn, stock) VALUES (%s, %s, %s, %s)\", (title, author, isbn, stock))\n",
    "        conn.commit()\n",
    "\n",
    "        return \"Book added successfully.\"\n",
    "\n",
    "    except psycopg2.DatabaseError as e:\n",
    "        return f\"Database error: {str(e)}\"\n",
    "    except Exception as e:\n",
    "        return f\"Failed to add book. Error: {str(e)}\"\n",
    "\n",
    "    finally:\n",
    "        if conn:\n",
    "            conn.close()\n"
   ]
  },
  {
   "cell_type": "code",
   "execution_count": null,
   "id": "8038fbe7",
   "metadata": {},
   "outputs": [],
   "source": [
    "#Scenario 3\n",
    "\n",
    "import psycopg2\n",
    "\n",
    "def place_order(customer_id, book_ids):\n",
    "    try:\n",
    " \n",
    "        conn = psycopg2.connect(database=\"yourdb\", user=\"youruser\", password=\"yourpassword\", host=\"yourhost\", port=\"yourport\")\n",
    "        cursor = conn.cursor()\n",
    "        for book_id in book_ids:\n",
    "            cursor.execute(\"SELECT stock FROM books WHERE id = %s\", (book_id,))\n",
    "            stock = cursor.fetchone()[0]\n",
    "            if stock <= 0:\n",
    "                raise ValueError(f\"Book with ID {book_id} is out of stock.\")\n",
    "        cursor.execute(\"INSERT INTO orders (customer_id) VALUES (%s) RETURNING id\", (customer_id,))\n",
    "        order_id = cursor.fetchone()[0]\n",
    "\n",
    "        for book_id in book_ids:\n",
    "            cursor.execute(\"INSERT INTO order_details (order_id, book_id) VALUES (%s, %s)\", (order_id, book_id))\n",
    "        for book_id in book_ids:\n",
    "            cursor.execute(\"UPDATE books SET stock = stock - 1 WHERE id = %s\", (book_id,))\n",
    "        conn.commit()\n",
    "\n",
    "        return f\"Order placed successfully. Order ID: {order_id}\"\n",
    "\n",
    "    except psycopg2.DatabaseError as e:\n",
    "        return f\"Database error: {str(e)}\"\n",
    "    except Exception as e:\n",
    "        return f\"Failed to place order. Error: {str(e)}\"\n",
    "\n",
    "    finally:\n",
    "        if conn:\n",
    "            conn.close()\n"
   ]
  },
  {
   "cell_type": "code",
   "execution_count": null,
   "id": "8d25a84d",
   "metadata": {},
   "outputs": [],
   "source": [
    "#Scenario 4\n",
    "\n",
    "import psycopg2\n",
    "def get_order_history(customer_id):\n",
    "    try:\n",
    "        conn = psycopg2.connect(database=\"yourdb\", user=\"youruser\", password=\"yourpassword\", host=\"yourhost\", port=\"yourport\")\n",
    "        cursor = conn.cursor()\n",
    "        cursor.execute(\"SELECT * FROM orders WHERE customer_id = %s\", (customer_id,))\n",
    "        orders = cursor.fetchall()\n",
    "\n",
    "        if not orders:\n",
    "            return \"No order history found.\"\n",
    "\n",
    "        return orders\n",
    "\n",
    "    except psycopg2.DatabaseError as e:\n",
    "        return f\"Database error: {str(e)}\"\n",
    "    except Exception as e:\n",
    "        return f\"Failed to retrieve order history. Error: {str(e)}\"\n",
    "\n",
    "    finally:\n",
    "        if conn:\n",
    "            conn.close()\n"
   ]
  },
  {
   "cell_type": "markdown",
   "id": "74ea1767",
   "metadata": {},
   "source": [
    "3. Ensure that the program continues to run smoothly even when exceptions occur, and customers receive informative feedback.\n",
    "\n"
   ]
  },
  {
   "cell_type": "markdown",
   "id": "c42dd693",
   "metadata": {},
   "source": [
    "To ensure that the program continues to run smoothly even when exceptions occur, make sure that you handle exceptions gracefully and provide informative feedback to users. Ensure that any database transactions are properly committed or rolled back in case of exceptions to maintain data integrity."
   ]
  },
  {
   "cell_type": "markdown",
   "id": "c5fe7b35",
   "metadata": {},
   "source": [
    "4. Implement database queries and transactions following best practices to maintain data Integrity."
   ]
  },
  {
   "cell_type": "markdown",
   "id": "1e8d61ca",
   "metadata": {},
   "source": [
    "Implement database queries and transactions following best practices to maintain data integrity. This includes using proper indexes, enforcing constraints, and handling transactions appropriately."
   ]
  },
  {
   "cell_type": "markdown",
   "id": "0be13c9f",
   "metadata": {},
   "source": [
    "5. Test the website's database interactions thoroughly with different scenarios to ensure that it handles exceptions correctly.\n"
   ]
  },
  {
   "cell_type": "markdown",
   "id": "615bd054",
   "metadata": {},
   "source": [
    "Test the website's database interactions thoroughly with different scenarios to ensure that it handles exceptions correctly. Test cases should cover both expected and unexpected scenarios to validate the exception handling and error messages."
   ]
  },
  {
   "cell_type": "markdown",
   "id": "b21577e5",
   "metadata": {},
   "source": [
    "6. Read a text file containing a list of names or numbers, sort the data, and write the sorted data back to a new file.\n"
   ]
  },
  {
   "cell_type": "code",
   "execution_count": 7,
   "id": "84a9c940",
   "metadata": {},
   "outputs": [
    {
     "name": "stdout",
     "output_type": "stream",
     "text": [
      "Data has been sorted and written to 'output.txt'.\n"
     ]
    }
   ],
   "source": [
    "input_file = \"input.txt\"\n",
    "output_file = \"output.txt\"\n",
    "try:\n",
    "    with open(input_file, \"r\") as file:\n",
    "        data = file.readlines()\n",
    "except FileNotFoundError:\n",
    "    print(f\"The input file '{input_file}' was not found.\")\n",
    "    exit(1)\n",
    "except Exception as e:\n",
    "    print(f\"An error occurred while reading the input file: {e}\")\n",
    "    exit(1)\n",
    "data = [line.strip() for line in data]\n",
    "data.sort()\n",
    "try:\n",
    "    with open(output_file, \"w\") as file:\n",
    "        file.write(\"\\n\".join(data))\n",
    "except Exception as e:\n",
    "    print(f\"An error occurred while writing to the output file: {e}\")\n",
    "    exit(1)\n",
    "\n",
    "print(f\"Data has been sorted and written to '{output_file}'.\")\n"
   ]
  },
  {
   "cell_type": "markdown",
   "id": "9367cfdb",
   "metadata": {},
   "source": [
    "7. Write a Python script that compares two text files and identifies the differences between\n",
    "them, including added, modified, and deleted lines.\n",
    "\n"
   ]
  },
  {
   "cell_type": "code",
   "execution_count": 1,
   "id": "a1c619cb",
   "metadata": {},
   "outputs": [
    {
     "name": "stdout",
     "output_type": "stream",
     "text": [
      "Added lines:\n",
      "+ \n",
      "+ pradhan\n",
      "Modified lines:\n",
      "\n",
      "Deleted lines:\n",
      "- hitesh"
     ]
    }
   ],
   "source": [
    "import difflib\n",
    "file1_path = \"file1.txt\"\n",
    "file2_path = \"file2.txt\"\n",
    "try:\n",
    "    with open(file1_path, \"r\") as file1, open(file2_path, \"r\") as file2:\n",
    "        lines1 = file1.readlines()\n",
    "        lines2 = file2.readlines()\n",
    "except FileNotFoundError:\n",
    "    print(\"One or both files not found.\")\n",
    "    exit(1)\n",
    "except Exception as e:\n",
    "    print(f\"An error occurred while reading the files: {e}\")\n",
    "    exit(1)\n",
    "differ = difflib.Differ()\n",
    "diff = list(differ.compare(lines1, lines2))\n",
    "added_lines = []\n",
    "modified_lines = []\n",
    "deleted_lines = []\n",
    "for line in diff:\n",
    "    if line.startswith('+ '):\n",
    "        added_lines.append(line[2:])\n",
    "    elif line.startswith('- '):\n",
    "        deleted_lines.append(line[2:])\n",
    "    elif line.startswith('  '):\n",
    "        modified_lines.append(line[2:])\n",
    "print(\"Added lines:\")\n",
    "for line in added_lines:\n",
    "    print(f\"+ {line}\", end='')\n",
    "print(\"\\nModified lines:\")\n",
    "for line in modified_lines:\n",
    "    print(f\"  {line}\", end='')\n",
    "print(\"\\nDeleted lines:\")\n",
    "for line in deleted_lines:\n",
    "    print(f\"- {line}\", end='')\n"
   ]
  },
  {
   "cell_type": "markdown",
   "id": "f325db61",
   "metadata": {},
   "source": [
    "8. Develop a Python program that compresses a large text file using a compression algorithm (eg, grip) and then decompresses it back to its original form.\n"
   ]
  },
  {
   "cell_type": "code",
   "execution_count": 10,
   "id": "9747b042",
   "metadata": {},
   "outputs": [
    {
     "name": "stdout",
     "output_type": "stream",
     "text": [
      "The input file 'large_text.txt' was not found.\n",
      "File 'large_text.txt' has been compressed to 'compressed_text.gz'.\n",
      "The compressed file 'compressed_text.gz' was not found.\n",
      "File 'compressed_text.gz' has been decompressed to 'decompressed_text.txt'.\n"
     ]
    }
   ],
   "source": [
    "import gzip\n",
    "input_file = \"large_text.txt\"\n",
    "compressed_file = \"compressed_text.gz\"\n",
    "decompressed_file = \"decompressed_text.txt\"\n",
    "try:\n",
    "    with open(input_file, 'rb') as f_in, gzip.open(compressed_file, 'wb') as f_out:\n",
    "        f_out.writelines(f_in)\n",
    "except FileNotFoundError:\n",
    "    print(f\"The input file '{input_file}' was not found.\")\n",
    "    exit(1)\n",
    "except Exception as e:\n",
    "    print(f\"An error occurred while compressing the file: {e}\")\n",
    "    exit(1)\n",
    "\n",
    "print(f\"File '{input_file}' has been compressed to '{compressed_file}'.\")\n",
    "try:\n",
    "    with gzip.open(compressed_file, 'rb') as f_in, open(decompressed_file, 'wb') as f_out:\n",
    "        f_out.writelines(f_in)\n",
    "except FileNotFoundError:\n",
    "    print(f\"The compressed file '{compressed_file}' was not found.\")\n",
    "    exit(1)\n",
    "except Exception as e:\n",
    "    print(f\"An error occurred while decompressing the file: {e}\")\n",
    "    exit(1)\n",
    "\n",
    "print(f\"File '{compressed_file}' has been decompressed to '{decompressed_file}'.\")\n"
   ]
  },
  {
   "cell_type": "markdown",
   "id": "f9d49719",
   "metadata": {},
   "source": [
    "9. Read a binary file (e.g, an image or audio file) in Python and perform an operation, such as resizing an image or modifying audio data.\n"
   ]
  },
  {
   "cell_type": "code",
   "execution_count": 33,
   "id": "014910ee",
   "metadata": {},
   "outputs": [],
   "source": [
    "from PIL import Image\n",
    "input_image = Image.open('input_image.jpg')\n",
    "new_size = (300, 200)\n",
    "resized_image = input_image.resize(new_size)\n",
    "resized_image.save('resized_image.jpg')\n"
   ]
  },
  {
   "cell_type": "markdown",
   "id": "fe75e37e",
   "metadata": {},
   "source": [
    "10. Write a python program to Combine the contents of multiple text files into a single file using Python. Each file should be appended to the end of the resulting file.\n"
   ]
  },
  {
   "cell_type": "code",
   "execution_count": 31,
   "id": "e1d695d9",
   "metadata": {},
   "outputs": [
    {
     "name": "stdout",
     "output_type": "stream",
     "text": [
      "Contents of 3 files have been combined into 'combined_output.txt'.\n"
     ]
    }
   ],
   "source": [
    "input_files = [\"file1.txt\", \"file2.txt\", \"file3.txt\"]\n",
    "output_file = \"combined_output.txt\"\n",
    "\n",
    "try:\n",
    "    with open(output_file, \"w\") as combined_file:\n",
    "        for input_file in input_files:\n",
    "            with open(input_file, \"r\") as file_to_append:\n",
    "                combined_file.write(file_to_append.read())\n",
    "                combined_file.write(\"\\n\")\n",
    "except FileNotFoundError:\n",
    "    print(\"One or more input files were not found.\")\n",
    "except Exception as e:\n",
    "    print(f\"An error occurred: {e}\")\n",
    "else:\n",
    "    print(f\"Contents of {len(input_files)} files have been combined into '{output_file}'.\")\n"
   ]
  },
  {
   "cell_type": "markdown",
   "id": "4ad34c44",
   "metadata": {},
   "source": [
    "11. Create a Python script that accepts a text file as a command-line argument and counts the\n",
    "number of words, lines, and characters in the file.\n"
   ]
  },
  {
   "cell_type": "code",
   "execution_count": 23,
   "id": "0b9bef01",
   "metadata": {},
   "outputs": [
    {
     "name": "stderr",
     "output_type": "stream",
     "text": [
      "usage: ipykernel_launcher.py [-h] file\n",
      "ipykernel_launcher.py: error: unrecognized arguments: -f\n"
     ]
    },
    {
     "ename": "SystemExit",
     "evalue": "2",
     "output_type": "error",
     "traceback": [
      "An exception has occurred, use %tb to see the full traceback.\n",
      "\u001b[1;31mSystemExit\u001b[0m\u001b[1;31m:\u001b[0m 2\n"
     ]
    }
   ],
   "source": [
    "import argparse\n",
    "\n",
    "def count_words_lines_chars(file_path):\n",
    "    try:\n",
    "        with open(file_path, 'r', encoding='utf-8') as file:\n",
    "            text = file.read()\n",
    "            words = text.split()\n",
    "            word_count = len(words)\n",
    "            lines = text.split('\\n')\n",
    "            line_count = len(lines)\n",
    "            char_count = len(text)\n",
    "            return word_count, line_count, char_count\n",
    "    except FileNotFoundError:\n",
    "        return None \n",
    "    except Exception as e:\n",
    "        print(f\"An error occurred: {e}\")\n",
    "        return None\n",
    "\n",
    "if __name__ == '__main__':\n",
    "    parser = argparse.ArgumentParser(description='Count words, lines, and characters in a text file.')\n",
    "    parser.add_argument('file', type=str, help='Path to the input text file')\n",
    "\n",
    "    args = parser.parse_args()\n",
    "\n",
    "    file_path = args.file\n",
    "    counts = count_words_lines_chars(file_path)\n",
    "\n",
    "    if counts is not None:\n",
    "        word_count, line_count, char_count = counts\n",
    "        print(f\"Word count: {word_count}\")\n",
    "        print(f\"Line count: {line_count}\")\n",
    "        print(f\"Character count: {char_count}\")\n",
    "    else:\n",
    "        print(\"File not found or an error occurred.\")\n"
   ]
  },
  {
   "cell_type": "markdown",
   "id": "2184d25e",
   "metadata": {},
   "source": [
    "# 12. Build a command-line calculator that accepts a mathematical expression as a string argument and evaluates it, then prints the result.\n"
   ]
  },
  {
   "cell_type": "code",
   "execution_count": 16,
   "id": "df731008",
   "metadata": {},
   "outputs": [],
   "source": [
    "import sys\n",
    "\n",
    "def calculate(expression):\n",
    "    try:\n",
    "        result = eval(expression)\n",
    "        return result\n",
    "    except Exception as e:\n",
    "        return f\"Error: {str(e)}\"\n",
    "\n",
    "if __name__ == \"_main_\":\n",
    "    if len(sys.argv) != 2:\n",
    "        print(\"Usage: python calculator.py 'mathematical_expression'\")\n",
    "    else:\n",
    "        input_expression = sys.argv[1]\n",
    "        result = calculate(input_expression)\n",
    "        print(f\"Result: {result}\")"
   ]
  },
  {
   "cell_type": "markdown",
   "id": "ed884ab5",
   "metadata": {},
   "source": [
    "13. Implement a Python script that takes a CSV file and two column names as command-line arguments. The script should calculate the average of values in one column and store the result in another column in the same file."
   ]
  },
  {
   "cell_type": "code",
   "execution_count": 25,
   "id": "7c6ae6a7",
   "metadata": {},
   "outputs": [
    {
     "name": "stderr",
     "output_type": "stream",
     "text": [
      "usage: ipykernel_launcher.py [-h] input_file output_file source_column target_column\n",
      "ipykernel_launcher.py: error: the following arguments are required: output_file, source_column, target_column\n"
     ]
    },
    {
     "ename": "SystemExit",
     "evalue": "2",
     "output_type": "error",
     "traceback": [
      "An exception has occurred, use %tb to see the full traceback.\n",
      "\u001b[1;31mSystemExit\u001b[0m\u001b[1;31m:\u001b[0m 2\n"
     ]
    }
   ],
   "source": [
    "import argparse\n",
    "import csv\n",
    "\n",
    "def calculate_average(input_file, output_file, source_column, target_column):\n",
    "    try:\n",
    "        with open(input_file, 'r') as infile, open(output_file, 'w', newline='') as outfile:\n",
    "            reader = csv.DictReader(infile)\n",
    "            fieldnames = reader.fieldnames + [target_column]\n",
    "\n",
    "            writer = csv.DictWriter(outfile, fieldnames=fieldnames)\n",
    "            writer.writeheader()\n",
    "\n",
    "            for row in reader:\n",
    "                try:\n",
    "                    values = [float(row[source_column]) for row in reader if row[source_column].strip() != '']\n",
    "                    if values:\n",
    "                        average = sum(values) / len(values)\n",
    "                        row[target_column] = average\n",
    "                    else:\n",
    "                        row[target_column] = ''\n",
    "                except ValueError:\n",
    "                    row[target_column] = ''\n",
    "                writer.writerow(row)\n",
    "    except FileNotFoundError:\n",
    "        print(f\"The input file '{input_file}' was not found.\")\n",
    "    except Exception as e:\n",
    "        print(f\"An error occurred: {e}\")\n",
    "if __name__ == '__main__':\n",
    "    parser = argparse.ArgumentParser(description='Calculate and store the average of values in a CSV file.')\n",
    "    parser.add_argument('input_file', type=str, help='Path to the input CSV file')\n",
    "    parser.add_argument('output_file', type=str, help='Path to the output CSV file')\n",
    "    parser.add_argument('source_column', type=str, help='Name of the source column for calculating the average')\n",
    "    parser.add_argument('target_column', type=str, help='Name of the target column to store the average')\n",
    "    args = parser.parse_args()\n",
    "    input_file = args.input_file\n",
    "    output_file = args.output_file\n",
    "    source_column = args.source_column\n",
    "    target_column = args.target_column\n",
    "    calculate_average(input_file, output_file, source_column, target_column)\n",
    "    print(f\"Average values calculated and stored in '{output_file}' under column '{target_column}'.\")"
   ]
  },
  {
   "cell_type": "markdown",
   "id": "782e3020",
   "metadata": {},
   "source": [
    "14. Write a Python script that takes two integer command-line arguments and prints their sum.\n"
   ]
  },
  {
   "cell_type": "code",
   "execution_count": null,
   "id": "79813a8c",
   "metadata": {},
   "outputs": [],
   "source": [
    "import argparse\n",
    "def add_numbers(num1, num2):\n",
    "    return num1 + num2\n",
    "if __name__ == '__main__':\n",
    "    parser = argparse.ArgumentParser(description='Add two integers.')\n",
    "    parser.add_argument('num1', type=int, help='First integer')\n",
    "    parser.add_argument('num2', type=int, help='Second integer')\n",
    "    args = parser.parse_args()\n",
    "    num1 = args.num1\n",
    "    num2 = args.num2\n",
    "    result = add_numbers(num1, num2)\n",
    "    print(f\"The sum of {num1} and {num2} is: {result}\")\n"
   ]
  },
  {
   "cell_type": "markdown",
   "id": "6083ad08",
   "metadata": {},
   "source": [
    "15. Create a custom Python module that includes functions to calculate the factorial of a number and to check if a number is prime. Import and use this module in another Python script.\n"
   ]
  },
  {
   "cell_type": "code",
   "execution_count": null,
   "id": "1068535b",
   "metadata": {},
   "outputs": [],
   "source": [
    "import math_functions\n",
    "num = 5\n",
    "fact = math_functions.factorial(num)\n",
    "print(f\"The factorial of {num} is {fact}\")\n",
    "num = 17\n",
    "if math_functions.is_prime(num):\n",
    "    print(f\"{num} is a prime number\")\n",
    "else:\n",
    "    print(f\"{num} is not a prime number\")\n"
   ]
  },
  {
   "cell_type": "markdown",
   "id": "cfeadea4",
   "metadata": {},
   "source": [
    "16. Create a Python module named calculator py that contains functions for each of the four operations (addition, subtraction, multiplication, and division). Each function should take two arguments, perform the respective operation, and return the result."
   ]
  },
  {
   "cell_type": "code",
   "execution_count": 18,
   "id": "f2f57785",
   "metadata": {},
   "outputs": [
    {
     "name": "stdout",
     "output_type": "stream",
     "text": [
      "Division result: 2.0\n",
      "Sum result: 15\n",
      "Difference result: 5\n",
      "Product result: 50\n"
     ]
    }
   ],
   "source": [
    "import calculator\n",
    "\n",
    "x = 10\n",
    "y = 5\n",
    "sum_result = calculator.add(x, y)\n",
    "difference_result = calculator.subtract(x, y)\n",
    "product_result = calculator.multiply(x, y)\n",
    "\n",
    "try:\n",
    "    division_result = calculator.divide(x, y)\n",
    "    print(f\"Division result: {division_result}\")\n",
    "except ValueError as e:\n",
    "    print(e)\n",
    "\n",
    "print(f\"Sum result: {sum_result}\")\n",
    "print(f\"Difference result: {difference_result}\")\n",
    "print(f\"Product result: {product_result}\")\n"
   ]
  }
 ],
 "metadata": {
  "kernelspec": {
   "display_name": "Python 3 (ipykernel)",
   "language": "python",
   "name": "python3"
  },
  "language_info": {
   "codemirror_mode": {
    "name": "ipython",
    "version": 3
   },
   "file_extension": ".py",
   "mimetype": "text/x-python",
   "name": "python",
   "nbconvert_exporter": "python",
   "pygments_lexer": "ipython3",
   "version": "3.11.4"
  }
 },
 "nbformat": 4,
 "nbformat_minor": 5
}
