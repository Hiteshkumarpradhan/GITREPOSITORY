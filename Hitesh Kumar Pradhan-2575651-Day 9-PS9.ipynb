{
 "cells": [
  {
   "cell_type": "markdown",
   "id": "a565074c",
   "metadata": {},
   "source": [
    "# 1. Create a 3x3x3 array with random values\n"
   ]
  },
  {
   "cell_type": "code",
   "execution_count": 2,
   "id": "d4220b89",
   "metadata": {},
   "outputs": [
    {
     "name": "stdout",
     "output_type": "stream",
     "text": [
      "[[[0.64352941 0.98670303 0.81532542]\n",
      "  [0.5828627  0.33085956 0.97257331]\n",
      "  [0.77561522 0.14524304 0.60316587]]\n",
      "\n",
      " [[0.37240118 0.7417699  0.74769363]\n",
      "  [0.84644065 0.66954959 0.89760027]\n",
      "  [0.57505025 0.28291302 0.71976461]]\n",
      "\n",
      " [[0.37806626 0.78013532 0.33967083]\n",
      "  [0.99119246 0.26774953 0.48875449]\n",
      "  [0.24618953 0.26267773 0.75466366]]]\n"
     ]
    }
   ],
   "source": [
    "import numpy as np\n",
    "random_array = np.random.rand(3, 3, 3)\n",
    "print(random_array)\n"
   ]
  },
  {
   "cell_type": "markdown",
   "id": "141a6eee",
   "metadata": {},
   "source": [
    "# 2. Create a 5x5 matrix with values 1,2,3,4 just below the diagonal\n"
   ]
  },
  {
   "cell_type": "code",
   "execution_count": 3,
   "id": "1794204e",
   "metadata": {},
   "outputs": [
    {
     "name": "stdout",
     "output_type": "stream",
     "text": [
      "[[0. 0. 0. 0. 0.]\n",
      " [1. 0. 0. 0. 0.]\n",
      " [0. 2. 0. 0. 0.]\n",
      " [0. 0. 3. 0. 0.]\n",
      " [0. 0. 0. 4. 0.]]\n"
     ]
    }
   ],
   "source": [
    "import numpy as np\n",
    "matrix = np.zeros((5, 5))\n",
    "for i in range(1, 5):\n",
    "    matrix[i, i - 1] = i\n",
    "print(matrix)"
   ]
  },
  {
   "cell_type": "markdown",
   "id": "22942e4c",
   "metadata": {},
   "source": [
    "# 3.Create a 8x8 matrix and fill it with a checkerboard pattern\n"
   ]
  },
  {
   "cell_type": "code",
   "execution_count": 4,
   "id": "26002f13",
   "metadata": {},
   "outputs": [
    {
     "name": "stdout",
     "output_type": "stream",
     "text": [
      "[[0 1 0 1 0 1 0 1]\n",
      " [1 0 1 0 1 0 1 0]\n",
      " [0 1 0 1 0 1 0 1]\n",
      " [1 0 1 0 1 0 1 0]\n",
      " [0 1 0 1 0 1 0 1]\n",
      " [1 0 1 0 1 0 1 0]\n",
      " [0 1 0 1 0 1 0 1]\n",
      " [1 0 1 0 1 0 1 0]]\n"
     ]
    }
   ],
   "source": [
    "import numpy as np\n",
    "checkerboard = np.zeros((8, 8), dtype=int)\n",
    "checkerboard[1::2, ::2] = 1\n",
    "checkerboard[::2, 1::2] = 1\n",
    "print(checkerboard)\n"
   ]
  },
  {
   "cell_type": "markdown",
   "id": "a767e27e",
   "metadata": {},
   "source": [
    "# 4. Normalize a 5x5 random matrix\n"
   ]
  },
  {
   "cell_type": "code",
   "execution_count": 5,
   "id": "90fd8cfa",
   "metadata": {},
   "outputs": [
    {
     "name": "stdout",
     "output_type": "stream",
     "text": [
      "Random Matrix:\n",
      "[[0.8306963  0.32501975 0.20823044 0.62801257 0.01646809]\n",
      " [0.14058438 0.56795566 0.31110412 0.63584014 0.1410791 ]\n",
      " [0.52037405 0.331975   0.2257696  0.56909773 0.24631531]\n",
      " [0.87396611 0.29559126 0.59995945 0.32662962 0.83842009]\n",
      " [0.1023739  0.00826448 0.94903626 0.6800779  0.49001336]]\n",
      "\n",
      "Normalized Matrix:\n",
      "[[ 1.46508922 -0.40491256 -0.83680173  0.7155608  -1.54594266]\n",
      " [-1.08695816  0.49346918 -0.45637284  0.74450731 -1.08512869]\n",
      " [ 0.31751144 -0.37919191 -0.77194157  0.49769257 -0.69596312]\n",
      " [ 1.6251018  -0.51373969  0.61181984 -0.39895925  1.49365195]\n",
      " [-1.22826127 -1.57627977  1.90271269  0.9080994   0.20523703]]\n"
     ]
    }
   ],
   "source": [
    "import numpy as np\n",
    "random_matrix = np.random.rand(5, 5)\n",
    "mean_value = random_matrix.mean()\n",
    "std_deviation = random_matrix.std()\n",
    "normalized_matrix = (random_matrix - mean_value) / std_deviation\n",
    "print(\"Random Matrix:\")\n",
    "print(random_matrix)\n",
    "print(\"\\nNormalized Matrix:\")\n",
    "print(normalized_matrix)"
   ]
  },
  {
   "cell_type": "markdown",
   "id": "e2d382a2",
   "metadata": {},
   "source": [
    "# 5. How to find common values between two arrays?"
   ]
  },
  {
   "cell_type": "code",
   "execution_count": 6,
   "id": "cdbd2a36",
   "metadata": {},
   "outputs": [
    {
     "name": "stdout",
     "output_type": "stream",
     "text": [
      "Common Values: [3 4 5]\n"
     ]
    }
   ],
   "source": [
    "import numpy as np\n",
    "array1 = np.array([1, 2, 3, 4, 5])\n",
    "array2 = np.array([3, 4, 5, 6, 7])\n",
    "common_values = np.intersect1d(array1, array2)\n",
    "print(\"Common Values:\", common_values)"
   ]
  },
  {
   "cell_type": "markdown",
   "id": "198fa342",
   "metadata": {},
   "source": [
    "# 6.How to get the dates of yesterday, today and tomorrow?\n"
   ]
  },
  {
   "cell_type": "code",
   "execution_count": 7,
   "id": "bb861f94",
   "metadata": {},
   "outputs": [
    {
     "name": "stdout",
     "output_type": "stream",
     "text": [
      "Yesterday: 2023-09-20\n",
      "Today: 2023-09-21\n",
      "Tomorrow: 2023-09-22\n"
     ]
    }
   ],
   "source": [
    "from datetime import datetime, timedelta\n",
    "today = datetime.today()\n",
    "yesterday = today - timedelta(days=1)\n",
    "tomorrow = today + timedelta(days=1)\n",
    "today_str = today.strftime('%Y-%m-%d')\n",
    "yesterday_str = yesterday.strftime('%Y-%m-%d')\n",
    "tomorrow_str = tomorrow.strftime('%Y-%m-%d')\n",
    "print(\"Yesterday:\", yesterday_str)\n",
    "print(\"Today:\", today_str)\n",
    "print(\"Tomorrow:\", tomorrow_str)\n"
   ]
  },
  {
   "cell_type": "markdown",
   "id": "704a0f79",
   "metadata": {},
   "source": [
    "# 7. Consider two random array A and B, check if they are equal"
   ]
  },
  {
   "cell_type": "code",
   "execution_count": 9,
   "id": "7651cc6f",
   "metadata": {},
   "outputs": [
    {
     "name": "stdout",
     "output_type": "stream",
     "text": [
      "Arrays A and B are not equal.\n"
     ]
    }
   ],
   "source": [
    "import numpy as np\n",
    "A = np.random.rand(7, 7)\n",
    "B = np.random.rand(7, 7)\n",
    "if np.array_equal(A, B):\n",
    "    print(\"Arrays A and B are equal.\")\n",
    "else:\n",
    "    print(\"Arrays A and B are not equal.\")"
   ]
  },
  {
   "cell_type": "markdown",
   "id": "f530da67",
   "metadata": {},
   "source": [
    "# 8.Create random vector of size 10 and replace the maximum value by 0"
   ]
  },
  {
   "cell_type": "code",
   "execution_count": 10,
   "id": "bd23f8c0",
   "metadata": {},
   "outputs": [
    {
     "name": "stdout",
     "output_type": "stream",
     "text": [
      "Random vector with the maximum value replaced:\n",
      "[0.64786947 0.         0.17131519 0.06825377 0.30865736 0.49700241\n",
      " 0.28488897 0.26413226 0.64150838 0.91151509]\n"
     ]
    }
   ],
   "source": [
    "import numpy as np\n",
    "random_vector = np.random.rand(10)\n",
    "max_index = np.argmax(random_vector)\n",
    "random_vector[max_index] = 0\n",
    "print(\"Random vector with the maximum value replaced:\")\n",
    "print(random_vector)"
   ]
  },
  {
   "cell_type": "markdown",
   "id": "0f5900f0",
   "metadata": {},
   "source": [
    "# 9. How to print all the values of an array?\n"
   ]
  },
  {
   "cell_type": "code",
   "execution_count": 12,
   "id": "39a11bf3",
   "metadata": {},
   "outputs": [
    {
     "name": "stdout",
     "output_type": "stream",
     "text": [
      "5\n",
      "4\n",
      "3\n",
      "2\n",
      "1\n"
     ]
    }
   ],
   "source": [
    "import numpy as np\n",
    "arr = np.array([5, 4, 3, 2, 1])\n",
    "for element in np.nditer(arr):\n",
    "    print(element)\n"
   ]
  },
  {
   "cell_type": "markdown",
   "id": "f80e25f8",
   "metadata": {},
   "source": [
    "# 10.Subtract the mean of each row of a matrix\n"
   ]
  },
  {
   "cell_type": "code",
   "execution_count": 13,
   "id": "82031f89",
   "metadata": {},
   "outputs": [
    {
     "name": "stdout",
     "output_type": "stream",
     "text": [
      "Original Matrix:\n",
      "[[0.03210748 0.79938351 0.88196113 0.4220054 ]\n",
      " [0.1821095  0.27100033 0.75756025 0.82091838]\n",
      " [0.34695976 0.19710726 0.25643018 0.83637799]\n",
      " [0.61389164 0.72102713 0.80735868 0.29189092]]\n",
      "\n",
      "Matrix with row means subtracted:\n",
      "[[-0.5017569   0.26551913  0.34809675 -0.11185898]\n",
      " [-0.32578761 -0.23689678  0.24966313  0.31302126]\n",
      " [-0.06225904 -0.21211154 -0.15278862  0.42715919]\n",
      " [ 0.00534955  0.11248504  0.19881658 -0.31665117]]\n"
     ]
    }
   ],
   "source": [
    "import numpy as np\n",
    "matrix = np.random.rand(4, 4)\n",
    "row_means = np.mean(matrix, axis=1, keepdims=True)\n",
    "normalized_matrix = matrix - row_means\n",
    "print(\"Original Matrix:\")\n",
    "print(matrix)\n",
    "print(\"\\nMatrix with row means subtracted:\")\n",
    "print(normalized_matrix)\n"
   ]
  },
  {
   "cell_type": "markdown",
   "id": "8ec70636",
   "metadata": {},
   "source": [
    "# 11.Consider a given vector, how to add 1 to each element indexed by a second vector (be careful with repeated indices)?\n"
   ]
  },
  {
   "cell_type": "code",
   "execution_count": 14,
   "id": "2e6e33b9",
   "metadata": {},
   "outputs": [
    {
     "name": "stdout",
     "output_type": "stream",
     "text": [
      "[2 2 4 4 6]\n"
     ]
    }
   ],
   "source": [
    "import numpy as np\n",
    "vector = np.array([1, 2, 3, 4, 5])\n",
    "indices_to_add_one = np.array([0, 2, 4])\n",
    "unique_indices = np.unique(indices_to_add_one)\n",
    "vector[unique_indices] += 1\n",
    "print(vector)"
   ]
  },
  {
   "cell_type": "markdown",
   "id": "ae42c5ff",
   "metadata": {},
   "source": [
    "# 12.How to get the diagonal of a dot product?\n"
   ]
  },
  {
   "cell_type": "code",
   "execution_count": 15,
   "id": "fa90343c",
   "metadata": {},
   "outputs": [
    {
     "name": "stdout",
     "output_type": "stream",
     "text": [
      "Dot Product:\n",
      "[[ 30  24  18]\n",
      " [ 84  69  54]\n",
      " [138 114  90]]\n",
      "\n",
      "Diagonal of the Dot Product:\n",
      "[30 69 90]\n"
     ]
    }
   ],
   "source": [
    "import numpy as np\n",
    "matrix_A = np.array([[1, 2, 3],\n",
    "                     [4, 5, 6],\n",
    "                     [7, 8, 9]])\n",
    "matrix_B = np.array([[9, 8, 7],\n",
    "                     [6, 5, 4],\n",
    "                     [3, 2, 1]])\n",
    "dot_product = np.dot(matrix_A, matrix_B)\n",
    "diagonal = np.diagonal(dot_product)\n",
    "print(\"Dot Product:\")\n",
    "print(dot_product)\n",
    "print(\"\\nDiagonal of the Dot Product:\")\n",
    "print(diagonal)"
   ]
  },
  {
   "cell_type": "markdown",
   "id": "32b4839e",
   "metadata": {},
   "source": [
    "# 13.How to find the most frequent value in an array?\n"
   ]
  },
  {
   "cell_type": "code",
   "execution_count": 17,
   "id": "427d06c2",
   "metadata": {},
   "outputs": [
    {
     "name": "stdout",
     "output_type": "stream",
     "text": [
      "Array: [1 2 2 3 3 3 4 4 4 4 5 5 5 5 5]\n",
      "Most frequent value: 5\n",
      "Frequency: 5\n"
     ]
    }
   ],
   "source": [
    "import numpy as np\n",
    "arr = np.array([1, 2, 2, 3, 3, 3, 4, 4, 4, 4, 5, 5, 5, 5, 5])\n",
    "unique_elements, counts = np.unique(arr, return_counts=True)\n",
    "most_frequent_index = np.argmax(counts)\n",
    "most_frequent_value = unique_elements[most_frequent_index]\n",
    "print(\"Array:\", arr)\n",
    "print(\"Most frequent value:\", most_frequent_value)\n",
    "print(\"Frequency:\", counts[most_frequent_index])\n"
   ]
  },
  {
   "cell_type": "markdown",
   "id": "ba3c0d7f",
   "metadata": {},
   "source": [
    "# 14.How to get the n largest values of an array\n"
   ]
  },
  {
   "cell_type": "code",
   "execution_count": 20,
   "id": "4a749a20",
   "metadata": {},
   "outputs": [
    {
     "name": "stdout",
     "output_type": "stream",
     "text": [
      "Array: [70  1 88  1  5 90  2  6  5  3]\n",
      "3 largest values: [70 88 90]\n"
     ]
    }
   ],
   "source": [
    "import numpy as np\n",
    "arr = np.array([70, 1, 88, 1, 5, 90, 2, 6, 5, 3])\n",
    "n = 3\n",
    "largest_indices = np.argsort(arr)[-n:]\n",
    "largest_values = arr[largest_indices]\n",
    "print(\"Array:\", arr)\n",
    "print(f\"{n} largest values:\", largest_values)"
   ]
  },
  {
   "cell_type": "markdown",
   "id": "3351afd7",
   "metadata": {},
   "source": [
    "# 15. How to create a record array from a regular array?\n"
   ]
  },
  {
   "cell_type": "code",
   "execution_count": 21,
   "id": "9e3bfb51",
   "metadata": {},
   "outputs": [
    {
     "name": "stdout",
     "output_type": "stream",
     "text": [
      "Record Array:\n",
      "((1, 'Hitesh', 23), (2, 'Nikhil', 28), (3, 'Jeet', 25))\n"
     ]
    }
   ],
   "source": [
    "import numpy as np\n",
    "regular_array = np.array([(1, 'Hitesh', 23),\n",
    "                          (2, 'Nikhil', 28),\n",
    "                          (3, 'Jeet', 25)],\n",
    "                          dtype=[('ID', int), ('Name', 'U10'), ('Age', int)])\n",
    "record_array = np.rec.fromarrays(regular_array.T, names=regular_array.dtype.names)\n",
    "print(\"Record Array:\")\n",
    "print(record_array)"
   ]
  },
  {
   "cell_type": "markdown",
   "id": "478bc3ce",
   "metadata": {},
   "source": [
    "# 16. How to swap two rows of an array?\n"
   ]
  },
  {
   "cell_type": "code",
   "execution_count": 23,
   "id": "d33076f1",
   "metadata": {},
   "outputs": [
    {
     "name": "stdout",
     "output_type": "stream",
     "text": [
      "Array with rows swapped:\n",
      "[[1 2 3]\n",
      " [7 8 9]\n",
      " [7 8 9]]\n"
     ]
    }
   ],
   "source": [
    "import numpy as np\n",
    "array = np.array([[1, 2, 3],\n",
    "                  [4, 5, 6],\n",
    "                  [7, 8, 9]])\n",
    "row1_index = 1 \n",
    "row2_index = 2 \n",
    "array[row1_index], array[row2_index] = array[row2_index], array[row1_index]\n",
    "print(\"Array with rows swapped:\")\n",
    "print(array)"
   ]
  },
  {
   "cell_type": "markdown",
   "id": "dda13af9",
   "metadata": {},
   "source": [
    "# 17. Write python code to reshape to the next dimension of numpy array?\n",
    "\n"
   ]
  },
  {
   "cell_type": "code",
   "execution_count": 24,
   "id": "6b498ea4",
   "metadata": {},
   "outputs": [
    {
     "name": "stdout",
     "output_type": "stream",
     "text": [
      "Original Array:\n",
      "[1 2 3 4 5 6]\n",
      "\n",
      "Reshaped Array:\n",
      "[[1 2 3]\n",
      " [4 5 6]]\n"
     ]
    }
   ],
   "source": [
    "import numpy as np\n",
    "original_array = np.array([1, 2, 3, 4, 5, 6])\n",
    "reshaped_array = np.reshape(original_array, (2, -1))\n",
    "print(\"Original Array:\")\n",
    "print(original_array)\n",
    "print(\"\\nReshaped Array:\")\n",
    "print(reshaped_array)"
   ]
  }
 ],
 "metadata": {
  "kernelspec": {
   "display_name": "Python 3 (ipykernel)",
   "language": "python",
   "name": "python3"
  },
  "language_info": {
   "codemirror_mode": {
    "name": "ipython",
    "version": 3
   },
   "file_extension": ".py",
   "mimetype": "text/x-python",
   "name": "python",
   "nbconvert_exporter": "python",
   "pygments_lexer": "ipython3",
   "version": "3.11.4"
  }
 },
 "nbformat": 4,
 "nbformat_minor": 5
}
